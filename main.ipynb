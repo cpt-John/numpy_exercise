{
  "cells": [
    {
      "cell_type": "markdown",
      "metadata": {
        "id": "tTEsEACoiaV9"
      },
      "source": [
        "# Numpy\n"
      ]
    },
    {
      "cell_type": "markdown",
      "metadata": {
        "id": "cISvMADCiaWF"
      },
      "source": [
        "#### 1. Import the numpy package under the name `np` (★☆☆)\n",
        "\n",
        "(**hint**: import … as …)\n"
      ]
    },
    {
      "cell_type": "code",
      "execution_count": 50,
      "metadata": {
        "collapsed": true,
        "id": "Ehj8IOLtiaWH"
      },
      "outputs": [],
      "source": [
        "import numpy as np\n"
      ]
    },
    {
      "cell_type": "markdown",
      "metadata": {
        "id": "eaw7KENSiaWI"
      },
      "source": [
        "#### 2. Print the numpy version and the configuration (★☆☆)\n",
        "\n",
        "(**hint**: np.\\_\\_version\\_\\_, np.show_config)\n"
      ]
    },
    {
      "cell_type": "code",
      "execution_count": 51,
      "metadata": {
        "id": "EjS3gM8FiaWJ"
      },
      "outputs": [
        {
          "name": "stdout",
          "output_type": "stream",
          "text": [
            "1.21.4\n",
            "blas_mkl_info:\n",
            "  NOT AVAILABLE\n",
            "blis_info:\n",
            "  NOT AVAILABLE\n",
            "openblas_info:\n",
            "    libraries = ['openblas', 'openblas']\n",
            "    library_dirs = ['/usr/local/lib']\n",
            "    language = c\n",
            "    define_macros = [('HAVE_CBLAS', None)]\n",
            "    runtime_library_dirs = ['/usr/local/lib']\n",
            "blas_opt_info:\n",
            "    libraries = ['openblas', 'openblas']\n",
            "    library_dirs = ['/usr/local/lib']\n",
            "    language = c\n",
            "    define_macros = [('HAVE_CBLAS', None)]\n",
            "    runtime_library_dirs = ['/usr/local/lib']\n",
            "lapack_mkl_info:\n",
            "  NOT AVAILABLE\n",
            "openblas_lapack_info:\n",
            "    libraries = ['openblas', 'openblas']\n",
            "    library_dirs = ['/usr/local/lib']\n",
            "    language = c\n",
            "    define_macros = [('HAVE_CBLAS', None)]\n",
            "    runtime_library_dirs = ['/usr/local/lib']\n",
            "lapack_opt_info:\n",
            "    libraries = ['openblas', 'openblas']\n",
            "    library_dirs = ['/usr/local/lib']\n",
            "    language = c\n",
            "    define_macros = [('HAVE_CBLAS', None)]\n",
            "    runtime_library_dirs = ['/usr/local/lib']\n",
            "Supported SIMD extensions in this NumPy install:\n",
            "    baseline = SSE,SSE2,SSE3\n",
            "    found = SSSE3,SSE41,POPCNT,SSE42,AVX,F16C,FMA3,AVX2\n",
            "    not found = AVX512F,AVX512CD,AVX512_KNL,AVX512_KNM,AVX512_SKX,AVX512_CLX,AVX512_CNL,AVX512_ICL\n"
          ]
        }
      ],
      "source": [
        "print(np.__version__)\n",
        "np.show_config()\n"
      ]
    },
    {
      "cell_type": "markdown",
      "metadata": {
        "id": "YpyQ0CLriaWJ"
      },
      "source": [
        "#### 3. Create a null vector of size 10 (★☆☆)\n",
        "\n",
        "(**hint**: np.zeros)\n"
      ]
    },
    {
      "cell_type": "code",
      "execution_count": 52,
      "metadata": {
        "id": "45X4OGnIiaWK"
      },
      "outputs": [
        {
          "data": {
            "text/plain": [
              "array([0., 0., 0., 0., 0., 0., 0., 0., 0., 0.])"
            ]
          },
          "execution_count": 52,
          "metadata": {},
          "output_type": "execute_result"
        }
      ],
      "source": [
        "np.zeros(10)\n"
      ]
    },
    {
      "cell_type": "markdown",
      "metadata": {
        "id": "p9_JAcNWiaWL"
      },
      "source": [
        "#### 4. How to find the memory size of any array (★☆☆)\n",
        "\n",
        "(**hint**: size, itemsize)\n"
      ]
    },
    {
      "cell_type": "code",
      "execution_count": 53,
      "metadata": {
        "id": "4dpcnRe_iaWM"
      },
      "outputs": [
        {
          "data": {
            "text/plain": [
              "80"
            ]
          },
          "execution_count": 53,
          "metadata": {},
          "output_type": "execute_result"
        }
      ],
      "source": [
        "vec = np.zeros(10)\n",
        "vec.size * vec.itemsize\n"
      ]
    },
    {
      "cell_type": "markdown",
      "metadata": {
        "id": "4znzRX97iaWN"
      },
      "source": [
        "#### 5. How to get the documentation of the numpy add function from the command line? (★☆☆)\n",
        "\n",
        "(**hint**: np.info)\n"
      ]
    },
    {
      "cell_type": "code",
      "execution_count": 54,
      "metadata": {
        "collapsed": true,
        "id": "jVdvbFDQiaWN"
      },
      "outputs": [
        {
          "name": "stdout",
          "output_type": "stream",
          "text": [
            "     *** Found in numpy ***\n",
            "add(x1, x2, /, out=None, *, where=True, casting='same_kind', order='K', dtype=None, subok=True[, signature, extobj])\n",
            "\n",
            "Add arguments element-wise.\n",
            "\n",
            "Parameters\n",
            "----------\n",
            "x1, x2 : array_like\n",
            "    The arrays to be added.\n",
            "    If ``x1.shape != x2.shape``, they must be broadcastable to a common\n",
            "    shape (which becomes the shape of the output).\n",
            "out : ndarray, None, or tuple of ndarray and None, optional\n",
            "    A location into which the result is stored. If provided, it must have\n",
            "    a shape that the inputs broadcast to. If not provided or None,\n",
            "    a freshly-allocated array is returned. A tuple (possible only as a\n",
            "    keyword argument) must have length equal to the number of outputs.\n",
            "where : array_like, optional\n",
            "    This condition is broadcast over the input. At locations where the\n",
            "    condition is True, the `out` array will be set to the ufunc result.\n",
            "    Elsewhere, the `out` array will retain its original value.\n",
            "    Note that if an uninitialized `out` array is created via the default\n",
            "    ``out=None``, locations within it where the condition is False will\n",
            "    remain uninitialized.\n",
            "**kwargs\n",
            "    For other keyword-only arguments, see the\n",
            "    :ref:`ufunc docs <ufuncs.kwargs>`.\n",
            "\n",
            "Returns\n",
            "-------\n",
            "add : ndarray or scalar\n",
            "    The sum of `x1` and `x2`, element-wise.\n",
            "    This is a scalar if both `x1` and `x2` are scalars.\n",
            "\n",
            "Notes\n",
            "-----\n",
            "Equivalent to `x1` + `x2` in terms of array broadcasting.\n",
            "\n",
            "Examples\n",
            "--------\n",
            ">>> np.add(1.0, 4.0)\n",
            "5.0\n",
            ">>> x1 = np.arange(9.0).reshape((3, 3))\n",
            ">>> x2 = np.arange(3.0)\n",
            ">>> np.add(x1, x2)\n",
            "array([[  0.,   2.,   4.],\n",
            "       [  3.,   5.,   7.],\n",
            "       [  6.,   8.,  10.]])\n",
            "\n",
            "The ``+`` operator can be used as a shorthand for ``np.add`` on ndarrays.\n",
            "\n",
            ">>> x1 = np.arange(9.0).reshape((3, 3))\n",
            ">>> x2 = np.arange(3.0)\n",
            ">>> x1 + x2\n",
            "array([[ 0.,  2.,  4.],\n",
            "       [ 3.,  5.,  7.],\n",
            "       [ 6.,  8., 10.]])\n",
            "----------------------------------------------------------------------------\n",
            "\n",
            "     *** Repeat reference found in numpy.core *** \n",
            "     *** Found in numpy.core.defchararray ***\n",
            " add(x1, x2)\n",
            "\n",
            "Return element-wise string concatenation for two arrays of str or unicode.\n",
            "\n",
            "Arrays `x1` and `x2` must have the same shape.\n",
            "\n",
            "Parameters\n",
            "----------\n",
            "x1 : array_like of str or unicode\n",
            "    Input array.\n",
            "x2 : array_like of str or unicode\n",
            "    Input array.\n",
            "\n",
            "Returns\n",
            "-------\n",
            "add : ndarray\n",
            "    Output array of `string_` or `unicode_`, depending on input types\n",
            "    of the same shape as `x1` and `x2`.\n",
            "----------------------------------------------------------------------------\n",
            "     *** Found in numpy.ma ***\n",
            "add(x1, x2, /, out=None, *, where=True, casting='same_kind', order='K', dtype=None, subok=True[, signature, extobj])\n",
            "\n",
            "Add arguments element-wise.\n",
            "\n",
            "Parameters\n",
            "----------\n",
            "x1, x2 : array_like\n",
            "    The arrays to be added.\n",
            "    If ``x1.shape != x2.shape``, they must be broadcastable to a common\n",
            "    shape (which becomes the shape of the output).\n",
            "out : ndarray, None, or tuple of ndarray and None, optional\n",
            "    A location into which the result is stored. If provided, it must have\n",
            "    a shape that the inputs broadcast to. If not provided or None,\n",
            "    a freshly-allocated array is returned. A tuple (possible only as a\n",
            "    keyword argument) must have length equal to the number of outputs.\n",
            "where : array_like, optional\n",
            "    This condition is broadcast over the input. At locations where the\n",
            "    condition is True, the `out` array will be set to the ufunc result.\n",
            "    Elsewhere, the `out` array will retain its original value.\n",
            "    Note that if an uninitialized `out` array is created via the default\n",
            "    ``out=None``, locations within it where the condition is False will\n",
            "    remain uninitialized.\n",
            "**kwargs\n",
            "    For other keyword-only arguments, see the\n",
            "    :ref:`ufunc docs <ufuncs.kwargs>`.\n",
            "\n",
            "Returns\n",
            "-------\n",
            "add : ndarray or scalar\n",
            "    The sum of `x1` and `x2`, element-wise.\n",
            "    This is a scalar if both `x1` and `x2` are scalars.\n",
            "\n",
            "Notes\n",
            "-----\n",
            "Equivalent to `x1` + `x2` in terms of array broadcasting.\n",
            "\n",
            "Examples\n",
            "--------\n",
            ">>> np.add(1.0, 4.0)\n",
            "5.0\n",
            ">>> x1 = np.arange(9.0).reshape((3, 3))\n",
            ">>> x2 = np.arange(3.0)\n",
            ">>> np.add(x1, x2)\n",
            "array([[  0.,   2.,   4.],\n",
            "       [  3.,   5.,   7.],\n",
            "       [  6.,   8.,  10.]])\n",
            "\n",
            "The ``+`` operator can be used as a shorthand for ``np.add`` on ndarrays.\n",
            "\n",
            ">>> x1 = np.arange(9.0).reshape((3, 3))\n",
            ">>> x2 = np.arange(3.0)\n",
            ">>> x1 + x2\n",
            "array([[ 0.,  2.,  4.],\n",
            "       [ 3.,  5.,  7.],\n",
            "       [ 6.,  8., 10.]])\n",
            "----------------------------------------------------------------------------\n",
            "\n",
            "     *** Repeat reference found in numpy.core._multiarray_umath *** \n",
            "\n",
            "     *** Repeat reference found in numpy.core.multiarray *** \n",
            "\n",
            "     *** Repeat reference found in numpy.core.umath *** \n",
            "\n",
            "     *** Repeat reference found in numpy.core.numeric *** \n",
            "\n",
            "     *** Repeat reference found in numpy.linalg.linalg *** \n",
            "\n",
            "     *** Repeat reference found in numpy.lib.function_base *** \n",
            "\n",
            "     *** Repeat reference found in numpy.ma.core *** \n",
            "\n",
            "     *** Repeat reference found in numpy.ma.extras *** \n",
            "     *** Found in operator ***\n",
            "Same as a + b.\n",
            "----------------------------------------------------------------------------\n",
            "\n",
            "     *** Total of 13 references found. ***\n"
          ]
        }
      ],
      "source": [
        "np.info('add')\n"
      ]
    },
    {
      "cell_type": "markdown",
      "metadata": {
        "id": "nGLcs9WOiaWO"
      },
      "source": [
        "#### 6. Create a null vector of size 10 but the fifth value which is 1 (★☆☆)\n",
        "\n",
        "(**hint**: array\\[4\\])\n"
      ]
    },
    {
      "cell_type": "code",
      "execution_count": 55,
      "metadata": {
        "id": "qsowhqa7iaWP"
      },
      "outputs": [
        {
          "data": {
            "text/plain": [
              "array([None, None, None, None, 1, None, None, None, None, None],\n",
              "      dtype=object)"
            ]
          },
          "execution_count": 55,
          "metadata": {},
          "output_type": "execute_result"
        }
      ],
      "source": [
        "vec = np.array([None]*10)\n",
        "vec[4] = 1\n",
        "vec\n"
      ]
    },
    {
      "cell_type": "markdown",
      "metadata": {
        "id": "8-nsNoyEiaWP"
      },
      "source": [
        "#### 7. Create a vector with values ranging from 10 to 49 (★☆☆)\n",
        "\n",
        "(**hint**: np.arange)\n"
      ]
    },
    {
      "cell_type": "code",
      "execution_count": 56,
      "metadata": {
        "id": "vMDKahqFiaWQ"
      },
      "outputs": [
        {
          "data": {
            "text/plain": [
              "array([10, 11, 12, 13, 14, 15, 16, 17, 18, 19, 20, 21, 22, 23, 24, 25, 26,\n",
              "       27, 28, 29, 30, 31, 32, 33, 34, 35, 36, 37, 38, 39, 40, 41, 42, 43,\n",
              "       44, 45, 46, 47, 48, 49])"
            ]
          },
          "execution_count": 56,
          "metadata": {},
          "output_type": "execute_result"
        }
      ],
      "source": [
        "np.arange(10, 50)\n"
      ]
    },
    {
      "cell_type": "markdown",
      "metadata": {
        "id": "PGLVxVdAiaWQ"
      },
      "source": [
        "#### 8. Reverse a vector (first element becomes last) (★☆☆)\n",
        "\n",
        "(**hint**: array\\[::-1\\])\n"
      ]
    },
    {
      "cell_type": "code",
      "execution_count": 57,
      "metadata": {
        "id": "XzyMlFu3iaWR"
      },
      "outputs": [
        {
          "data": {
            "text/plain": [
              "array([9, 8, 7, 6, 5, 4, 3, 2, 1, 0])"
            ]
          },
          "execution_count": 57,
          "metadata": {},
          "output_type": "execute_result"
        }
      ],
      "source": [
        "np.arange(0, 10)[::-1]\n"
      ]
    },
    {
      "cell_type": "markdown",
      "metadata": {
        "id": "osQQxZSpiaWR"
      },
      "source": [
        "#### 9. Create a 3x3 matrix with values ranging from 0 to 8 (★☆☆)\n",
        "\n",
        "(**hint**: reshape)\n"
      ]
    },
    {
      "cell_type": "code",
      "execution_count": 58,
      "metadata": {
        "id": "Xud40LciiaWR"
      },
      "outputs": [
        {
          "data": {
            "text/plain": [
              "array([[0, 1, 2],\n",
              "       [3, 4, 5],\n",
              "       [6, 7, 8]])"
            ]
          },
          "execution_count": 58,
          "metadata": {},
          "output_type": "execute_result"
        }
      ],
      "source": [
        "np.arange(0, 9).reshape(3, 3)\n"
      ]
    },
    {
      "cell_type": "markdown",
      "metadata": {
        "id": "q4OxWiWBiaWS"
      },
      "source": [
        "#### 10. Find indices of non-zero elements from \\[1,2,0,0,4,0\\] (★☆☆)\n",
        "\n",
        "(**hint**: np.nonzero)\n"
      ]
    },
    {
      "cell_type": "code",
      "execution_count": 59,
      "metadata": {
        "id": "mVUCP9jziaWS"
      },
      "outputs": [
        {
          "data": {
            "text/plain": [
              "(array([0, 1, 4]),)"
            ]
          },
          "execution_count": 59,
          "metadata": {},
          "output_type": "execute_result"
        }
      ],
      "source": [
        "np.array([1, 2, 0, 0, 4, 0]).nonzero()\n"
      ]
    },
    {
      "cell_type": "markdown",
      "metadata": {
        "id": "iJVtT9INiaWT"
      },
      "source": [
        "#### 11. Create a 3x3 identity matrix (★☆☆)\n",
        "\n",
        "(**hint**: np.eye)\n"
      ]
    },
    {
      "cell_type": "code",
      "execution_count": 60,
      "metadata": {
        "id": "JN5ZmK5ciaWT"
      },
      "outputs": [
        {
          "data": {
            "text/plain": [
              "array([[1., 0., 0.],\n",
              "       [0., 1., 0.],\n",
              "       [0., 0., 1.]])"
            ]
          },
          "execution_count": 60,
          "metadata": {},
          "output_type": "execute_result"
        }
      ],
      "source": [
        "np.identity(3)\n"
      ]
    },
    {
      "cell_type": "markdown",
      "metadata": {
        "id": "dP9vwI32iaWU"
      },
      "source": [
        "#### 12. Create a 3x3x3 array with random values (★☆☆)\n",
        "\n",
        "(**hint**: np.random.random)\n"
      ]
    },
    {
      "cell_type": "code",
      "execution_count": 61,
      "metadata": {
        "collapsed": true,
        "id": "ec1M7XD7iaWU"
      },
      "outputs": [
        {
          "data": {
            "text/plain": [
              "array([[[0.15436605, 0.96529066, 0.09470408],\n",
              "        [0.41803002, 0.96108111, 0.60442148],\n",
              "        [0.6707595 , 0.06991776, 0.23283491]],\n",
              "\n",
              "       [[0.21446645, 0.44395939, 0.93735056],\n",
              "        [0.92603809, 0.4667552 , 0.36341628],\n",
              "        [0.45417155, 0.74030733, 0.31357846]],\n",
              "\n",
              "       [[0.6160079 , 0.0024999 , 0.83665235],\n",
              "        [0.6388281 , 0.9682015 , 0.07678292],\n",
              "        [0.71231092, 0.34848184, 0.25562099]]])"
            ]
          },
          "execution_count": 61,
          "metadata": {},
          "output_type": "execute_result"
        }
      ],
      "source": [
        "np.random.random((3, 3, 3))\n"
      ]
    },
    {
      "cell_type": "markdown",
      "metadata": {
        "id": "9QlB2_mYiaWU"
      },
      "source": [
        "#### 13. Create a 10x10 array with random values and find the minimum and maximum values (★☆☆)\n",
        "\n",
        "(**hint**: min, max)\n"
      ]
    },
    {
      "cell_type": "code",
      "execution_count": 62,
      "metadata": {
        "id": "-HqJXN1EiaWU"
      },
      "outputs": [
        {
          "data": {
            "text/plain": [
              "(0.0013042245068266567, 0.9958955960602534)"
            ]
          },
          "execution_count": 62,
          "metadata": {},
          "output_type": "execute_result"
        }
      ],
      "source": [
        "vec = np.random.random((10, 10))\n",
        "vec.min(), vec.max()\n"
      ]
    },
    {
      "cell_type": "markdown",
      "metadata": {
        "id": "XMN08B0UiaWV"
      },
      "source": [
        "#### 14. Create a random vector of size 30 and find the mean value (★☆☆)\n",
        "\n",
        "(**hint**: mean)\n"
      ]
    },
    {
      "cell_type": "code",
      "execution_count": 63,
      "metadata": {
        "id": "AbGegQDziaWV"
      },
      "outputs": [
        {
          "data": {
            "text/plain": [
              "0.6090295988391279"
            ]
          },
          "execution_count": 63,
          "metadata": {},
          "output_type": "execute_result"
        }
      ],
      "source": [
        "np.random.random(30).mean()\n"
      ]
    },
    {
      "cell_type": "markdown",
      "metadata": {
        "id": "hk8lUoCziaWV"
      },
      "source": [
        "#### 15. Create a 2d array with 1 on the border and 0 inside (★☆☆)\n",
        "\n",
        "(**hint**: array\\[1:-1, 1:-1\\])\n"
      ]
    },
    {
      "cell_type": "code",
      "execution_count": 64,
      "metadata": {
        "id": "wMcHsMajiaWW"
      },
      "outputs": [
        {
          "data": {
            "text/plain": [
              "array([[1, 1, 1, 1, 1],\n",
              "       [1, 0, 0, 0, 1],\n",
              "       [1, 0, 0, 0, 1],\n",
              "       [1, 0, 0, 0, 1],\n",
              "       [1, 1, 1, 1, 1]], dtype=int8)"
            ]
          },
          "execution_count": 64,
          "metadata": {},
          "output_type": "execute_result"
        }
      ],
      "source": [
        "vec = np.ones((5, 5), dtype=np.int8)\n",
        "vec[1:-1, 1:-1] = 0\n",
        "vec\n"
      ]
    },
    {
      "cell_type": "markdown",
      "metadata": {
        "id": "WC_FDauriaWW"
      },
      "source": [
        "#### 16. How to add a border (filled with 0's) around an existing array? (★☆☆)\n",
        "\n",
        "(**hint**: np.pad)\n"
      ]
    },
    {
      "cell_type": "code",
      "execution_count": 65,
      "metadata": {
        "id": "z3oGXGAziaWW"
      },
      "outputs": [
        {
          "data": {
            "text/plain": [
              "array([[0, 0, 0, 0, 0],\n",
              "       [0, 1, 1, 1, 0],\n",
              "       [0, 1, 1, 1, 0],\n",
              "       [0, 1, 1, 1, 0],\n",
              "       [0, 0, 0, 0, 0]], dtype=int8)"
            ]
          },
          "execution_count": 65,
          "metadata": {},
          "output_type": "execute_result"
        }
      ],
      "source": [
        "vec = np.ones((3, 3), dtype=np.int8)\n",
        "np.pad(vec, pad_width=1)\n"
      ]
    },
    {
      "cell_type": "markdown",
      "metadata": {
        "id": "gtq7I2HLiaWW"
      },
      "source": [
        "#### 17. What is the result of the following expression? (★☆☆)\n",
        "\n",
        "(**hint**: NaN = not a number, inf = infinity)\n"
      ]
    },
    {
      "cell_type": "markdown",
      "metadata": {
        "id": "XMGYY8o2iaWX"
      },
      "source": [
        "```python\n",
        "0 * np.nan\n",
        "np.nan == np.nan\n",
        "np.inf > np.nan\n",
        "np.nan - np.nan\n",
        "0.3 == 3 * 0.1\n",
        "```\n"
      ]
    },
    {
      "cell_type": "code",
      "execution_count": 66,
      "metadata": {
        "id": "B1KPgJADiaWX"
      },
      "outputs": [
        {
          "data": {
            "text/plain": [
              "(True, True, True, True, True)"
            ]
          },
          "execution_count": 66,
          "metadata": {},
          "output_type": "execute_result"
        }
      ],
      "source": [
        "np.isnan(0 * np.nan),\\\n",
        "    (np.nan == np.nan) == False,\\\n",
        "    (np.inf > np.nan) == False,\\\n",
        "    np.isnan(np.nan - np.nan),\\\n",
        "    (0.3 == 3 * 0.1) == False\n"
      ]
    },
    {
      "cell_type": "markdown",
      "metadata": {
        "id": "1HxAiqk9iaWX"
      },
      "source": [
        "#### 18. Create a 5x5 matrix with values 1,2,3,4 just below the diagonal (★☆☆)\n",
        "\n",
        "(**hint**: np.diag)\n"
      ]
    },
    {
      "cell_type": "code",
      "execution_count": 67,
      "metadata": {
        "id": "Z3AMnR89iaWY"
      },
      "outputs": [
        {
          "data": {
            "text/plain": [
              "array([[0, 0, 0, 0, 0],\n",
              "       [1, 0, 0, 0, 0],\n",
              "       [0, 2, 0, 0, 0],\n",
              "       [0, 0, 3, 0, 0],\n",
              "       [0, 0, 0, 4, 0]])"
            ]
          },
          "execution_count": 67,
          "metadata": {},
          "output_type": "execute_result"
        }
      ],
      "source": [
        "np.diag([1, 2, 3, 4], -1)\n"
      ]
    },
    {
      "cell_type": "markdown",
      "metadata": {
        "id": "D-3TGyHIiaWY"
      },
      "source": [
        "#### 19. Create a 8x8 matrix and fill it with a checkerboard pattern (★☆☆)\n",
        "\n",
        "(**hint**: array\\[::2\\])\n"
      ]
    },
    {
      "cell_type": "code",
      "execution_count": 68,
      "metadata": {
        "id": "e-fKT7wyiaWY"
      },
      "outputs": [
        {
          "data": {
            "text/plain": [
              "array([[1, 0, 1, 0, 1, 0, 1, 0],\n",
              "       [0, 1, 0, 1, 0, 1, 0, 1],\n",
              "       [1, 0, 1, 0, 1, 0, 1, 0],\n",
              "       [0, 1, 0, 1, 0, 1, 0, 1],\n",
              "       [1, 0, 1, 0, 1, 0, 1, 0],\n",
              "       [0, 1, 0, 1, 0, 1, 0, 1],\n",
              "       [1, 0, 1, 0, 1, 0, 1, 0],\n",
              "       [0, 1, 0, 1, 0, 1, 0, 1]], dtype=int8)"
            ]
          },
          "execution_count": 68,
          "metadata": {},
          "output_type": "execute_result"
        }
      ],
      "source": [
        "vec = np.ones((8, 8), dtype=np.int8)\n",
        "vec[1::2, ::2] = 0\n",
        "vec[::2, 1::2] = 0\n",
        "vec\n"
      ]
    },
    {
      "cell_type": "markdown",
      "metadata": {
        "id": "S6FDbLuCiaWZ"
      },
      "source": [
        "#### 20. Consider a (6,7,8) shape array, what is the index (x,y,z) of the 100th element?\n",
        "\n",
        "(**hint**: np.unravel_index)\n"
      ]
    },
    {
      "cell_type": "code",
      "execution_count": 69,
      "metadata": {
        "id": "-OJlEFg5iaWZ"
      },
      "outputs": [
        {
          "data": {
            "text/plain": [
              "(1, 5, 4)"
            ]
          },
          "execution_count": 69,
          "metadata": {},
          "output_type": "execute_result"
        }
      ],
      "source": [
        "np.unravel_index(100, (6, 7, 8))\n"
      ]
    },
    {
      "cell_type": "markdown",
      "metadata": {
        "id": "RWf4NdvDiaWZ"
      },
      "source": [
        "#### 21. Create a checkerboard 8x8 matrix using the tile function (★☆☆)\n",
        "\n",
        "(**hint**: np.tile)\n"
      ]
    },
    {
      "cell_type": "code",
      "execution_count": 70,
      "metadata": {
        "id": "vwSD7PRqiaWa"
      },
      "outputs": [
        {
          "data": {
            "text/plain": [
              "array([[0, 1, 0, 1, 0, 1, 0, 1],\n",
              "       [1, 0, 1, 0, 1, 0, 1, 0],\n",
              "       [0, 1, 0, 1, 0, 1, 0, 1],\n",
              "       [1, 0, 1, 0, 1, 0, 1, 0],\n",
              "       [0, 1, 0, 1, 0, 1, 0, 1],\n",
              "       [1, 0, 1, 0, 1, 0, 1, 0],\n",
              "       [0, 1, 0, 1, 0, 1, 0, 1],\n",
              "       [1, 0, 1, 0, 1, 0, 1, 0]])"
            ]
          },
          "execution_count": 70,
          "metadata": {},
          "output_type": "execute_result"
        }
      ],
      "source": [
        "np.tile([[0, 1], [1, 0]], (4, 4))\n"
      ]
    },
    {
      "cell_type": "markdown",
      "metadata": {
        "id": "VDMwhUUfiaWa"
      },
      "source": [
        "#### 22. Normalize a 5x5 random matrix (★☆☆)\n",
        "\n",
        "(**hint**: (x - min) / (max - min))\n"
      ]
    },
    {
      "cell_type": "code",
      "execution_count": 71,
      "metadata": {
        "id": "UkTL6u_XiaWa"
      },
      "outputs": [
        {
          "data": {
            "text/plain": [
              "array([[0.75 , 0.25 , 0.25 , 1.   , 0.875],\n",
              "       [0.125, 1.   , 0.5  , 0.875, 0.5  ],\n",
              "       [0.625, 0.875, 0.   , 0.125, 0.25 ],\n",
              "       [0.5  , 0.25 , 1.   , 0.625, 0.5  ],\n",
              "       [1.   , 0.875, 0.75 , 1.   , 0.375]])"
            ]
          },
          "execution_count": 71,
          "metadata": {},
          "output_type": "execute_result"
        }
      ],
      "source": [
        "vec = np.random.randint(1, 10, (5, 5))\n",
        "(vec-vec.min())/(vec.max()-vec.min())\n"
      ]
    },
    {
      "cell_type": "markdown",
      "metadata": {
        "id": "9qiiTZRCiaWa"
      },
      "source": [
        "#### 23. Create a custom dtype that describes a color as four unsigned bytes (RGBA) (★☆☆)\n",
        "\n",
        "(**hint**: np.dtype)\n"
      ]
    },
    {
      "cell_type": "code",
      "execution_count": 72,
      "metadata": {
        "collapsed": true,
        "id": "ATVt-IfdiaWb"
      },
      "outputs": [],
      "source": [
        "RGBA = np.dtype([('Vals', np.ubyte, 4)])\n"
      ]
    },
    {
      "cell_type": "markdown",
      "metadata": {
        "id": "ZXNQRXVsiaWb"
      },
      "source": [
        "#### 24. Multiply a 5x3 matrix by a 3x2 matrix (real matrix product) (★☆☆)\n",
        "\n",
        "(**hint**: np.dot | @)\n"
      ]
    },
    {
      "cell_type": "code",
      "execution_count": 73,
      "metadata": {
        "id": "wZvuqNvAiaWb"
      },
      "outputs": [
        {
          "data": {
            "text/plain": [
              "array([[ 57,  96],\n",
              "       [ 27, 114],\n",
              "       [ 25,  86],\n",
              "       [ 50, 109],\n",
              "       [ 44, 133]])"
            ]
          },
          "execution_count": 73,
          "metadata": {},
          "output_type": "execute_result"
        }
      ],
      "source": [
        "a = np.random.randint(1, 10, (5, 3))\n",
        "b = np.random.randint(1, 10, (3, 2))\n",
        "np.dot(a, b)\n"
      ]
    },
    {
      "cell_type": "markdown",
      "metadata": {
        "id": "-BRg86SViaWb"
      },
      "source": [
        "#### 25. Given a 1D array, negate all elements which are between 3 and 8, in place. (★☆☆)\n",
        "\n",
        "(**hint**: >, <=)\n"
      ]
    },
    {
      "cell_type": "code",
      "execution_count": 74,
      "metadata": {
        "id": "PVdxgwCdiaWc"
      },
      "outputs": [
        {
          "data": {
            "text/plain": [
              "array([ 0,  1,  2,  3, -4, -5, -6, -7, -8,  9])"
            ]
          },
          "execution_count": 74,
          "metadata": {},
          "output_type": "execute_result"
        }
      ],
      "source": [
        "vec = np.arange(10)\n",
        "np.where((vec > 3) & (vec <= 8), vec*-1, vec)\n"
      ]
    },
    {
      "cell_type": "markdown",
      "metadata": {
        "id": "JHFJA9AqiaWc"
      },
      "source": [
        "#### 26. What is the output of the following script? (★☆☆)\n",
        "\n",
        "(**hint**: np.sum)\n"
      ]
    },
    {
      "cell_type": "markdown",
      "metadata": {
        "id": "QY1qbN6viaWc"
      },
      "source": [
        "```python\n",
        "# Author: Jake VanderPlas\n",
        "\n",
        "print(sum(range(5),-1))\n",
        "from numpy import *\n",
        "print(sum(range(5),-1))\n",
        "```\n"
      ]
    },
    {
      "cell_type": "code",
      "execution_count": 75,
      "metadata": {
        "id": "Fj9SinMTiaWc"
      },
      "outputs": [
        {
          "data": {
            "text/plain": [
              "(9, 10)"
            ]
          },
          "execution_count": 75,
          "metadata": {},
          "output_type": "execute_result"
        }
      ],
      "source": [
        "9, 10\n"
      ]
    },
    {
      "cell_type": "markdown",
      "metadata": {
        "id": "aWpqYBvLiaWd"
      },
      "source": [
        "#### 27. Consider an integer vector Z, which of these expressions are legal? (★☆☆)\n"
      ]
    },
    {
      "cell_type": "markdown",
      "metadata": {
        "id": "OZxTojt8iaWd"
      },
      "source": [
        "```python\n",
        "Z**Z\n",
        "2 << Z >> 2\n",
        "Z <- Z\n",
        "1j*Z\n",
        "Z/1/1\n",
        "Z<Z>Z\n",
        "```\n"
      ]
    },
    {
      "cell_type": "code",
      "execution_count": 76,
      "metadata": {
        "id": "-MQ7UtuhiaWd"
      },
      "outputs": [
        {
          "name": "stdout",
          "output_type": "stream",
          "text": [
            "Z**Z, 2 << Z >> 2, Z <- Z, 1j*Z, Z/1/1 are legal\n"
          ]
        }
      ],
      "source": [
        "print('Z**Z, 2 << Z >> 2, Z <- Z, 1j*Z, Z/1/1 are legal')\n"
      ]
    },
    {
      "cell_type": "markdown",
      "metadata": {
        "id": "X2Q3d0kniaWe"
      },
      "source": [
        "#### 28. What are the result of the following expressions?\n"
      ]
    },
    {
      "cell_type": "markdown",
      "metadata": {
        "id": "Ny7c89q6iaWe"
      },
      "source": [
        "```python\n",
        "np.array(0) / np.array(0)\n",
        "np.array(0) // np.array(0)\n",
        "np.array([np.nan]).astype(int).astype(float)\n",
        "```\n"
      ]
    },
    {
      "cell_type": "code",
      "execution_count": 77,
      "metadata": {
        "id": "dNARj8QTiaWe"
      },
      "outputs": [
        {
          "name": "stdout",
          "output_type": "stream",
          "text": [
            "nan, 0, array([-9.22337204e+18])\n"
          ]
        }
      ],
      "source": [
        "print('nan, 0, array([-9.22337204e+18])')\n"
      ]
    },
    {
      "cell_type": "markdown",
      "metadata": {
        "id": "BQH2acmZiaWe"
      },
      "source": [
        "#### 29. How to round away from zero a float array ? (★☆☆)\n",
        "\n",
        "(**hint**: np.uniform, np.copysign, np.ceil, np.abs)\n"
      ]
    },
    {
      "cell_type": "code",
      "execution_count": 78,
      "metadata": {
        "id": "u6m7wHKaiaWf"
      },
      "outputs": [
        {
          "data": {
            "text/plain": [
              "(array([[-0.33700611, -0.16812499,  0.68515917, -0.29914157]]),\n",
              " array([[-1., -1.,  1., -1.]]))"
            ]
          },
          "execution_count": 78,
          "metadata": {},
          "output_type": "execute_result"
        }
      ],
      "source": [
        "x = np.random.randn(1, 4)\n",
        "y = np.copysign(np.ceil(np.abs(x)), x)\n",
        "x, y\n"
      ]
    },
    {
      "cell_type": "markdown",
      "metadata": {
        "id": "MRWRDxrziaWf"
      },
      "source": [
        "#### 30. How to find common values between two arrays? (★☆☆)\n",
        "\n",
        "(**hint**: np.intersect1d)\n"
      ]
    },
    {
      "cell_type": "code",
      "execution_count": 79,
      "metadata": {
        "id": "jXoufNUiiaWf"
      },
      "outputs": [
        {
          "data": {
            "text/plain": [
              "array([3])"
            ]
          },
          "execution_count": 79,
          "metadata": {},
          "output_type": "execute_result"
        }
      ],
      "source": [
        "a, b = np.array([1, 2, 3]), np.array([3, 4, 5])\n",
        "np.intersect1d(a, b)\n"
      ]
    },
    {
      "cell_type": "markdown",
      "metadata": {
        "id": "wGUL1fUxiaWf"
      },
      "source": [
        "#### 31. How to ignore all numpy warnings (not recommended)? (★☆☆)\n",
        "\n",
        "(**hint**: np.seterr, np.errstate)\n"
      ]
    },
    {
      "cell_type": "code",
      "execution_count": 80,
      "metadata": {
        "id": "hSkfk2_jiaWg"
      },
      "outputs": [
        {
          "data": {
            "text/plain": [
              "\"np.seterr(all='ignore')\""
            ]
          },
          "execution_count": 80,
          "metadata": {},
          "output_type": "execute_result"
        }
      ],
      "source": [
        "\"np.seterr(all='ignore')\"\n"
      ]
    },
    {
      "cell_type": "markdown",
      "metadata": {
        "id": "mNKt0hgxiaWg"
      },
      "source": [
        "#### 32. Is the following expressions true? (★☆☆)\n",
        "\n",
        "(**hint**: imaginary number)\n"
      ]
    },
    {
      "cell_type": "markdown",
      "metadata": {
        "id": "XCfoD2OviaWg"
      },
      "source": [
        "```python\n",
        "np.sqrt(-1) == np.emath.sqrt(-1)\n",
        "```\n"
      ]
    },
    {
      "cell_type": "code",
      "execution_count": 81,
      "metadata": {
        "id": "jLCtRpONiaWg"
      },
      "outputs": [
        {
          "data": {
            "text/plain": [
              "False"
            ]
          },
          "execution_count": 81,
          "metadata": {},
          "output_type": "execute_result"
        }
      ],
      "source": [
        "False\n"
      ]
    },
    {
      "cell_type": "markdown",
      "metadata": {
        "id": "q6N7CNeQiaWg"
      },
      "source": [
        "#### 33. How to get the dates of yesterday, today and tomorrow? (★☆☆)\n",
        "\n",
        "(**hint**: np.datetime64, np.timedelta64)\n"
      ]
    },
    {
      "cell_type": "code",
      "execution_count": 82,
      "metadata": {
        "collapsed": true,
        "id": "HPlP48CXiaWh"
      },
      "outputs": [
        {
          "data": {
            "text/plain": [
              "(numpy.datetime64('2022-02-07'),\n",
              " numpy.datetime64('2022-02-08'),\n",
              " numpy.datetime64('2022-02-09'))"
            ]
          },
          "execution_count": 82,
          "metadata": {},
          "output_type": "execute_result"
        }
      ],
      "source": [
        "today = np.datetime64('today')\n",
        "today-np.timedelta64(1), today, today+np.timedelta64(1)\n"
      ]
    },
    {
      "cell_type": "markdown",
      "metadata": {
        "id": "bGQgkbCyiaWh"
      },
      "source": [
        "#### 34. How to get all the dates corresponding to the month of July 2016? (★★☆)\n",
        "\n",
        "(**hint**: np.arange(dtype=datetime64\\['D'\\]))\n"
      ]
    },
    {
      "cell_type": "code",
      "execution_count": 83,
      "metadata": {
        "id": "-iYou9p5iaWh"
      },
      "outputs": [
        {
          "data": {
            "text/plain": [
              "array(['2016-07-01', '2016-07-02', '2016-07-03', '2016-07-04',\n",
              "       '2016-07-05', '2016-07-06', '2016-07-07', '2016-07-08',\n",
              "       '2016-07-09', '2016-07-10', '2016-07-11', '2016-07-12',\n",
              "       '2016-07-13', '2016-07-14', '2016-07-15', '2016-07-16',\n",
              "       '2016-07-17', '2016-07-18', '2016-07-19', '2016-07-20',\n",
              "       '2016-07-21', '2016-07-22', '2016-07-23', '2016-07-24',\n",
              "       '2016-07-25', '2016-07-26', '2016-07-27', '2016-07-28',\n",
              "       '2016-07-29', '2016-07-30', '2016-07-31'], dtype='datetime64[D]')"
            ]
          },
          "execution_count": 83,
          "metadata": {},
          "output_type": "execute_result"
        }
      ],
      "source": [
        "np.arange('2016-07', '2016-08', dtype='datetime64[D]')\n"
      ]
    },
    {
      "cell_type": "markdown",
      "metadata": {
        "id": "499Sjd0hiaWh"
      },
      "source": [
        "#### 35. How to compute ((A+B)\\*(-A/2)) in place (without copy)? (★★☆)\n",
        "\n",
        "(**hint**: np.add(out=), np.negative(out=), np.multiply(out=), np.divide(out=))\n"
      ]
    },
    {
      "cell_type": "code",
      "execution_count": 84,
      "metadata": {
        "id": "q_ZlOmCviaWi"
      },
      "outputs": [
        {
          "name": "stdout",
          "output_type": "stream",
          "text": [
            "before:  [1. 1. 4.]\n",
            "after:  [ -2.5  -2.5 -14. ]\n"
          ]
        }
      ],
      "source": [
        "A = np.random.randint(1, 5, 3).astype('float32')\n",
        "print(\"before: \", A)\n",
        "B = np.random.randint(1, 5, 3).astype('float32')\n",
        "np.add(A, B, out=B)\n",
        "np.divide(A, 2, out=A)\n",
        "np.negative(A, out=A)\n",
        "np.multiply(A, B, out=A)\n",
        "print(\"after: \", A)\n"
      ]
    },
    {
      "cell_type": "markdown",
      "metadata": {
        "id": "REBNQ2ZeiaWi"
      },
      "source": [
        "#### 36. Extract the integer part of a random array using 5 different methods (★★☆)\n",
        "\n",
        "(**hint**: %, np.floor, np.ceil, astype, np.trunc)\n"
      ]
    },
    {
      "cell_type": "code",
      "execution_count": 85,
      "metadata": {
        "id": "m7dH7dATiaWi"
      },
      "outputs": [
        {
          "name": "stdout",
          "output_type": "stream",
          "text": [
            "[[-1.  0.  0.  0. -1.]]\n",
            "[[-1.  0.  0.  0. -1.]]\n",
            "[[0 0 0 0 0]]\n",
            "[[-0.  0.  0.  0. -0.]]\n"
          ]
        }
      ],
      "source": [
        "x = np.random.randn(1, 5)\n",
        "print(x - x % 1)\n",
        "print(np.floor(x))\n",
        "print(x.astype(int))\n",
        "print(np.trunc(x))\n"
      ]
    },
    {
      "cell_type": "markdown",
      "metadata": {
        "id": "8KUBVNzCiaWi"
      },
      "source": [
        "#### 37. Create a 5x5 matrix with row values ranging from 0 to 4 (★★☆)\n",
        "\n",
        "(**hint**: np.arange)\n"
      ]
    },
    {
      "cell_type": "code",
      "execution_count": 86,
      "metadata": {
        "id": "drTZSDi4iaWi"
      },
      "outputs": [
        {
          "data": {
            "text/plain": [
              "array([[0, 1, 2, 3, 4],\n",
              "       [0, 1, 2, 3, 4],\n",
              "       [0, 1, 2, 3, 4],\n",
              "       [0, 1, 2, 3, 4],\n",
              "       [0, 1, 2, 3, 4]])"
            ]
          },
          "execution_count": 86,
          "metadata": {},
          "output_type": "execute_result"
        }
      ],
      "source": [
        "np.tile(np.arange(5), (5, 1))\n"
      ]
    },
    {
      "cell_type": "markdown",
      "metadata": {
        "id": "Jd2sKUxfiaWj"
      },
      "source": [
        "#### 38. Consider a generator function that generates 10 integers and use it to build an array (★☆☆)\n",
        "\n",
        "(**hint**: np.fromiter)\n"
      ]
    },
    {
      "cell_type": "code",
      "execution_count": 87,
      "metadata": {
        "id": "i1tb_j6XiaWj"
      },
      "outputs": [
        {
          "data": {
            "text/plain": [
              "array([0, 1, 2, 3, 4], dtype=int16)"
            ]
          },
          "execution_count": 87,
          "metadata": {},
          "output_type": "execute_result"
        }
      ],
      "source": [
        "np.fromiter(range(5), dtype='int16')\n"
      ]
    },
    {
      "cell_type": "markdown",
      "metadata": {
        "id": "jba-I_TziaWj"
      },
      "source": [
        "#### 39. Create a vector of size 10 with values ranging from 0 to 1, both excluded (★★☆)\n",
        "\n",
        "(**hint**: np.linspace)\n"
      ]
    },
    {
      "cell_type": "code",
      "execution_count": 88,
      "metadata": {
        "id": "dc5uMbrBiaWj"
      },
      "outputs": [
        {
          "data": {
            "text/plain": [
              "array([0.09090909, 0.18181818, 0.27272727, 0.36363636, 0.45454545,\n",
              "       0.54545455, 0.63636364, 0.72727273, 0.81818182, 0.90909091])"
            ]
          },
          "execution_count": 88,
          "metadata": {},
          "output_type": "execute_result"
        }
      ],
      "source": [
        "np.linspace(0, 1, 12)[1:-1]\n"
      ]
    },
    {
      "cell_type": "markdown",
      "metadata": {
        "id": "khmumEcXiaWk"
      },
      "source": [
        "#### 40. Create a random vector of size 10 and sort it (★★☆)\n",
        "\n",
        "(**hint**: sort)\n"
      ]
    },
    {
      "cell_type": "code",
      "execution_count": 89,
      "metadata": {
        "id": "nJ9mx3M0iaWk"
      },
      "outputs": [
        {
          "data": {
            "text/plain": [
              "array([2, 3, 3, 3, 5, 5, 6, 8, 9, 9])"
            ]
          },
          "execution_count": 89,
          "metadata": {},
          "output_type": "execute_result"
        }
      ],
      "source": [
        "x = np.random.randint(1, 10, 10)\n",
        "x.sort()\n",
        "x\n"
      ]
    },
    {
      "cell_type": "markdown",
      "metadata": {
        "id": "2Q29DiteiaWk"
      },
      "source": [
        "#### 41. How to sum a small array faster than np.sum? (★★☆)\n",
        "\n",
        "(**hint**: np.add.reduce)\n"
      ]
    },
    {
      "cell_type": "code",
      "execution_count": 90,
      "metadata": {
        "id": "lDpC0xETiaWk"
      },
      "outputs": [
        {
          "data": {
            "text/plain": [
              "6"
            ]
          },
          "execution_count": 90,
          "metadata": {},
          "output_type": "execute_result"
        }
      ],
      "source": [
        "np.add.reduce([1, 2, 3])\n"
      ]
    },
    {
      "cell_type": "markdown",
      "metadata": {
        "id": "rsPRQUMWiaWk"
      },
      "source": [
        "#### 42. Consider two random array A and B, check if they are equal (★★☆)\n",
        "\n",
        "(**hint**: np.allclose, np.array_equal)\n"
      ]
    },
    {
      "cell_type": "code",
      "execution_count": 91,
      "metadata": {
        "id": "f9wVho12iaWl"
      },
      "outputs": [
        {
          "data": {
            "text/plain": [
              "(True, False)"
            ]
          },
          "execution_count": 91,
          "metadata": {},
          "output_type": "execute_result"
        }
      ],
      "source": [
        "a, b = [[2.0], [3]], [[2.00001], [3]]\n",
        "np.allclose(a, b), np.array_equal(a, b)\n"
      ]
    },
    {
      "cell_type": "markdown",
      "metadata": {
        "id": "co7KQz2viaWl"
      },
      "source": [
        "#### 43. Make an array immutable (read-only) (★★☆)\n",
        "\n",
        "(**hint**: flags.writeable)\n"
      ]
    },
    {
      "cell_type": "code",
      "execution_count": 92,
      "metadata": {
        "id": "hSPDRRKTiaWl"
      },
      "outputs": [],
      "source": [
        "x = np.array([1, 2, 3])\n",
        "x.flags.writeable = False\n"
      ]
    },
    {
      "cell_type": "markdown",
      "metadata": {
        "id": "XFJzDJFsiaWl"
      },
      "source": [
        "#### 44. Consider a random 10x2 matrix representing cartesian coordinates, convert them to polar coordinates (★★☆)\n",
        "\n",
        "(**hint**: np.sqrt, np.arctan2)\n"
      ]
    },
    {
      "cell_type": "code",
      "execution_count": 93,
      "metadata": {
        "id": "CffvepQ5iaWm"
      },
      "outputs": [
        {
          "data": {
            "text/plain": [
              "(array([0.64874685, 0.59357487, 0.54205484, 0.83543182, 0.82913026,\n",
              "        1.02675154, 0.50580704, 0.37678673, 0.82531922, 1.05455746]),\n",
              " array([0.04228774, 0.7150018 , 0.60238569, 0.98769171, 1.17385967,\n",
              "        0.52417818, 0.29389739, 0.56201049, 0.95868705, 1.2083219 ]))"
            ]
          },
          "execution_count": 93,
          "metadata": {},
          "output_type": "execute_result"
        }
      ],
      "source": [
        "Z = np.random.random((10, 2))\n",
        "X, Y = Z[:, 0], Z[:, 1]\n",
        "R = np.sqrt(X**2+Y**2)\n",
        "T = np.arctan2(Y, X)\n",
        "R, T\n"
      ]
    },
    {
      "cell_type": "markdown",
      "metadata": {
        "id": "A_45DyQtiaWm"
      },
      "source": [
        "#### 45. Create random vector of size 10 and replace the maximum value by 0 (★★☆)\n",
        "\n",
        "(**hint**: argmax)\n"
      ]
    },
    {
      "cell_type": "code",
      "execution_count": 94,
      "metadata": {
        "id": "vfixcTEYiaWm"
      },
      "outputs": [
        {
          "name": "stdout",
          "output_type": "stream",
          "text": [
            "[8 5 9 1 3 2 8 1 1 2]\n"
          ]
        },
        {
          "data": {
            "text/plain": [
              "array([8, 5, 0, 1, 3, 2, 8, 1, 1, 2])"
            ]
          },
          "execution_count": 94,
          "metadata": {},
          "output_type": "execute_result"
        }
      ],
      "source": [
        "x = np.random.randint(1, 10, 10)\n",
        "print(x)\n",
        "x[x.argmax()] = 0\n",
        "x\n"
      ]
    },
    {
      "cell_type": "markdown",
      "metadata": {
        "id": "V0f-ywOQiaWm"
      },
      "source": [
        "#### 46. Create a structured array with `x` and `y` coordinates covering the \\[0,1\\]x\\[0,1\\] area (★★☆)\n",
        "\n",
        "(**hint**: np.meshgrid)\n"
      ]
    },
    {
      "cell_type": "code",
      "execution_count": 95,
      "metadata": {
        "id": "rn0zFAMliaWm"
      },
      "outputs": [
        {
          "data": {
            "text/plain": [
              "(array([[5, 1, 3, 4, 9],\n",
              "        [5, 1, 3, 4, 9],\n",
              "        [5, 1, 3, 4, 9],\n",
              "        [5, 1, 3, 4, 9],\n",
              "        [5, 1, 3, 4, 9]]),\n",
              " array([[4, 4, 4, 4, 4],\n",
              "        [4, 4, 4, 4, 4],\n",
              "        [2, 2, 2, 2, 2],\n",
              "        [2, 2, 2, 2, 2],\n",
              "        [6, 6, 6, 6, 6]]))"
            ]
          },
          "execution_count": 95,
          "metadata": {},
          "output_type": "execute_result"
        }
      ],
      "source": [
        "x, y = np.random.randint(1, 10, 10).reshape((2, 5))\n",
        "X, Y = np.meshgrid(x, y)\n",
        "X, Y\n"
      ]
    },
    {
      "cell_type": "markdown",
      "metadata": {
        "id": "AejSYFlwiaWn"
      },
      "source": [
        "#### 47. Given two arrays, X and Y, construct the Cauchy matrix C (Cij =1/(xi - yj))\n",
        "\n",
        "(**hint**: np.subtract.outer)\n"
      ]
    },
    {
      "cell_type": "code",
      "execution_count": 96,
      "metadata": {
        "id": "vzvf2RxtiaWn"
      },
      "outputs": [
        {
          "data": {
            "text/plain": [
              "array([[-2.        , -0.66666667, -0.4       , -0.28571429, -0.22222222,\n",
              "        -0.18181818, -0.15384615, -0.13333333],\n",
              "       [ 2.        , -2.        , -0.66666667, -0.4       , -0.28571429,\n",
              "        -0.22222222, -0.18181818, -0.15384615],\n",
              "       [ 0.66666667,  2.        , -2.        , -0.66666667, -0.4       ,\n",
              "        -0.28571429, -0.22222222, -0.18181818],\n",
              "       [ 0.4       ,  0.66666667,  2.        , -2.        , -0.66666667,\n",
              "        -0.4       , -0.28571429, -0.22222222],\n",
              "       [ 0.28571429,  0.4       ,  0.66666667,  2.        , -2.        ,\n",
              "        -0.66666667, -0.4       , -0.28571429],\n",
              "       [ 0.22222222,  0.28571429,  0.4       ,  0.66666667,  2.        ,\n",
              "        -2.        , -0.66666667, -0.4       ],\n",
              "       [ 0.18181818,  0.22222222,  0.28571429,  0.4       ,  0.66666667,\n",
              "         2.        , -2.        , -0.66666667],\n",
              "       [ 0.15384615,  0.18181818,  0.22222222,  0.28571429,  0.4       ,\n",
              "         0.66666667,  2.        , -2.        ]])"
            ]
          },
          "execution_count": 96,
          "metadata": {},
          "output_type": "execute_result"
        }
      ],
      "source": [
        "X = np.arange(8)\n",
        "Y = X + 0.5\n",
        "C = 1.0 / np.subtract.outer(X, Y)\n",
        "C\n"
      ]
    },
    {
      "cell_type": "markdown",
      "metadata": {
        "id": "9KBuNDYjiaWn"
      },
      "source": [
        "#### 48. Print the minimum and maximum representable value for each numpy scalar type (★★☆)\n",
        "\n",
        "(**hint**: np.iinfo, np.finfo, eps)\n"
      ]
    },
    {
      "cell_type": "code",
      "execution_count": 97,
      "metadata": {
        "id": "6W6lhoimiaWn"
      },
      "outputs": [
        {
          "name": "stdout",
          "output_type": "stream",
          "text": [
            "-128\n",
            "127\n",
            "-2147483648\n",
            "2147483647\n",
            "-9223372036854775808\n",
            "9223372036854775807\n",
            "-65500.0\n",
            "65500.0\n",
            "0.000977\n",
            "-3.4028235e+38\n",
            "3.4028235e+38\n",
            "1.1920929e-07\n",
            "-1.7976931348623157e+308\n",
            "1.7976931348623157e+308\n",
            "2.220446049250313e-16\n"
          ]
        }
      ],
      "source": [
        "for dtype in [np.int8, np.int32, np.int64]:\n",
        "    print(np.iinfo(dtype).min)\n",
        "    print(np.iinfo(dtype).max)\n",
        "for dtype in [np.float16, np.float32, np.float64]:\n",
        "    print(np.finfo(dtype).min)\n",
        "    print(np.finfo(dtype).max)\n",
        "    print(np.finfo(dtype).eps)\n"
      ]
    },
    {
      "cell_type": "markdown",
      "metadata": {
        "id": "rvkuae-9iaWo"
      },
      "source": [
        "#### 49. How to print all the values of an array? (★★☆)\n",
        "\n",
        "(**hint**: np.set_printoptions)\n"
      ]
    },
    {
      "cell_type": "code",
      "execution_count": 98,
      "metadata": {
        "id": "U6Z3eZTOiaWo"
      },
      "outputs": [
        {
          "name": "stdout",
          "output_type": "stream",
          "text": [
            "[[1. 1. 1. 1. 1. 1. 1. 1. 1. 1.]\n",
            " [1. 1. 1. 1. 1. 1. 1. 1. 1. 1.]\n",
            " [1. 1. 1. 1. 1. 1. 1. 1. 1. 1.]\n",
            " [1. 1. 1. 1. 1. 1. 1. 1. 1. 1.]\n",
            " [1. 1. 1. 1. 1. 1. 1. 1. 1. 1.]\n",
            " [1. 1. 1. 1. 1. 1. 1. 1. 1. 1.]\n",
            " [1. 1. 1. 1. 1. 1. 1. 1. 1. 1.]\n",
            " [1. 1. 1. 1. 1. 1. 1. 1. 1. 1.]\n",
            " [1. 1. 1. 1. 1. 1. 1. 1. 1. 1.]\n",
            " [1. 1. 1. 1. 1. 1. 1. 1. 1. 1.]]\n"
          ]
        }
      ],
      "source": [
        "np.set_printoptions(threshold=float(\"inf\"))\n",
        "Z = np.ones((10, 10))\n",
        "print(Z)\n"
      ]
    },
    {
      "cell_type": "markdown",
      "metadata": {
        "id": "-8luA1rYiaWo"
      },
      "source": [
        "#### 50. How to find the closest value (to a given scalar) in a vector? (★★☆)\n",
        "\n",
        "(**hint**: argmin)\n"
      ]
    },
    {
      "cell_type": "code",
      "execution_count": 99,
      "metadata": {
        "id": "G6vP8bcuiaWo"
      },
      "outputs": [
        {
          "data": {
            "text/plain": [
              "39"
            ]
          },
          "execution_count": 99,
          "metadata": {},
          "output_type": "execute_result"
        }
      ],
      "source": [
        "a = np.arange(100)\n",
        "b = np.random.randint(0, 100, 100)\n",
        "a[(np.abs(a-b)).argmin()]\n"
      ]
    },
    {
      "cell_type": "markdown",
      "metadata": {
        "id": "s9DD7SEsiaWo"
      },
      "source": [
        "#### 51. Create a structured array representing a position (x,y) and a color (r,g,b) (★★☆)\n",
        "\n",
        "(**hint**: dtype)\n"
      ]
    },
    {
      "cell_type": "code",
      "execution_count": 100,
      "metadata": {
        "id": "vYqoZ7uLiaWp"
      },
      "outputs": [
        {
          "name": "stderr",
          "output_type": "stream",
          "text": [
            "/tmp/ipykernel_3280/2643626663.py:1: FutureWarning: Passing (type, 1) or '1type' as a synonym of type is deprecated; in a future version of numpy, it will be understood as (type, (1,)) / '(1,)type'.\n",
            "  DTYPE = np.dtype([('position', [('x', float, 1),\n"
          ]
        },
        {
          "data": {
            "text/plain": [
              "array([[((0., 0.), (0., 0., 0.))]],\n",
              "      dtype=[('position', [('x', '<f8'), ('y', '<f8')]), ('color', [('r', '<f8'), ('g', '<f8'), ('b', '<f8')])])"
            ]
          },
          "execution_count": 100,
          "metadata": {},
          "output_type": "execute_result"
        }
      ],
      "source": [
        "DTYPE = np.dtype([('position', [('x', float, 1),\n",
        "                                ('y', float, 1)], 1),\n",
        "                  ('color',    [('r', float, 1),\n",
        "                                ('g', float, 1),\n",
        "                                ('b', float, 1)], 1)])\n",
        "np.zeros((1, 1), dtype=DTYPE)\n"
      ]
    },
    {
      "cell_type": "markdown",
      "metadata": {
        "id": "VgukrSB8iaWp"
      },
      "source": [
        "#### 52. Consider a random vector with shape (100,2) representing coordinates, find point by point distances (★★☆)\n",
        "\n",
        "(**hint**: np.atleast_2d, T, np.sqrt)\n"
      ]
    },
    {
      "cell_type": "code",
      "execution_count": 101,
      "metadata": {
        "id": "3OCclo2SiaWp"
      },
      "outputs": [
        {
          "data": {
            "text/plain": [
              "array([[ 0.        ,  5.        ,  5.09901951,  2.82842712,  4.47213595,\n",
              "         4.        ,  1.41421356,  3.        ,  2.        ,  3.16227766,\n",
              "         2.23606798,  3.60555128,  4.12310563,  5.09901951,  2.23606798,\n",
              "         6.08276253,  1.        ,  2.        ,  1.41421356,  3.60555128,\n",
              "         5.65685425,  5.38516481,  6.08276253,  4.47213595,  4.        ,\n",
              "         6.40312424,  6.08276253,  1.41421356,  2.82842712,  4.47213595,\n",
              "         2.23606798,  3.16227766,  4.12310563,  5.        ,  6.08276253,\n",
              "         1.        ,  4.12310563,  5.83095189,  6.        ,  0.        ,\n",
              "         3.        ,  4.        ,  2.23606798,  4.47213595,  6.08276253,\n",
              "         3.16227766,  5.38516481,  0.        ,  6.70820393,  6.40312424,\n",
              "         4.24264069,  1.        ,  4.47213595,  4.24264069,  1.41421356,\n",
              "         3.16227766,  4.12310563,  2.        ,  4.12310563,  6.40312424,\n",
              "         4.        ,  1.        ,  4.12310563,  1.        ,  2.23606798,\n",
              "         6.70820393,  3.16227766,  5.83095189,  7.21110255,  3.16227766,\n",
              "         5.83095189,  5.        ,  5.83095189,  5.        ,  2.82842712,\n",
              "         4.47213595,  5.65685425,  3.60555128,  4.47213595,  2.23606798,\n",
              "         5.38516481,  5.38516481,  4.47213595,  4.        ,  4.47213595,\n",
              "         4.47213595,  3.60555128,  5.83095189,  5.38516481,  3.60555128,\n",
              "         2.82842712,  6.40312424,  2.82842712,  3.60555128,  4.47213595,\n",
              "         4.12310563,  3.16227766,  5.09901951,  3.60555128,  1.41421356],\n",
              "       [ 5.        ,  0.        ,  1.        ,  7.28010989,  8.06225775,\n",
              "         6.40312424,  6.08276253,  5.83095189,  3.        ,  6.70820393,\n",
              "         3.16227766,  2.82842712,  1.41421356,  1.        ,  3.16227766,\n",
              "         1.41421356,  4.        ,  7.        ,  4.12310563,  2.82842712,\n",
              "         4.12310563,  2.        ,  1.41421356,  8.06225775,  1.        ,\n",
              "         4.        ,  1.41421356,  4.12310563,  7.28010989,  5.        ,\n",
              "         6.32455532,  2.23606798,  7.21110255,  4.47213595,  1.41421356,\n",
              "         5.09901951,  1.41421356,  3.        ,  1.        ,  5.        ,\n",
              "         5.83095189,  6.40312424,  4.47213595,  2.23606798,  1.41421356,\n",
              "         6.70820393,  2.        ,  5.        ,  3.16227766,  4.        ,\n",
              "         3.60555128,  5.09901951,  5.        ,  3.60555128,  6.08276253,\n",
              "         2.23606798,  7.21110255,  3.        ,  5.65685425,  4.        ,\n",
              "         1.        ,  5.09901951,  5.65685425,  5.09901951,  4.47213595,\n",
              "         3.16227766,  6.70820393,  3.        ,  4.12310563,  6.70820393,\n",
              "         3.        ,  3.16227766,  3.        ,  4.47213595,  7.28010989,\n",
              "         2.23606798,  4.12310563,  2.82842712,  5.        ,  3.16227766,\n",
              "         2.        ,  2.        ,  8.06225775,  6.40312424,  2.23606798,\n",
              "         2.23606798,  7.61577311,  3.        ,  2.        ,  2.82842712,\n",
              "         3.60555128,  4.        ,  7.28010989,  4.24264069,  2.23606798,\n",
              "         1.41421356,  5.        ,  1.        ,  7.61577311,  4.12310563],\n",
              "       [ 5.09901951,  1.        ,  0.        ,  7.07106781,  8.60232527,\n",
              "         5.83095189,  6.        ,  5.38516481,  3.16227766,  6.32455532,\n",
              "         3.        ,  2.23606798,  1.        ,  0.        ,  3.60555128,\n",
              "         2.23606798,  4.12310563,  7.07106781,  4.47213595,  3.60555128,\n",
              "         5.09901951,  1.        ,  1.        ,  7.61577311,  1.41421356,\n",
              "         5.        ,  1.        ,  4.47213595,  7.07106781,  5.83095189,\n",
              "         6.08276253,  2.82842712,  7.81024968,  3.60555128,  1.        ,\n",
              "         5.38516481,  2.23606798,  4.        ,  1.41421356,  5.09901951,\n",
              "         6.40312424,  5.83095189,  4.12310563,  1.41421356,  1.        ,\n",
              "         6.32455532,  1.        ,  5.09901951,  4.12310563,  3.        ,\n",
              "         2.82842712,  5.38516481,  5.83095189,  2.82842712,  6.        ,\n",
              "         2.        ,  6.70820393,  3.16227766,  6.40312424,  3.        ,\n",
              "         1.41421356,  5.        ,  6.40312424,  5.        ,  5.        ,\n",
              "         4.12310563,  6.32455532,  4.        ,  5.09901951,  7.21110255,\n",
              "         2.        ,  2.23606798,  4.        ,  3.60555128,  7.61577311,\n",
              "         1.41421356,  5.09901951,  3.60555128,  5.83095189,  3.60555128,\n",
              "         3.        ,  1.        ,  8.60232527,  7.07106781,  3.16227766,\n",
              "         1.41421356,  8.06225775,  4.        ,  3.        ,  2.23606798,\n",
              "         4.24264069,  3.        ,  7.61577311,  5.        ,  1.41421356,\n",
              "         1.        ,  4.47213595,  2.        ,  8.06225775,  4.        ],\n",
              "       [ 2.82842712,  7.28010989,  7.07106781,  0.        ,  6.        ,\n",
              "         2.82842712,  1.41421356,  2.23606798,  4.47213595,  1.41421356,\n",
              "         4.12310563,  5.        ,  6.08276253,  7.07106781,  5.        ,\n",
              "         8.54400375,  3.60555128,  2.        ,  4.24264069,  6.40312424,\n",
              "         8.48528137,  7.        ,  8.06225775,  2.        ,  6.32455532,\n",
              "         9.21954446,  8.06225775,  4.24264069,  0.        ,  7.21110255,\n",
              "         1.        ,  5.83095189,  6.08276253,  5.38516481,  8.06225775,\n",
              "         3.60555128,  6.70820393,  8.60232527,  8.24621125,  2.82842712,\n",
              "         5.38516481,  2.82842712,  3.        ,  6.        ,  8.06225775,\n",
              "         1.41421356,  7.        ,  2.82842712,  9.43398113,  7.28010989,\n",
              "         5.09901951,  3.60555128,  7.21110255,  5.09901951,  1.41421356,\n",
              "         5.09901951,  2.23606798,  4.47213595,  6.70820393,  7.28010989,\n",
              "         6.32455532,  2.23606798,  6.70820393,  2.23606798,  5.        ,\n",
              "         9.43398113,  1.41421356,  8.60232527, 10.        ,  5.09901951,\n",
              "         7.07106781,  6.08276253,  8.60232527,  5.38516481,  4.        ,\n",
              "         6.        ,  8.48528137,  6.40312424,  7.21110255,  5.        ,\n",
              "         8.06225775,  7.        ,  6.        ,  6.32455532,  7.21110255,\n",
              "         6.        ,  5.        ,  8.60232527,  8.06225775,  5.        ,\n",
              "         5.65685425,  7.28010989,  4.        ,  6.40312424,  6.        ,\n",
              "         6.08276253,  3.16227766,  7.61577311,  5.        ,  3.16227766],\n",
              "       [ 4.47213595,  8.06225775,  8.60232527,  6.        ,  0.        ,\n",
              "         8.24621125,  5.09901951,  7.28010989,  5.65685425,  7.07106781,\n",
              "         6.40312424,  7.81024968,  7.81024968,  8.60232527,  5.        ,\n",
              "         8.54400375,  5.        ,  4.        ,  4.24264069,  5.38516481,\n",
              "         6.        ,  9.21954446,  9.43398113,  8.        ,  7.21110255,\n",
              "         7.        ,  9.43398113,  4.24264069,  6.        ,  4.        ,\n",
              "         6.08276253,  5.83095189,  1.        ,  9.43398113,  9.43398113,\n",
              "         3.60555128,  6.70820393,  7.07106781,  8.94427191,  4.47213595,\n",
              "         2.23606798,  8.24621125,  6.70820393,  8.48528137,  9.43398113,\n",
              "         7.07106781,  9.21954446,  4.47213595,  8.06225775, 10.63014581,\n",
              "         8.60232527,  3.60555128,  4.        ,  8.60232527,  5.09901951,\n",
              "         7.07106781,  8.06225775,  5.65685425,  3.        , 10.63014581,\n",
              "         7.21110255,  5.38516481,  3.        ,  5.38516481,  3.60555128,\n",
              "         8.06225775,  7.07106781,  7.07106781,  8.        ,  1.41421356,\n",
              "         9.89949494,  9.21954446,  7.07106781,  9.43398113,  2.        ,\n",
              "         8.48528137,  6.        ,  5.38516481,  4.        ,  5.        ,\n",
              "         7.28010989,  9.21954446,  0.        ,  2.        ,  6.32455532,\n",
              "         8.48528137,  1.        ,  7.07106781,  7.28010989,  7.81024968,\n",
              "         4.47213595, 10.63014581,  2.        ,  4.12310563,  8.48528137,\n",
              "         7.81024968,  7.61577311,  7.61577311,  1.        ,  5.83095189],\n",
              "       [ 4.        ,  6.40312424,  5.83095189,  2.82842712,  8.24621125,\n",
              "         0.        ,  3.16227766,  1.        ,  4.47213595,  1.41421356,\n",
              "         3.60555128,  3.60555128,  5.        ,  5.83095189,  5.38516481,\n",
              "         7.81024968,  4.12310563,  4.47213595,  5.09901951,  6.70820393,\n",
              "         8.94427191,  5.38516481,  6.70820393,  2.        ,  5.65685425,\n",
              "         9.43398113,  6.70820393,  5.09901951,  2.82842712,  8.24621125,\n",
              "         2.23606798,  5.83095189,  8.06225775,  3.        ,  6.70820393,\n",
              "         5.        ,  6.40312424,  8.60232527,  7.21110255,  4.        ,\n",
              "         7.        ,  0.        ,  2.23606798,  4.47213595,  6.70820393,\n",
              "         1.41421356,  5.38516481,  4.        ,  9.21954446,  5.        ,\n",
              "         3.16227766,  5.        ,  8.24621125,  3.16227766,  3.16227766,\n",
              "         4.24264069,  1.        ,  4.47213595,  8.06225775,  5.        ,\n",
              "         5.65685425,  3.        ,  8.06225775,  3.        ,  6.08276253,\n",
              "         9.21954446,  1.41421356,  8.60232527, 10.        ,  7.07106781,\n",
              "         5.09901951,  4.12310563,  8.60232527,  3.        ,  6.32455532,\n",
              "         4.47213595,  8.94427191,  6.70820393,  8.24621125,  5.38516481,\n",
              "         7.81024968,  5.38516481,  8.24621125,  8.        ,  7.21110255,\n",
              "         4.47213595,  7.28010989,  8.60232527,  7.81024968,  3.60555128,\n",
              "         6.32455532,  5.        ,  6.32455532,  7.28010989,  4.47213595,\n",
              "         5.        ,  1.41421356,  7.07106781,  7.28010989,  3.16227766],\n",
              "       [ 1.41421356,  6.08276253,  6.        ,  1.41421356,  5.09901951,\n",
              "         3.16227766,  0.        ,  2.23606798,  3.16227766,  2.        ,\n",
              "         3.        ,  4.12310563,  5.        ,  6.        ,  3.60555128,\n",
              "         7.28010989,  2.23606798,  1.41421356,  2.82842712,  5.        ,\n",
              "         7.07106781,  6.08276253,  7.        ,  3.16227766,  5.09901951,\n",
              "         7.81024968,  7.        ,  2.82842712,  1.41421356,  5.83095189,\n",
              "         1.        ,  4.47213595,  5.        ,  5.        ,  7.        ,\n",
              "         2.23606798,  5.38516481,  7.21110255,  7.07106781,  1.41421356,\n",
              "         4.12310563,  3.16227766,  2.23606798,  5.09901951,  7.        ,\n",
              "         2.        ,  6.08276253,  1.41421356,  8.06225775,  6.70820393,\n",
              "         4.47213595,  2.23606798,  5.83095189,  4.47213595,  0.        ,\n",
              "         4.        ,  3.        ,  3.16227766,  5.38516481,  6.70820393,\n",
              "         5.09901951,  1.        ,  5.38516481,  1.        ,  3.60555128,\n",
              "         8.06225775,  2.        ,  7.21110255,  8.60232527,  4.        ,\n",
              "         6.32455532,  5.38516481,  7.21110255,  5.        ,  3.16227766,\n",
              "         5.09901951,  7.07106781,  5.        ,  5.83095189,  3.60555128,\n",
              "         6.70820393,  6.08276253,  5.09901951,  5.09901951,  5.83095189,\n",
              "         5.09901951,  4.12310563,  7.21110255,  6.70820393,  4.12310563,\n",
              "         4.24264069,  6.70820393,  3.16227766,  5.        ,  5.09901951,\n",
              "         5.        ,  2.82842712,  6.32455532,  4.12310563,  2.        ],\n",
              "       [ 3.        ,  5.83095189,  5.38516481,  2.23606798,  7.28010989,\n",
              "         1.        ,  2.23606798,  0.        ,  3.60555128,  1.        ,\n",
              "         2.82842712,  3.16227766,  4.47213595,  5.38516481,  4.47213595,\n",
              "         7.21110255,  3.16227766,  3.60555128,  4.12310563,  5.83095189,\n",
              "         8.06225775,  5.09901951,  6.32455532,  2.23606798,  5.        ,\n",
              "         8.60232527,  6.32455532,  4.12310563,  2.23606798,  7.28010989,\n",
              "         1.41421356,  5.        ,  7.07106781,  3.16227766,  6.32455532,\n",
              "         4.        ,  5.65685425,  7.81024968,  6.70820393,  3.        ,\n",
              "         6.        ,  1.        ,  1.41421356,  4.12310563,  6.32455532,\n",
              "         1.        ,  5.09901951,  3.        ,  8.48528137,  5.09901951,\n",
              "         3.        ,  4.        ,  7.28010989,  3.        ,  2.23606798,\n",
              "         3.60555128,  1.41421356,  3.60555128,  7.07106781,  5.09901951,\n",
              "         5.        ,  2.        ,  7.07106781,  2.        ,  5.09901951,\n",
              "         8.48528137,  1.        ,  7.81024968,  9.21954446,  6.08276253,\n",
              "         5.        ,  4.        ,  7.81024968,  3.16227766,  5.38516481,\n",
              "         4.12310563,  8.06225775,  5.83095189,  7.28010989,  4.47213595,\n",
              "         7.07106781,  5.09901951,  7.28010989,  7.        ,  6.40312424,\n",
              "         4.12310563,  6.32455532,  7.81024968,  7.07106781,  3.16227766,\n",
              "         5.38516481,  5.09901951,  5.38516481,  6.32455532,  4.12310563,\n",
              "         4.47213595,  1.        ,  6.40312424,  6.32455532,  2.23606798],\n",
              "       [ 2.        ,  3.        ,  3.16227766,  4.47213595,  5.65685425,\n",
              "         4.47213595,  3.16227766,  3.60555128,  0.        ,  4.24264069,\n",
              "         1.        ,  2.23606798,  2.23606798,  3.16227766,  1.        ,\n",
              "         4.12310563,  1.        ,  4.        ,  1.41421356,  2.23606798,\n",
              "         4.47213595,  3.60555128,  4.12310563,  5.65685425,  2.        ,\n",
              "         5.        ,  4.12310563,  1.41421356,  4.47213595,  4.        ,\n",
              "         3.60555128,  1.41421356,  5.        ,  4.12310563,  4.12310563,\n",
              "         2.23606798,  2.23606798,  4.24264069,  4.        ,  2.        ,\n",
              "         3.60555128,  4.47213595,  2.23606798,  2.82842712,  4.12310563,\n",
              "         4.24264069,  3.60555128,  2.        ,  5.        ,  5.        ,\n",
              "         3.16227766,  2.23606798,  4.        ,  3.16227766,  3.16227766,\n",
              "         1.41421356,  5.        ,  0.        ,  4.12310563,  5.        ,\n",
              "         2.        ,  2.23606798,  4.12310563,  2.23606798,  2.23606798,\n",
              "         5.        ,  4.24264069,  4.24264069,  5.65685425,  4.24264069,\n",
              "         4.24264069,  3.60555128,  4.24264069,  4.12310563,  4.47213595,\n",
              "         2.82842712,  4.47213595,  2.23606798,  4.        ,  1.        ,\n",
              "         3.60555128,  3.60555128,  5.65685425,  4.47213595,  2.82842712,\n",
              "         2.82842712,  5.        ,  4.24264069,  3.60555128,  2.23606798,\n",
              "         2.        ,  5.        ,  4.47213595,  3.        ,  2.82842712,\n",
              "         2.23606798,  3.16227766,  3.16227766,  5.        ,  1.41421356],\n",
              "       [ 3.16227766,  6.70820393,  6.32455532,  1.41421356,  7.07106781,\n",
              "         1.41421356,  2.        ,  1.        ,  4.24264069,  0.        ,\n",
              "         3.60555128,  4.12310563,  5.38516481,  6.32455532,  5.        ,\n",
              "         8.06225775,  3.60555128,  3.16227766,  4.47213595,  6.40312424,\n",
              "         8.60232527,  6.08276253,  7.28010989,  1.41421356,  5.83095189,\n",
              "         9.21954446,  7.28010989,  4.47213595,  1.41421356,  7.61577311,\n",
              "         1.        ,  5.65685425,  7.        ,  4.12310563,  7.28010989,\n",
              "         4.12310563,  6.40312424,  8.48528137,  7.61577311,  3.16227766,\n",
              "         6.08276253,  1.41421356,  2.23606798,  5.09901951,  7.28010989,\n",
              "         0.        ,  6.08276253,  3.16227766,  9.21954446,  6.08276253,\n",
              "         4.        ,  4.12310563,  7.61577311,  4.        ,  2.        ,\n",
              "         4.47213595,  1.        ,  4.24264069,  7.28010989,  6.08276253,\n",
              "         5.83095189,  2.23606798,  7.28010989,  2.23606798,  5.38516481,\n",
              "         9.21954446,  0.        ,  8.48528137,  9.89949494,  6.        ,\n",
              "         6.        ,  5.        ,  8.48528137,  4.12310563,  5.09901951,\n",
              "         5.09901951,  8.60232527,  6.40312424,  7.61577311,  5.        ,\n",
              "         7.81024968,  6.08276253,  7.07106781,  7.07106781,  7.07106781,\n",
              "         5.09901951,  6.08276253,  8.48528137,  7.81024968,  4.12310563,\n",
              "         5.83095189,  6.08276253,  5.09901951,  6.70820393,  5.09901951,\n",
              "         5.38516481,  2.        ,  7.21110255,  6.08276253,  2.82842712],\n",
              "       [ 2.23606798,  3.16227766,  3.        ,  4.12310563,  6.40312424,\n",
              "         3.60555128,  3.        ,  2.82842712,  1.        ,  3.60555128,\n",
              "         0.        ,  1.41421356,  2.        ,  3.        ,  2.        ,\n",
              "         4.47213595,  1.41421356,  4.12310563,  2.23606798,  3.16227766,\n",
              "         5.38516481,  3.16227766,  4.        ,  5.        ,  2.23606798,\n",
              "         5.83095189,  4.        ,  2.23606798,  4.12310563,  5.        ,\n",
              "         3.16227766,  2.23606798,  5.83095189,  3.16227766,  4.        ,\n",
              "         2.82842712,  2.82842712,  5.        ,  4.12310563,  2.23606798,\n",
              "         4.47213595,  3.60555128,  1.41421356,  2.23606798,  4.        ,\n",
              "         3.60555128,  3.16227766,  2.23606798,  5.65685425,  4.24264069,\n",
              "         2.23606798,  2.82842712,  5.        ,  2.23606798,  3.        ,\n",
              "         1.        ,  4.24264069,  1.        ,  5.09901951,  4.24264069,\n",
              "         2.23606798,  2.        ,  5.09901951,  2.        ,  3.16227766,\n",
              "         5.65685425,  3.60555128,  5.        ,  6.40312424,  5.        ,\n",
              "         3.60555128,  2.82842712,  5.        ,  3.16227766,  5.        ,\n",
              "         2.23606798,  5.38516481,  3.16227766,  5.        ,  2.        ,\n",
              "         4.24264069,  3.16227766,  6.40312424,  5.38516481,  3.60555128,\n",
              "         2.23606798,  5.65685425,  5.        ,  4.24264069,  1.41421356,\n",
              "         3.        ,  4.24264069,  5.        ,  4.        ,  2.23606798,\n",
              "         2.        ,  2.23606798,  3.60555128,  5.65685425,  1.        ],\n",
              "       [ 3.60555128,  2.82842712,  2.23606798,  5.        ,  7.81024968,\n",
              "         3.60555128,  4.12310563,  3.16227766,  2.23606798,  4.12310563,\n",
              "         1.41421356,  0.        ,  1.41421356,  2.23606798,  3.16227766,\n",
              "         4.24264069,  2.82842712,  5.38516481,  3.60555128,  4.        ,\n",
              "         6.08276253,  2.        ,  3.16227766,  5.38516481,  2.23606798,\n",
              "         6.32455532,  3.16227766,  3.60555128,  5.        ,  6.08276253,\n",
              "         4.        ,  3.        ,  7.21110255,  2.        ,  3.16227766,\n",
              "         4.24264069,  3.16227766,  5.38516481,  3.60555128,  3.60555128,\n",
              "         5.83095189,  3.60555128,  2.        ,  1.        ,  3.16227766,\n",
              "         4.12310563,  2.        ,  3.60555128,  5.83095189,  2.82842712,\n",
              "         1.        ,  4.24264069,  6.08276253,  1.        ,  4.12310563,\n",
              "         1.        ,  4.47213595,  2.23606798,  6.32455532,  2.82842712,\n",
              "         2.23606798,  3.16227766,  6.32455532,  3.16227766,  4.47213595,\n",
              "         5.83095189,  4.12310563,  5.38516481,  6.70820393,  6.40312424,\n",
              "         2.23606798,  1.41421356,  5.38516481,  2.        ,  6.40312424,\n",
              "         1.        ,  6.08276253,  4.        ,  6.08276253,  3.16227766,\n",
              "         4.47213595,  2.        ,  7.81024968,  6.70820393,  4.12310563,\n",
              "         1.        ,  7.07106781,  5.38516481,  4.47213595,  0.        ,\n",
              "         4.12310563,  2.82842712,  6.40312424,  5.09901951,  1.        ,\n",
              "         1.41421356,  2.23606798,  3.60555128,  7.07106781,  2.23606798],\n",
              "       [ 4.12310563,  1.41421356,  1.        ,  6.08276253,  7.81024968,\n",
              "         5.        ,  5.        ,  4.47213595,  2.23606798,  5.38516481,\n",
              "         2.        ,  1.41421356,  0.        ,  1.        ,  2.82842712,\n",
              "         2.82842712,  3.16227766,  6.08276253,  3.60555128,  3.16227766,\n",
              "         5.        ,  1.41421356,  2.        ,  6.70820393,  1.        ,\n",
              "         5.09901951,  2.        ,  3.60555128,  6.08276253,  5.38516481,\n",
              "         5.09901951,  2.23606798,  7.07106781,  3.16227766,  2.        ,\n",
              "         4.47213595,  2.        ,  4.12310563,  2.23606798,  4.12310563,\n",
              "         5.65685425,  5.        ,  3.16227766,  1.        ,  2.        ,\n",
              "         5.38516481,  1.41421356,  4.12310563,  4.47213595,  3.16227766,\n",
              "         2.23606798,  4.47213595,  5.38516481,  2.23606798,  5.        ,\n",
              "         1.        ,  5.83095189,  2.23606798,  5.83095189,  3.16227766,\n",
              "         1.        ,  4.        ,  5.83095189,  4.        ,  4.24264069,\n",
              "         4.47213595,  5.38516481,  4.12310563,  5.38516481,  6.40312424,\n",
              "         2.23606798,  2.        ,  4.12310563,  3.16227766,  6.70820393,\n",
              "         1.        ,  5.        ,  3.16227766,  5.38516481,  2.82842712,\n",
              "         3.16227766,  1.41421356,  7.81024968,  6.40312424,  3.        ,\n",
              "         1.        ,  7.21110255,  4.12310563,  3.16227766,  1.41421356,\n",
              "         3.60555128,  3.16227766,  6.70820393,  4.47213595,  1.        ,\n",
              "         0.        ,  3.60555128,  2.23606798,  7.21110255,  3.        ],\n",
              "       [ 5.09901951,  1.        ,  0.        ,  7.07106781,  8.60232527,\n",
              "         5.83095189,  6.        ,  5.38516481,  3.16227766,  6.32455532,\n",
              "         3.        ,  2.23606798,  1.        ,  0.        ,  3.60555128,\n",
              "         2.23606798,  4.12310563,  7.07106781,  4.47213595,  3.60555128,\n",
              "         5.09901951,  1.        ,  1.        ,  7.61577311,  1.41421356,\n",
              "         5.        ,  1.        ,  4.47213595,  7.07106781,  5.83095189,\n",
              "         6.08276253,  2.82842712,  7.81024968,  3.60555128,  1.        ,\n",
              "         5.38516481,  2.23606798,  4.        ,  1.41421356,  5.09901951,\n",
              "         6.40312424,  5.83095189,  4.12310563,  1.41421356,  1.        ,\n",
              "         6.32455532,  1.        ,  5.09901951,  4.12310563,  3.        ,\n",
              "         2.82842712,  5.38516481,  5.83095189,  2.82842712,  6.        ,\n",
              "         2.        ,  6.70820393,  3.16227766,  6.40312424,  3.        ,\n",
              "         1.41421356,  5.        ,  6.40312424,  5.        ,  5.        ,\n",
              "         4.12310563,  6.32455532,  4.        ,  5.09901951,  7.21110255,\n",
              "         2.        ,  2.23606798,  4.        ,  3.60555128,  7.61577311,\n",
              "         1.41421356,  5.09901951,  3.60555128,  5.83095189,  3.60555128,\n",
              "         3.        ,  1.        ,  8.60232527,  7.07106781,  3.16227766,\n",
              "         1.41421356,  8.06225775,  4.        ,  3.        ,  2.23606798,\n",
              "         4.24264069,  3.        ,  7.61577311,  5.        ,  1.41421356,\n",
              "         1.        ,  4.47213595,  2.        ,  8.06225775,  4.        ],\n",
              "       [ 2.23606798,  3.16227766,  3.60555128,  5.        ,  5.        ,\n",
              "         5.38516481,  3.60555128,  4.47213595,  1.        ,  5.        ,\n",
              "         2.        ,  3.16227766,  2.82842712,  3.60555128,  0.        ,\n",
              "         4.        ,  1.41421356,  4.12310563,  1.        ,  1.41421356,\n",
              "         3.60555128,  4.24264069,  4.47213595,  6.40312424,  2.23606798,\n",
              "         4.24264069,  4.47213595,  1.        ,  5.        ,  3.        ,\n",
              "         4.24264069,  1.        ,  4.24264069,  5.09901951,  4.47213595,\n",
              "         2.        ,  2.        ,  3.60555128,  4.12310563,  2.23606798,\n",
              "         2.82842712,  5.38516481,  3.16227766,  3.60555128,  4.47213595,\n",
              "         5.        ,  4.24264069,  2.23606798,  4.47213595,  5.83095189,\n",
              "         4.12310563,  2.        ,  3.        ,  4.12310563,  3.60555128,\n",
              "         2.23606798,  5.83095189,  1.        ,  3.16227766,  5.83095189,\n",
              "         2.23606798,  2.82842712,  3.16227766,  2.82842712,  1.41421356,\n",
              "         4.47213595,  5.        ,  3.60555128,  5.        ,  3.60555128,\n",
              "         5.        ,  4.47213595,  3.60555128,  5.09901951,  4.12310563,\n",
              "         3.60555128,  3.60555128,  1.41421356,  3.        ,  0.        ,\n",
              "         3.16227766,  4.24264069,  5.        ,  3.60555128,  2.23606798,\n",
              "         3.60555128,  4.47213595,  3.60555128,  3.16227766,  3.16227766,\n",
              "         1.        ,  5.83095189,  4.12310563,  2.        ,  3.60555128,\n",
              "         2.82842712,  4.12310563,  3.        ,  4.47213595,  2.23606798],\n",
              "       [ 6.08276253,  1.41421356,  2.23606798,  8.54400375,  8.54400375,\n",
              "         7.81024968,  7.28010989,  7.21110255,  4.12310563,  8.06225775,\n",
              "         4.47213595,  4.24264069,  2.82842712,  2.23606798,  4.        ,\n",
              "         0.        ,  5.09901951,  8.06225775,  5.        ,  3.16227766,\n",
              "         3.60555128,  3.16227766,  2.        ,  9.43398113,  2.23606798,\n",
              "         3.16227766,  2.        ,  5.        ,  8.54400375,  5.        ,\n",
              "         7.61577311,  3.        ,  7.61577311,  5.83095189,  2.        ,\n",
              "         6.        ,  2.        ,  2.23606798,  1.        ,  6.08276253,\n",
              "         6.32455532,  7.81024968,  5.83095189,  3.60555128,  2.        ,\n",
              "         8.06225775,  3.16227766,  6.08276253,  2.        ,  5.09901951,\n",
              "         5.        ,  6.        ,  5.        ,  5.        ,  7.28010989,\n",
              "         3.60555128,  8.60232527,  4.12310563,  5.83095189,  5.09901951,\n",
              "         2.23606798,  6.32455532,  5.83095189,  6.32455532,  5.09901951,\n",
              "         2.        ,  8.06225775,  2.23606798,  3.        ,  7.28010989,\n",
              "         4.12310563,  4.47213595,  2.23606798,  5.83095189,  8.06225775,\n",
              "         3.60555128,  3.60555128,  3.16227766,  5.        ,  4.        ,\n",
              "         1.41421356,  3.16227766,  8.54400375,  6.70820393,  2.23606798,\n",
              "         3.60555128,  8.24621125,  2.23606798,  1.41421356,  4.24264069,\n",
              "         4.12310563,  5.09901951,  8.06225775,  4.47213595,  3.60555128,\n",
              "         2.82842712,  6.40312424,  1.        ,  8.24621125,  5.38516481],\n",
              "       [ 1.        ,  4.        ,  4.12310563,  3.60555128,  5.        ,\n",
              "         4.12310563,  2.23606798,  3.16227766,  1.        ,  3.60555128,\n",
              "         1.41421356,  2.82842712,  3.16227766,  4.12310563,  1.41421356,\n",
              "         5.09901951,  0.        ,  3.        ,  1.        ,  2.82842712,\n",
              "         5.        ,  4.47213595,  5.09901951,  5.        ,  3.        ,\n",
              "         5.65685425,  5.09901951,  1.        ,  3.60555128,  4.12310563,\n",
              "         2.82842712,  2.23606798,  4.47213595,  4.47213595,  5.09901951,\n",
              "         1.41421356,  3.16227766,  5.        ,  5.        ,  1.        ,\n",
              "         3.16227766,  4.12310563,  2.        ,  3.60555128,  5.09901951,\n",
              "         3.60555128,  4.47213595,  1.        ,  5.83095189,  5.65685425,\n",
              "         3.60555128,  1.41421356,  4.12310563,  3.60555128,  2.23606798,\n",
              "         2.23606798,  4.47213595,  1.        ,  4.        ,  5.65685425,\n",
              "         3.        ,  1.41421356,  4.        ,  1.41421356,  2.        ,\n",
              "         5.83095189,  3.60555128,  5.        ,  6.40312424,  3.60555128,\n",
              "         5.        ,  4.24264069,  5.        ,  4.47213595,  3.60555128,\n",
              "         3.60555128,  5.        ,  2.82842712,  4.12310563,  1.41421356,\n",
              "         4.47213595,  4.47213595,  5.        ,  4.12310563,  3.60555128,\n",
              "         3.60555128,  4.24264069,  5.        ,  4.47213595,  2.82842712,\n",
              "         2.23606798,  5.65685425,  3.60555128,  3.16227766,  3.60555128,\n",
              "         3.16227766,  3.        ,  4.12310563,  4.24264069,  1.        ],\n",
              "       [ 2.        ,  7.        ,  7.07106781,  2.        ,  4.        ,\n",
              "         4.47213595,  1.41421356,  3.60555128,  4.        ,  3.16227766,\n",
              "         4.12310563,  5.38516481,  6.08276253,  7.07106781,  4.12310563,\n",
              "         8.06225775,  3.        ,  0.        ,  3.16227766,  5.38516481,\n",
              "         7.21110255,  7.28010989,  8.06225775,  4.        ,  6.        ,\n",
              "         8.06225775,  8.06225775,  3.16227766,  2.        ,  5.65685425,\n",
              "         2.23606798,  5.09901951,  4.12310563,  6.40312424,  8.06225775,\n",
              "         2.23606798,  6.08276253,  7.61577311,  8.        ,  2.        ,\n",
              "         3.60555128,  4.47213595,  3.60555128,  6.32455532,  8.06225775,\n",
              "         3.16227766,  7.28010989,  2.        ,  8.54400375,  8.06225775,\n",
              "         5.83095189,  2.23606798,  5.65685425,  5.83095189,  1.41421356,\n",
              "         5.09901951,  4.12310563,  4.        ,  5.        ,  8.06225775,\n",
              "         6.        ,  2.23606798,  5.        ,  2.23606798,  3.60555128,\n",
              "         8.54400375,  3.16227766,  7.61577311,  8.94427191,  3.16227766,\n",
              "         7.61577311,  6.70820393,  7.61577311,  6.40312424,  2.        ,\n",
              "         6.32455532,  7.21110255,  5.38516481,  5.65685425,  4.12310563,\n",
              "         7.28010989,  7.28010989,  4.        ,  4.47213595,  6.32455532,\n",
              "         6.32455532,  3.        ,  7.61577311,  7.28010989,  5.38516481,\n",
              "         4.47213595,  8.06225775,  2.        ,  5.        ,  6.32455532,\n",
              "         6.08276253,  4.24264069,  7.07106781,  3.        ,  3.16227766],\n",
              "       [ 1.41421356,  4.12310563,  4.47213595,  4.24264069,  4.24264069,\n",
              "         5.09901951,  2.82842712,  4.12310563,  1.41421356,  4.47213595,\n",
              "         2.23606798,  3.60555128,  3.60555128,  4.47213595,  1.        ,\n",
              "         5.        ,  1.        ,  3.16227766,  0.        ,  2.23606798,\n",
              "         4.24264069,  5.        ,  5.38516481,  5.83095189,  3.16227766,\n",
              "         5.        ,  5.38516481,  0.        ,  4.24264069,  3.16227766,\n",
              "         3.60555128,  2.        ,  3.60555128,  5.38516481,  5.38516481,\n",
              "         1.        ,  3.        ,  4.47213595,  5.09901951,  1.41421356,\n",
              "         2.23606798,  5.09901951,  3.        ,  4.24264069,  5.38516481,\n",
              "         4.47213595,  5.        ,  1.41421356,  5.38516481,  6.40312424,\n",
              "         4.47213595,  1.        ,  3.16227766,  4.47213595,  2.82842712,\n",
              "         2.82842712,  5.38516481,  1.41421356,  3.        ,  6.40312424,\n",
              "         3.16227766,  2.23606798,  3.        ,  2.23606798,  1.        ,\n",
              "         5.38516481,  4.47213595,  4.47213595,  5.83095189,  2.82842712,\n",
              "         5.65685425,  5.        ,  4.47213595,  5.38516481,  3.16227766,\n",
              "         4.24264069,  4.24264069,  2.23606798,  3.16227766,  1.        ,\n",
              "         4.12310563,  5.        ,  4.24264069,  3.16227766,  3.16227766,\n",
              "         4.24264069,  3.60555128,  4.47213595,  4.12310563,  3.60555128,\n",
              "         1.41421356,  6.40312424,  3.16227766,  2.23606798,  4.24264069,\n",
              "         3.60555128,  4.        ,  4.        ,  3.60555128,  2.        ],\n",
              "       [ 3.60555128,  2.82842712,  3.60555128,  6.40312424,  5.38516481,\n",
              "         6.70820393,  5.        ,  5.83095189,  2.23606798,  6.40312424,\n",
              "         3.16227766,  4.        ,  3.16227766,  3.60555128,  1.41421356,\n",
              "         3.16227766,  2.82842712,  5.38516481,  2.23606798,  0.        ,\n",
              "         2.23606798,  4.47213595,  4.24264069,  7.81024968,  2.23606798,\n",
              "         2.82842712,  4.24264069,  2.23606798,  6.40312424,  2.23606798,\n",
              "         5.65685425,  1.        ,  4.47213595,  6.        ,  4.24264069,\n",
              "         3.16227766,  1.41421356,  2.23606798,  3.60555128,  3.60555128,\n",
              "         3.16227766,  6.70820393,  4.47213595,  4.12310563,  4.24264069,\n",
              "         6.40312424,  4.47213595,  3.60555128,  3.16227766,  6.32455532,\n",
              "         5.        ,  3.16227766,  2.23606798,  5.        ,  5.        ,\n",
              "         3.        ,  7.21110255,  2.23606798,  2.82842712,  6.32455532,\n",
              "         2.23606798,  4.24264069,  2.82842712,  4.24264069,  2.        ,\n",
              "         3.16227766,  6.40312424,  2.23606798,  3.60555128,  4.12310563,\n",
              "         5.38516481,  5.09901951,  2.23606798,  6.        ,  5.        ,\n",
              "         4.12310563,  2.23606798,  0.        ,  2.23606798,  1.41421356,\n",
              "         2.        ,  4.47213595,  5.38516481,  3.60555128,  1.        ,\n",
              "         4.12310563,  5.09901951,  2.23606798,  2.        ,  4.        ,\n",
              "         1.        ,  6.32455532,  5.        ,  1.41421356,  4.12310563,\n",
              "         3.16227766,  5.38516481,  2.23606798,  5.09901951,  3.60555128],\n",
              "       [ 5.65685425,  4.12310563,  5.09901951,  8.48528137,  6.        ,\n",
              "         8.94427191,  7.07106781,  8.06225775,  4.47213595,  8.60232527,\n",
              "         5.38516481,  6.08276253,  5.        ,  5.09901951,  3.60555128,\n",
              "         3.60555128,  5.        ,  7.21110255,  4.24264069,  2.23606798,\n",
              "         0.        ,  6.08276253,  5.38516481, 10.        ,  4.        ,\n",
              "         1.        ,  5.38516481,  4.24264069,  8.48528137,  2.        ,\n",
              "         7.81024968,  3.16227766,  5.        ,  8.06225775,  5.38516481,\n",
              "         5.        ,  3.        ,  1.41421356,  4.47213595,  5.65685425,\n",
              "         4.12310563,  8.94427191,  6.70820393,  6.        ,  5.38516481,\n",
              "         8.60232527,  6.08276253,  5.65685425,  2.23606798,  8.06225775,\n",
              "         7.07106781,  5.        ,  2.        ,  7.07106781,  7.07106781,\n",
              "         5.09901951,  9.43398113,  4.47213595,  3.        ,  8.06225775,\n",
              "         4.        ,  6.40312424,  3.        ,  6.40312424,  3.60555128,\n",
              "         2.23606798,  8.60232527,  1.41421356,  2.        ,  5.09901951,\n",
              "         7.07106781,  7.        ,  1.41421356,  8.06225775,  6.32455532,\n",
              "         6.        ,  0.        ,  2.23606798,  2.        ,  3.60555128,\n",
              "         2.23606798,  6.08276253,  6.        ,  4.        ,  2.        ,\n",
              "         6.        ,  6.08276253,  1.41421356,  2.23606798,  6.08276253,\n",
              "         2.82842712,  8.06225775,  6.32455532,  2.23606798,  6.        ,\n",
              "         5.        ,  7.61577311,  3.16227766,  6.08276253,  5.83095189],\n",
              "       [ 5.38516481,  2.        ,  1.        ,  7.        ,  9.21954446,\n",
              "         5.38516481,  6.08276253,  5.09901951,  3.60555128,  6.08276253,\n",
              "         3.16227766,  2.        ,  1.41421356,  1.        ,  4.24264069,\n",
              "         3.16227766,  4.47213595,  7.28010989,  5.        ,  4.47213595,\n",
              "         6.08276253,  0.        ,  1.41421356,  7.28010989,  2.23606798,\n",
              "         6.        ,  1.41421356,  5.        ,  7.        ,  6.70820393,\n",
              "         6.        ,  3.60555128,  8.48528137,  2.82842712,  1.41421356,\n",
              "         5.83095189,  3.16227766,  5.        ,  2.23606798,  5.38516481,\n",
              "         7.07106781,  5.38516481,  4.        ,  1.        ,  1.41421356,\n",
              "         6.08276253,  0.        ,  5.38516481,  5.09901951,  2.        ,\n",
              "         2.23606798,  5.83095189,  6.70820393,  2.23606798,  6.08276253,\n",
              "         2.23606798,  6.32455532,  3.60555128,  7.21110255,  2.        ,\n",
              "         2.23606798,  5.09901951,  7.21110255,  5.09901951,  5.65685425,\n",
              "         5.09901951,  6.08276253,  5.        ,  6.08276253,  7.81024968,\n",
              "         1.        ,  1.41421356,  5.        ,  2.82842712,  8.06225775,\n",
              "         1.        ,  6.08276253,  4.47213595,  6.70820393,  4.24264069,\n",
              "         4.        ,  0.        ,  9.21954446,  7.81024968,  4.12310563,\n",
              "         1.        ,  8.60232527,  5.        ,  4.        ,  2.        ,\n",
              "         5.        ,  2.        ,  8.06225775,  5.83095189,  1.        ,\n",
              "         1.41421356,  4.12310563,  3.        ,  8.60232527,  4.12310563],\n",
              "       [ 6.08276253,  1.41421356,  1.        ,  8.06225775,  9.43398113,\n",
              "         6.70820393,  7.        ,  6.32455532,  4.12310563,  7.28010989,\n",
              "         4.        ,  3.16227766,  2.        ,  1.        ,  4.47213595,\n",
              "         2.        ,  5.09901951,  8.06225775,  5.38516481,  4.24264069,\n",
              "         5.38516481,  1.41421356,  0.        ,  8.54400375,  2.23606798,\n",
              "         5.09901951,  0.        ,  5.38516481,  8.06225775,  6.40312424,\n",
              "         7.07106781,  3.60555128,  8.60232527,  4.24264069,  0.        ,\n",
              "         6.32455532,  2.82842712,  4.12310563,  1.        ,  6.08276253,\n",
              "         7.21110255,  6.70820393,  5.09901951,  2.23606798,  0.        ,\n",
              "         7.28010989,  1.41421356,  6.08276253,  4.        ,  3.16227766,\n",
              "         3.60555128,  6.32455532,  6.40312424,  3.60555128,  7.        ,\n",
              "         3.        ,  7.61577311,  4.12310563,  7.07106781,  3.16227766,\n",
              "         2.23606798,  6.        ,  7.07106781,  6.        ,  5.83095189,\n",
              "         4.        ,  7.28010989,  4.12310563,  5.        ,  8.06225775,\n",
              "         2.23606798,  2.82842712,  4.12310563,  4.24264069,  8.54400375,\n",
              "         2.23606798,  5.38516481,  4.24264069,  6.40312424,  4.47213595,\n",
              "         3.16227766,  1.41421356,  9.43398113,  7.81024968,  3.60555128,\n",
              "         2.23606798,  8.94427191,  4.12310563,  3.16227766,  3.16227766,\n",
              "         5.        ,  3.16227766,  8.54400375,  5.65685425,  2.23606798,\n",
              "         2.        ,  5.38516481,  2.23606798,  8.94427191,  5.        ],\n",
              "       [ 4.47213595,  8.06225775,  7.61577311,  2.        ,  8.        ,\n",
              "         2.        ,  3.16227766,  2.23606798,  5.65685425,  1.41421356,\n",
              "         5.        ,  5.38516481,  6.70820393,  7.61577311,  6.40312424,\n",
              "         9.43398113,  5.        ,  4.        ,  5.83095189,  7.81024968,\n",
              "        10.        ,  7.28010989,  8.54400375,  0.        ,  7.21110255,\n",
              "        10.63014581,  8.54400375,  5.83095189,  2.        ,  8.94427191,\n",
              "         2.23606798,  7.07106781,  8.06225775,  5.        ,  8.54400375,\n",
              "         5.38516481,  7.81024968,  9.89949494,  8.94427191,  4.47213595,\n",
              "         7.28010989,  2.        ,  3.60555128,  6.32455532,  8.54400375,\n",
              "         1.41421356,  7.28010989,  4.47213595, 10.63014581,  7.        ,\n",
              "         5.09901951,  5.38516481,  8.94427191,  5.09901951,  3.16227766,\n",
              "         5.83095189,  1.        ,  5.65685425,  8.54400375,  7.        ,\n",
              "         7.21110255,  3.60555128,  8.54400375,  3.60555128,  6.70820393,\n",
              "        10.63014581,  1.41421356,  9.89949494, 11.3137085 ,  7.07106781,\n",
              "         7.07106781,  6.08276253,  9.89949494,  5.        ,  6.        ,\n",
              "         6.32455532, 10.        ,  7.81024968,  8.94427191,  6.40312424,\n",
              "         9.21954446,  7.28010989,  8.        ,  8.24621125,  8.48528137,\n",
              "         6.32455532,  7.        ,  9.89949494,  9.21954446,  5.38516481,\n",
              "         7.21110255,  7.        ,  6.        ,  8.06225775,  6.32455532,\n",
              "         6.70820393,  3.16227766,  8.60232527,  7.        ,  4.24264069],\n",
              "       [ 4.        ,  1.        ,  1.41421356,  6.32455532,  7.21110255,\n",
              "         5.65685425,  5.09901951,  5.        ,  2.        ,  5.83095189,\n",
              "         2.23606798,  2.23606798,  1.        ,  1.41421356,  2.23606798,\n",
              "         2.23606798,  3.        ,  6.        ,  3.16227766,  2.23606798,\n",
              "         4.        ,  2.23606798,  2.23606798,  7.21110255,  0.        ,\n",
              "         4.12310563,  2.23606798,  3.16227766,  6.32455532,  4.47213595,\n",
              "         5.38516481,  1.41421356,  6.40312424,  4.12310563,  2.23606798,\n",
              "         4.12310563,  1.        ,  3.16227766,  2.        ,  4.        ,\n",
              "         5.        ,  5.65685425,  3.60555128,  2.        ,  2.23606798,\n",
              "         5.83095189,  2.23606798,  4.        ,  3.60555128,  4.12310563,\n",
              "         3.16227766,  4.12310563,  4.47213595,  3.16227766,  5.09901951,\n",
              "         1.41421356,  6.40312424,  2.        ,  5.        ,  4.12310563,\n",
              "         0.        ,  4.12310563,  5.        ,  4.12310563,  3.60555128,\n",
              "         3.60555128,  5.83095189,  3.16227766,  4.47213595,  5.83095189,\n",
              "         3.16227766,  3.        ,  3.16227766,  4.12310563,  6.32455532,\n",
              "         2.        ,  4.        ,  2.23606798,  4.47213595,  2.23606798,\n",
              "         2.23606798,  2.23606798,  7.21110255,  5.65685425,  2.        ,\n",
              "         2.        ,  6.70820393,  3.16227766,  2.23606798,  2.23606798,\n",
              "         2.82842712,  4.12310563,  6.32455532,  3.60555128,  2.        ,\n",
              "         1.        ,  4.24264069,  1.41421356,  6.70820393,  3.16227766],\n",
              "       [ 6.40312424,  4.        ,  5.        ,  9.21954446,  7.        ,\n",
              "         9.43398113,  7.81024968,  8.60232527,  5.        ,  9.21954446,\n",
              "         5.83095189,  6.32455532,  5.09901951,  5.        ,  4.24264069,\n",
              "         3.16227766,  5.65685425,  8.06225775,  5.        ,  2.82842712,\n",
              "         1.        ,  6.        ,  5.09901951, 10.63014581,  4.12310563,\n",
              "         0.        ,  5.09901951,  5.        ,  9.21954446,  3.        ,\n",
              "         8.48528137,  3.60555128,  6.        ,  8.24621125,  5.09901951,\n",
              "         5.83095189,  3.16227766,  1.        ,  4.12310563,  6.40312424,\n",
              "         5.09901951,  9.43398113,  7.21110255,  6.08276253,  5.09901951,\n",
              "         9.21954446,  6.        ,  6.40312424,  1.41421356,  8.        ,\n",
              "         7.28010989,  5.83095189,  3.        ,  7.28010989,  7.81024968,\n",
              "         5.38516481, 10.        ,  5.        ,  4.        ,  8.        ,\n",
              "         4.12310563,  7.07106781,  4.        ,  7.07106781,  4.47213595,\n",
              "         1.41421356,  9.21954446,  1.        ,  1.        ,  6.08276253,\n",
              "         7.        ,  7.07106781,  1.        ,  8.24621125,  7.28010989,\n",
              "         6.08276253,  1.        ,  2.82842712,  3.        ,  4.24264069,\n",
              "         2.        ,  6.        ,  7.        ,  5.        ,  2.23606798,\n",
              "         6.08276253,  7.07106781,  1.        ,  2.        ,  6.32455532,\n",
              "         3.60555128,  8.        ,  7.28010989,  3.16227766,  6.08276253,\n",
              "         5.09901951,  8.06225775,  3.        ,  7.07106781,  6.40312424],\n",
              "       [ 6.08276253,  1.41421356,  1.        ,  8.06225775,  9.43398113,\n",
              "         6.70820393,  7.        ,  6.32455532,  4.12310563,  7.28010989,\n",
              "         4.        ,  3.16227766,  2.        ,  1.        ,  4.47213595,\n",
              "         2.        ,  5.09901951,  8.06225775,  5.38516481,  4.24264069,\n",
              "         5.38516481,  1.41421356,  0.        ,  8.54400375,  2.23606798,\n",
              "         5.09901951,  0.        ,  5.38516481,  8.06225775,  6.40312424,\n",
              "         7.07106781,  3.60555128,  8.60232527,  4.24264069,  0.        ,\n",
              "         6.32455532,  2.82842712,  4.12310563,  1.        ,  6.08276253,\n",
              "         7.21110255,  6.70820393,  5.09901951,  2.23606798,  0.        ,\n",
              "         7.28010989,  1.41421356,  6.08276253,  4.        ,  3.16227766,\n",
              "         3.60555128,  6.32455532,  6.40312424,  3.60555128,  7.        ,\n",
              "         3.        ,  7.61577311,  4.12310563,  7.07106781,  3.16227766,\n",
              "         2.23606798,  6.        ,  7.07106781,  6.        ,  5.83095189,\n",
              "         4.        ,  7.28010989,  4.12310563,  5.        ,  8.06225775,\n",
              "         2.23606798,  2.82842712,  4.12310563,  4.24264069,  8.54400375,\n",
              "         2.23606798,  5.38516481,  4.24264069,  6.40312424,  4.47213595,\n",
              "         3.16227766,  1.41421356,  9.43398113,  7.81024968,  3.60555128,\n",
              "         2.23606798,  8.94427191,  4.12310563,  3.16227766,  3.16227766,\n",
              "         5.        ,  3.16227766,  8.54400375,  5.65685425,  2.23606798,\n",
              "         2.        ,  5.38516481,  2.23606798,  8.94427191,  5.        ],\n",
              "       [ 1.41421356,  4.12310563,  4.47213595,  4.24264069,  4.24264069,\n",
              "         5.09901951,  2.82842712,  4.12310563,  1.41421356,  4.47213595,\n",
              "         2.23606798,  3.60555128,  3.60555128,  4.47213595,  1.        ,\n",
              "         5.        ,  1.        ,  3.16227766,  0.        ,  2.23606798,\n",
              "         4.24264069,  5.        ,  5.38516481,  5.83095189,  3.16227766,\n",
              "         5.        ,  5.38516481,  0.        ,  4.24264069,  3.16227766,\n",
              "         3.60555128,  2.        ,  3.60555128,  5.38516481,  5.38516481,\n",
              "         1.        ,  3.        ,  4.47213595,  5.09901951,  1.41421356,\n",
              "         2.23606798,  5.09901951,  3.        ,  4.24264069,  5.38516481,\n",
              "         4.47213595,  5.        ,  1.41421356,  5.38516481,  6.40312424,\n",
              "         4.47213595,  1.        ,  3.16227766,  4.47213595,  2.82842712,\n",
              "         2.82842712,  5.38516481,  1.41421356,  3.        ,  6.40312424,\n",
              "         3.16227766,  2.23606798,  3.        ,  2.23606798,  1.        ,\n",
              "         5.38516481,  4.47213595,  4.47213595,  5.83095189,  2.82842712,\n",
              "         5.65685425,  5.        ,  4.47213595,  5.38516481,  3.16227766,\n",
              "         4.24264069,  4.24264069,  2.23606798,  3.16227766,  1.        ,\n",
              "         4.12310563,  5.        ,  4.24264069,  3.16227766,  3.16227766,\n",
              "         4.24264069,  3.60555128,  4.47213595,  4.12310563,  3.60555128,\n",
              "         1.41421356,  6.40312424,  3.16227766,  2.23606798,  4.24264069,\n",
              "         3.60555128,  4.        ,  4.        ,  3.60555128,  2.        ],\n",
              "       [ 2.82842712,  7.28010989,  7.07106781,  0.        ,  6.        ,\n",
              "         2.82842712,  1.41421356,  2.23606798,  4.47213595,  1.41421356,\n",
              "         4.12310563,  5.        ,  6.08276253,  7.07106781,  5.        ,\n",
              "         8.54400375,  3.60555128,  2.        ,  4.24264069,  6.40312424,\n",
              "         8.48528137,  7.        ,  8.06225775,  2.        ,  6.32455532,\n",
              "         9.21954446,  8.06225775,  4.24264069,  0.        ,  7.21110255,\n",
              "         1.        ,  5.83095189,  6.08276253,  5.38516481,  8.06225775,\n",
              "         3.60555128,  6.70820393,  8.60232527,  8.24621125,  2.82842712,\n",
              "         5.38516481,  2.82842712,  3.        ,  6.        ,  8.06225775,\n",
              "         1.41421356,  7.        ,  2.82842712,  9.43398113,  7.28010989,\n",
              "         5.09901951,  3.60555128,  7.21110255,  5.09901951,  1.41421356,\n",
              "         5.09901951,  2.23606798,  4.47213595,  6.70820393,  7.28010989,\n",
              "         6.32455532,  2.23606798,  6.70820393,  2.23606798,  5.        ,\n",
              "         9.43398113,  1.41421356,  8.60232527, 10.        ,  5.09901951,\n",
              "         7.07106781,  6.08276253,  8.60232527,  5.38516481,  4.        ,\n",
              "         6.        ,  8.48528137,  6.40312424,  7.21110255,  5.        ,\n",
              "         8.06225775,  7.        ,  6.        ,  6.32455532,  7.21110255,\n",
              "         6.        ,  5.        ,  8.60232527,  8.06225775,  5.        ,\n",
              "         5.65685425,  7.28010989,  4.        ,  6.40312424,  6.        ,\n",
              "         6.08276253,  3.16227766,  7.61577311,  5.        ,  3.16227766],\n",
              "       [ 4.47213595,  5.        ,  5.83095189,  7.21110255,  4.        ,\n",
              "         8.24621125,  5.83095189,  7.28010989,  4.        ,  7.61577311,\n",
              "         5.        ,  6.08276253,  5.38516481,  5.83095189,  3.        ,\n",
              "         5.        ,  4.12310563,  5.65685425,  3.16227766,  2.23606798,\n",
              "         2.        ,  6.70820393,  6.40312424,  8.94427191,  4.47213595,\n",
              "         3.        ,  6.40312424,  3.16227766,  7.21110255,  0.        ,\n",
              "         6.70820393,  3.16227766,  3.        ,  8.06225775,  6.40312424,\n",
              "         3.60555128,  3.60555128,  3.16227766,  5.65685425,  4.47213595,\n",
              "         2.23606798,  8.24621125,  6.08276253,  6.32455532,  6.40312424,\n",
              "         7.61577311,  6.70820393,  4.47213595,  4.12310563,  8.54400375,\n",
              "         7.07106781,  3.60555128,  0.        ,  7.07106781,  5.83095189,\n",
              "         5.09901951,  8.54400375,  4.        ,  1.        ,  8.54400375,\n",
              "         4.47213595,  5.38516481,  1.        ,  5.38516481,  2.23606798,\n",
              "         4.12310563,  7.61577311,  3.16227766,  4.        ,  3.16227766,\n",
              "         7.61577311,  7.28010989,  3.16227766,  8.06225775,  4.47213595,\n",
              "         6.32455532,  2.        ,  2.23606798,  0.        ,  3.        ,\n",
              "         3.60555128,  6.70820393,  4.        ,  2.        ,  2.82842712,\n",
              "         6.32455532,  4.12310563,  3.16227766,  3.60555128,  6.08276253,\n",
              "         2.        ,  8.54400375,  4.47213595,  1.        ,  6.32455532,\n",
              "         5.38516481,  7.07106781,  4.24264069,  4.12310563,  5.09901951],\n",
              "       [ 2.23606798,  6.32455532,  6.08276253,  1.        ,  6.08276253,\n",
              "         2.23606798,  1.        ,  1.41421356,  3.60555128,  1.        ,\n",
              "         3.16227766,  4.        ,  5.09901951,  6.08276253,  4.24264069,\n",
              "         7.61577311,  2.82842712,  2.23606798,  3.60555128,  5.65685425,\n",
              "         7.81024968,  6.        ,  7.07106781,  2.23606798,  5.38516481,\n",
              "         8.48528137,  7.07106781,  3.60555128,  1.        ,  6.70820393,\n",
              "         0.        ,  5.        ,  6.        ,  4.47213595,  7.07106781,\n",
              "         3.16227766,  5.83095189,  7.81024968,  7.28010989,  2.23606798,\n",
              "         5.09901951,  2.23606798,  2.        ,  5.        ,  7.07106781,\n",
              "         1.        ,  6.        ,  2.23606798,  8.60232527,  6.32455532,\n",
              "         4.12310563,  3.16227766,  6.70820393,  4.12310563,  1.        ,\n",
              "         4.12310563,  2.        ,  3.60555128,  6.32455532,  6.32455532,\n",
              "         5.38516481,  1.41421356,  6.32455532,  1.41421356,  4.47213595,\n",
              "         8.60232527,  1.        ,  7.81024968,  9.21954446,  5.        ,\n",
              "         6.08276253,  5.09901951,  7.81024968,  4.47213595,  4.12310563,\n",
              "         5.        ,  7.81024968,  5.65685425,  6.70820393,  4.24264069,\n",
              "         7.21110255,  6.        ,  6.08276253,  6.08276253,  6.40312424,\n",
              "         5.        ,  5.09901951,  7.81024968,  7.21110255,  4.        ,\n",
              "         5.        ,  6.32455532,  4.12310563,  5.83095189,  5.        ,\n",
              "         5.09901951,  2.23606798,  6.70820393,  5.09901951,  2.23606798],\n",
              "       [ 3.16227766,  2.23606798,  2.82842712,  5.83095189,  5.83095189,\n",
              "         5.83095189,  4.47213595,  5.        ,  1.41421356,  5.65685425,\n",
              "         2.23606798,  3.        ,  2.23606798,  2.82842712,  1.        ,\n",
              "         3.        ,  2.23606798,  5.09901951,  2.        ,  1.        ,\n",
              "         3.16227766,  3.60555128,  3.60555128,  7.07106781,  1.41421356,\n",
              "         3.60555128,  3.60555128,  2.        ,  5.83095189,  3.16227766,\n",
              "         5.        ,  0.        ,  5.        ,  5.        ,  3.60555128,\n",
              "         3.        ,  1.        ,  2.82842712,  3.16227766,  3.16227766,\n",
              "         3.60555128,  5.83095189,  3.60555128,  3.16227766,  3.60555128,\n",
              "         5.65685425,  3.60555128,  3.16227766,  3.60555128,  5.38516481,\n",
              "         4.        ,  3.        ,  3.16227766,  4.        ,  4.47213595,\n",
              "         2.        ,  6.40312424,  1.41421356,  3.60555128,  5.38516481,\n",
              "         1.41421356,  3.60555128,  3.60555128,  3.60555128,  2.23606798,\n",
              "         3.60555128,  5.65685425,  2.82842712,  4.24264069,  4.47213595,\n",
              "         4.47213595,  4.12310563,  2.82842712,  5.        ,  5.09901951,\n",
              "         3.16227766,  3.16227766,  1.        ,  3.16227766,  1.        ,\n",
              "         2.23606798,  3.60555128,  5.83095189,  4.24264069,  1.41421356,\n",
              "         3.16227766,  5.38516481,  2.82842712,  2.23606798,  3.        ,\n",
              "         1.41421356,  5.38516481,  5.09901951,  2.23606798,  3.16227766,\n",
              "         2.23606798,  4.47213595,  2.        ,  5.38516481,  2.82842712],\n",
              "       [ 4.12310563,  7.21110255,  7.81024968,  6.08276253,  1.        ,\n",
              "         8.06225775,  5.        ,  7.07106781,  5.        ,  7.        ,\n",
              "         5.83095189,  7.21110255,  7.07106781,  7.81024968,  4.24264069,\n",
              "         7.61577311,  4.47213595,  4.12310563,  3.60555128,  4.47213595,\n",
              "         5.        ,  8.48528137,  8.60232527,  8.06225775,  6.40312424,\n",
              "         6.        ,  8.60232527,  3.60555128,  6.08276253,  3.        ,\n",
              "         6.        ,  5.        ,  0.        ,  8.94427191,  8.60232527,\n",
              "         3.16227766,  5.83095189,  6.08276253,  8.06225775,  4.12310563,\n",
              "         1.41421356,  8.06225775,  6.32455532,  7.81024968,  8.60232527,\n",
              "         7.        ,  8.48528137,  4.12310563,  7.07106781, 10.        ,\n",
              "         8.06225775,  3.16227766,  3.        ,  8.06225775,  5.        ,\n",
              "         6.40312424,  8.        ,  5.        ,  2.        , 10.        ,\n",
              "         6.40312424,  5.09901951,  2.        ,  5.09901951,  2.82842712,\n",
              "         7.07106781,  7.        ,  6.08276253,  7.        ,  1.        ,\n",
              "         9.21954446,  8.60232527,  6.08276253,  8.94427191,  2.23606798,\n",
              "         7.81024968,  5.        ,  4.47213595,  3.        ,  4.24264069,\n",
              "         6.32455532,  8.48528137,  1.        ,  1.        ,  5.38516481,\n",
              "         7.81024968,  1.41421356,  6.08276253,  6.32455532,  7.21110255,\n",
              "         3.60555128, 10.        ,  2.23606798,  3.16227766,  7.81024968,\n",
              "         7.07106781,  7.28010989,  6.70820393,  1.41421356,  5.38516481],\n",
              "       [ 5.        ,  4.47213595,  3.60555128,  5.38516481,  9.43398113,\n",
              "         3.        ,  5.        ,  3.16227766,  4.12310563,  4.12310563,\n",
              "         3.16227766,  2.        ,  3.16227766,  3.60555128,  5.09901951,\n",
              "         5.83095189,  4.47213595,  6.40312424,  5.38516481,  6.        ,\n",
              "         8.06225775,  2.82842712,  4.24264069,  5.        ,  4.12310563,\n",
              "         8.24621125,  4.24264069,  5.38516481,  5.38516481,  8.06225775,\n",
              "         4.47213595,  5.        ,  8.94427191,  0.        ,  4.24264069,\n",
              "         5.83095189,  5.09901951,  7.28010989,  5.        ,  5.        ,\n",
              "         7.61577311,  3.        ,  2.82842712,  2.23606798,  4.24264069,\n",
              "         4.12310563,  2.82842712,  5.        ,  7.61577311,  2.        ,\n",
              "         1.        ,  5.83095189,  8.06225775,  1.        ,  5.        ,\n",
              "         3.        ,  4.        ,  4.12310563,  8.24621125,  2.        ,\n",
              "         4.12310563,  4.24264069,  8.24621125,  4.24264069,  6.32455532,\n",
              "         7.61577311,  4.12310563,  7.28010989,  8.54400375,  8.06225775,\n",
              "         2.23606798,  1.41421356,  7.28010989,  0.        ,  7.81024968,\n",
              "         2.23606798,  8.06225775,  6.        ,  8.06225775,  5.09901951,\n",
              "         6.32455532,  2.82842712,  9.43398113,  8.54400375,  6.08276253,\n",
              "         2.23606798,  8.60232527,  7.28010989,  6.32455532,  2.        ,\n",
              "         6.08276253,  2.        ,  7.81024968,  7.07106781,  2.23606798,\n",
              "         3.16227766,  2.23606798,  5.38516481,  8.60232527,  3.60555128],\n",
              "       [ 6.08276253,  1.41421356,  1.        ,  8.06225775,  9.43398113,\n",
              "         6.70820393,  7.        ,  6.32455532,  4.12310563,  7.28010989,\n",
              "         4.        ,  3.16227766,  2.        ,  1.        ,  4.47213595,\n",
              "         2.        ,  5.09901951,  8.06225775,  5.38516481,  4.24264069,\n",
              "         5.38516481,  1.41421356,  0.        ,  8.54400375,  2.23606798,\n",
              "         5.09901951,  0.        ,  5.38516481,  8.06225775,  6.40312424,\n",
              "         7.07106781,  3.60555128,  8.60232527,  4.24264069,  0.        ,\n",
              "         6.32455532,  2.82842712,  4.12310563,  1.        ,  6.08276253,\n",
              "         7.21110255,  6.70820393,  5.09901951,  2.23606798,  0.        ,\n",
              "         7.28010989,  1.41421356,  6.08276253,  4.        ,  3.16227766,\n",
              "         3.60555128,  6.32455532,  6.40312424,  3.60555128,  7.        ,\n",
              "         3.        ,  7.61577311,  4.12310563,  7.07106781,  3.16227766,\n",
              "         2.23606798,  6.        ,  7.07106781,  6.        ,  5.83095189,\n",
              "         4.        ,  7.28010989,  4.12310563,  5.        ,  8.06225775,\n",
              "         2.23606798,  2.82842712,  4.12310563,  4.24264069,  8.54400375,\n",
              "         2.23606798,  5.38516481,  4.24264069,  6.40312424,  4.47213595,\n",
              "         3.16227766,  1.41421356,  9.43398113,  7.81024968,  3.60555128,\n",
              "         2.23606798,  8.94427191,  4.12310563,  3.16227766,  3.16227766,\n",
              "         5.        ,  3.16227766,  8.54400375,  5.65685425,  2.23606798,\n",
              "         2.        ,  5.38516481,  2.23606798,  8.94427191,  5.        ],\n",
              "       [ 1.        ,  5.09901951,  5.38516481,  3.60555128,  3.60555128,\n",
              "         5.        ,  2.23606798,  4.        ,  2.23606798,  4.12310563,\n",
              "         2.82842712,  4.24264069,  4.47213595,  5.38516481,  2.        ,\n",
              "         6.        ,  1.41421356,  2.23606798,  1.        ,  3.16227766,\n",
              "         5.        ,  5.83095189,  6.32455532,  5.38516481,  4.12310563,\n",
              "         5.83095189,  6.32455532,  1.        ,  3.60555128,  3.60555128,\n",
              "         3.16227766,  3.        ,  3.16227766,  5.83095189,  6.32455532,\n",
              "         0.        ,  4.        ,  5.38516481,  6.08276253,  1.        ,\n",
              "         2.        ,  5.        ,  3.16227766,  5.        ,  6.32455532,\n",
              "         4.12310563,  5.83095189,  1.        ,  6.32455532,  7.07106781,\n",
              "         5.        ,  0.        ,  3.60555128,  5.        ,  2.23606798,\n",
              "         3.60555128,  5.09901951,  2.23606798,  3.16227766,  7.07106781,\n",
              "         4.12310563,  2.        ,  3.16227766,  2.        ,  1.41421356,\n",
              "         6.32455532,  4.12310563,  5.38516481,  6.70820393,  2.23606798,\n",
              "         6.40312424,  5.65685425,  5.38516481,  5.83095189,  2.23606798,\n",
              "         5.        ,  5.        ,  3.16227766,  3.60555128,  2.        ,\n",
              "         5.09901951,  5.83095189,  3.60555128,  3.        ,  4.12310563,\n",
              "         5.        ,  2.82842712,  5.38516481,  5.09901951,  4.24264069,\n",
              "         2.23606798,  7.07106781,  2.23606798,  2.82842712,  5.        ,\n",
              "         4.47213595,  4.12310563,  5.        ,  2.82842712,  2.23606798],\n",
              "       [ 4.12310563,  1.41421356,  2.23606798,  6.70820393,  6.70820393,\n",
              "         6.40312424,  5.38516481,  5.65685425,  2.23606798,  6.40312424,\n",
              "         2.82842712,  3.16227766,  2.        ,  2.23606798,  2.        ,\n",
              "         2.        ,  3.16227766,  6.08276253,  3.        ,  1.41421356,\n",
              "         3.        ,  3.16227766,  2.82842712,  7.81024968,  1.        ,\n",
              "         3.16227766,  2.82842712,  3.        ,  6.70820393,  3.60555128,\n",
              "         5.83095189,  1.        ,  5.83095189,  5.09901951,  2.82842712,\n",
              "         4.        ,  0.        ,  2.23606798,  2.23606798,  4.12310563,\n",
              "         4.47213595,  6.40312424,  4.24264069,  3.        ,  2.82842712,\n",
              "         6.40312424,  3.16227766,  4.12310563,  2.82842712,  5.09901951,\n",
              "         4.12310563,  4.        ,  3.60555128,  4.12310563,  5.38516481,\n",
              "         2.23606798,  7.07106781,  2.23606798,  4.24264069,  5.09901951,\n",
              "         1.        ,  4.47213595,  4.24264069,  4.47213595,  3.16227766,\n",
              "         2.82842712,  6.40312424,  2.23606798,  3.60555128,  5.38516481,\n",
              "         4.12310563,  4.        ,  2.23606798,  5.09901951,  6.08276253,\n",
              "         3.        ,  3.        ,  1.41421356,  3.60555128,  2.        ,\n",
              "         1.41421356,  3.16227766,  6.70820393,  5.        ,  1.        ,\n",
              "         3.        ,  6.32455532,  2.23606798,  1.41421356,  3.16227766,\n",
              "         2.23606798,  5.09901951,  6.08276253,  2.82842712,  3.        ,\n",
              "         2.        ,  5.        ,  1.        ,  6.32455532,  3.60555128],\n",
              "       [ 5.83095189,  3.        ,  4.        ,  8.60232527,  7.07106781,\n",
              "         8.60232527,  7.21110255,  7.81024968,  4.24264069,  8.48528137,\n",
              "         5.        ,  5.38516481,  4.12310563,  4.        ,  3.60555128,\n",
              "         2.23606798,  5.        ,  7.61577311,  4.47213595,  2.23606798,\n",
              "         1.41421356,  5.        ,  4.12310563,  9.89949494,  3.16227766,\n",
              "         1.        ,  4.12310563,  4.47213595,  8.60232527,  3.16227766,\n",
              "         7.81024968,  2.82842712,  6.08276253,  7.28010989,  4.12310563,\n",
              "         5.38516481,  2.23606798,  0.        ,  3.16227766,  5.83095189,\n",
              "         5.        ,  8.60232527,  6.40312424,  5.09901951,  4.12310563,\n",
              "         8.48528137,  5.        ,  5.83095189,  1.        ,  7.        ,\n",
              "         6.32455532,  5.38516481,  3.16227766,  6.32455532,  7.21110255,\n",
              "         4.47213595,  9.21954446,  4.24264069,  4.12310563,  7.        ,\n",
              "         3.16227766,  6.40312424,  4.12310563,  6.40312424,  4.12310563,\n",
              "         1.        ,  8.48528137,  0.        ,  1.41421356,  6.        ,\n",
              "         6.        ,  6.08276253,  0.        ,  7.28010989,  7.07106781,\n",
              "         5.09901951,  1.41421356,  2.23606798,  3.16227766,  3.60555128,\n",
              "         1.        ,  5.        ,  7.07106781,  5.09901951,  1.41421356,\n",
              "         5.09901951,  7.        ,  0.        ,  1.        ,  5.38516481,\n",
              "         3.16227766,  7.        ,  7.07106781,  3.        ,  5.09901951,\n",
              "         4.12310563,  7.21110255,  2.        ,  7.        ,  5.65685425],\n",
              "       [ 6.        ,  1.        ,  1.41421356,  8.24621125,  8.94427191,\n",
              "         7.21110255,  7.07106781,  6.70820393,  4.        ,  7.61577311,\n",
              "         4.12310563,  3.60555128,  2.23606798,  1.41421356,  4.12310563,\n",
              "         1.        ,  5.        ,  8.        ,  5.09901951,  3.60555128,\n",
              "         4.47213595,  2.23606798,  1.        ,  8.94427191,  2.        ,\n",
              "         4.12310563,  1.        ,  5.09901951,  8.24621125,  5.65685425,\n",
              "         7.28010989,  3.16227766,  8.06225775,  5.        ,  1.        ,\n",
              "         6.08276253,  2.23606798,  3.16227766,  0.        ,  6.        ,\n",
              "         6.70820393,  7.21110255,  5.38516481,  2.82842712,  1.        ,\n",
              "         7.61577311,  2.23606798,  6.        ,  3.        ,  4.12310563,\n",
              "         4.24264069,  6.08276253,  5.65685425,  4.24264069,  7.07106781,\n",
              "         3.16227766,  8.06225775,  4.        ,  6.40312424,  4.12310563,\n",
              "         2.        ,  6.08276253,  6.40312424,  6.08276253,  5.38516481,\n",
              "         3.        ,  7.61577311,  3.16227766,  4.        ,  7.61577311,\n",
              "         3.16227766,  3.60555128,  3.16227766,  5.        ,  8.24621125,\n",
              "         2.82842712,  4.47213595,  3.60555128,  5.65685425,  4.12310563,\n",
              "         2.23606798,  2.23606798,  8.94427191,  7.21110255,  2.82842712,\n",
              "         2.82842712,  8.54400375,  3.16227766,  2.23606798,  3.60555128,\n",
              "         4.47213595,  4.12310563,  8.24621125,  5.        ,  2.82842712,\n",
              "         2.23606798,  5.83095189,  1.41421356,  8.54400375,  5.09901951],\n",
              "       [ 0.        ,  5.        ,  5.09901951,  2.82842712,  4.47213595,\n",
              "         4.        ,  1.41421356,  3.        ,  2.        ,  3.16227766,\n",
              "         2.23606798,  3.60555128,  4.12310563,  5.09901951,  2.23606798,\n",
              "         6.08276253,  1.        ,  2.        ,  1.41421356,  3.60555128,\n",
              "         5.65685425,  5.38516481,  6.08276253,  4.47213595,  4.        ,\n",
              "         6.40312424,  6.08276253,  1.41421356,  2.82842712,  4.47213595,\n",
              "         2.23606798,  3.16227766,  4.12310563,  5.        ,  6.08276253,\n",
              "         1.        ,  4.12310563,  5.83095189,  6.        ,  0.        ,\n",
              "         3.        ,  4.        ,  2.23606798,  4.47213595,  6.08276253,\n",
              "         3.16227766,  5.38516481,  0.        ,  6.70820393,  6.40312424,\n",
              "         4.24264069,  1.        ,  4.47213595,  4.24264069,  1.41421356,\n",
              "         3.16227766,  4.12310563,  2.        ,  4.12310563,  6.40312424,\n",
              "         4.        ,  1.        ,  4.12310563,  1.        ,  2.23606798,\n",
              "         6.70820393,  3.16227766,  5.83095189,  7.21110255,  3.16227766,\n",
              "         5.83095189,  5.        ,  5.83095189,  5.        ,  2.82842712,\n",
              "         4.47213595,  5.65685425,  3.60555128,  4.47213595,  2.23606798,\n",
              "         5.38516481,  5.38516481,  4.47213595,  4.        ,  4.47213595,\n",
              "         4.47213595,  3.60555128,  5.83095189,  5.38516481,  3.60555128,\n",
              "         2.82842712,  6.40312424,  2.82842712,  3.60555128,  4.47213595,\n",
              "         4.12310563,  3.16227766,  5.09901951,  3.60555128,  1.41421356],\n",
              "       [ 3.        ,  5.83095189,  6.40312424,  5.38516481,  2.23606798,\n",
              "         7.        ,  4.12310563,  6.        ,  3.60555128,  6.08276253,\n",
              "         4.47213595,  5.83095189,  5.65685425,  6.40312424,  2.82842712,\n",
              "         6.32455532,  3.16227766,  3.60555128,  2.23606798,  3.16227766,\n",
              "         4.12310563,  7.07106781,  7.21110255,  7.28010989,  5.        ,\n",
              "         5.09901951,  7.21110255,  2.23606798,  5.38516481,  2.23606798,\n",
              "         5.09901951,  3.60555128,  1.41421356,  7.61577311,  7.21110255,\n",
              "         2.        ,  4.47213595,  5.        ,  6.70820393,  3.        ,\n",
              "         0.        ,  7.        ,  5.09901951,  6.40312424,  7.21110255,\n",
              "         6.08276253,  7.07106781,  3.        ,  6.        ,  8.60232527,\n",
              "         6.70820393,  2.        ,  2.23606798,  6.70820393,  4.12310563,\n",
              "         5.        ,  7.07106781,  3.60555128,  1.41421356,  8.60232527,\n",
              "         5.        ,  4.        ,  1.41421356,  4.        ,  1.41421356,\n",
              "         6.        ,  6.08276253,  5.        ,  6.08276253,  1.        ,\n",
              "         7.81024968,  7.21110255,  5.        ,  7.61577311,  2.23606798,\n",
              "         6.40312424,  4.12310563,  3.16227766,  2.23606798,  2.82842712,\n",
              "         5.09901951,  7.07106781,  2.23606798,  1.        ,  4.12310563,\n",
              "         6.40312424,  2.        ,  5.        ,  5.09901951,  5.83095189,\n",
              "         2.23606798,  8.60232527,  2.23606798,  2.        ,  6.40312424,\n",
              "         5.65685425,  6.08276253,  5.38516481,  2.        ,  4.12310563],\n",
              "       [ 4.        ,  6.40312424,  5.83095189,  2.82842712,  8.24621125,\n",
              "         0.        ,  3.16227766,  1.        ,  4.47213595,  1.41421356,\n",
              "         3.60555128,  3.60555128,  5.        ,  5.83095189,  5.38516481,\n",
              "         7.81024968,  4.12310563,  4.47213595,  5.09901951,  6.70820393,\n",
              "         8.94427191,  5.38516481,  6.70820393,  2.        ,  5.65685425,\n",
              "         9.43398113,  6.70820393,  5.09901951,  2.82842712,  8.24621125,\n",
              "         2.23606798,  5.83095189,  8.06225775,  3.        ,  6.70820393,\n",
              "         5.        ,  6.40312424,  8.60232527,  7.21110255,  4.        ,\n",
              "         7.        ,  0.        ,  2.23606798,  4.47213595,  6.70820393,\n",
              "         1.41421356,  5.38516481,  4.        ,  9.21954446,  5.        ,\n",
              "         3.16227766,  5.        ,  8.24621125,  3.16227766,  3.16227766,\n",
              "         4.24264069,  1.        ,  4.47213595,  8.06225775,  5.        ,\n",
              "         5.65685425,  3.        ,  8.06225775,  3.        ,  6.08276253,\n",
              "         9.21954446,  1.41421356,  8.60232527, 10.        ,  7.07106781,\n",
              "         5.09901951,  4.12310563,  8.60232527,  3.        ,  6.32455532,\n",
              "         4.47213595,  8.94427191,  6.70820393,  8.24621125,  5.38516481,\n",
              "         7.81024968,  5.38516481,  8.24621125,  8.        ,  7.21110255,\n",
              "         4.47213595,  7.28010989,  8.60232527,  7.81024968,  3.60555128,\n",
              "         6.32455532,  5.        ,  6.32455532,  7.28010989,  4.47213595,\n",
              "         5.        ,  1.41421356,  7.07106781,  7.28010989,  3.16227766],\n",
              "       [ 2.23606798,  4.47213595,  4.12310563,  3.        ,  6.70820393,\n",
              "         2.23606798,  2.23606798,  1.41421356,  2.23606798,  2.23606798,\n",
              "         1.41421356,  2.        ,  3.16227766,  4.12310563,  3.16227766,\n",
              "         5.83095189,  2.        ,  3.60555128,  3.        ,  4.47213595,\n",
              "         6.70820393,  4.        ,  5.09901951,  3.60555128,  3.60555128,\n",
              "         7.21110255,  5.09901951,  3.        ,  3.        ,  6.08276253,\n",
              "         2.        ,  3.60555128,  6.32455532,  2.82842712,  5.09901951,\n",
              "         3.16227766,  4.24264069,  6.40312424,  5.38516481,  2.23606798,\n",
              "         5.09901951,  2.23606798,  0.        ,  3.        ,  5.09901951,\n",
              "         2.23606798,  4.        ,  2.23606798,  7.07106781,  4.47213595,\n",
              "         2.23606798,  3.16227766,  6.08276253,  2.23606798,  2.23606798,\n",
              "         2.23606798,  2.82842712,  2.23606798,  6.        ,  4.47213595,\n",
              "         3.60555128,  1.41421356,  6.        ,  1.41421356,  4.        ,\n",
              "         7.07106781,  2.23606798,  6.40312424,  7.81024968,  5.38516481,\n",
              "         4.12310563,  3.16227766,  6.40312424,  2.82842712,  5.        ,\n",
              "         3.        ,  6.70820393,  4.47213595,  6.08276253,  3.16227766,\n",
              "         5.65685425,  4.        ,  6.70820393,  6.08276253,  5.        ,\n",
              "         3.        ,  5.83095189,  6.40312424,  5.65685425,  2.        ,\n",
              "         4.12310563,  4.47213595,  5.        ,  5.09901951,  3.        ,\n",
              "         3.16227766,  1.        ,  5.        ,  5.83095189,  1.        ],\n",
              "       [ 4.47213595,  2.23606798,  1.41421356,  6.        ,  8.48528137,\n",
              "         4.47213595,  5.09901951,  4.12310563,  2.82842712,  5.09901951,\n",
              "         2.23606798,  1.        ,  1.        ,  1.41421356,  3.60555128,\n",
              "         3.60555128,  3.60555128,  6.32455532,  4.24264069,  4.12310563,\n",
              "         6.        ,  1.        ,  2.23606798,  6.32455532,  2.        ,\n",
              "         6.08276253,  2.23606798,  4.24264069,  6.        ,  6.32455532,\n",
              "         5.        ,  3.16227766,  7.81024968,  2.23606798,  2.23606798,\n",
              "         5.        ,  3.        ,  5.09901951,  2.82842712,  4.47213595,\n",
              "         6.40312424,  4.47213595,  3.        ,  0.        ,  2.23606798,\n",
              "         5.09901951,  1.        ,  4.47213595,  5.38516481,  2.23606798,\n",
              "         1.41421356,  5.        ,  6.32455532,  1.41421356,  5.09901951,\n",
              "         1.41421356,  5.38516481,  2.82842712,  6.70820393,  2.23606798,\n",
              "         2.        ,  4.12310563,  6.70820393,  4.12310563,  5.        ,\n",
              "         5.38516481,  5.09901951,  5.09901951,  6.32455532,  7.07106781,\n",
              "         1.41421356,  1.        ,  5.09901951,  2.23606798,  7.21110255,\n",
              "         0.        ,  6.        ,  4.12310563,  6.32455532,  3.60555128,\n",
              "         4.12310563,  1.        ,  8.48528137,  7.21110255,  4.        ,\n",
              "         0.        ,  7.81024968,  5.09901951,  4.12310563,  1.        ,\n",
              "         4.47213595,  2.23606798,  7.21110255,  5.38516481,  0.        ,\n",
              "         1.        ,  3.16227766,  3.16227766,  7.81024968,  3.16227766],\n",
              "       [ 6.08276253,  1.41421356,  1.        ,  8.06225775,  9.43398113,\n",
              "         6.70820393,  7.        ,  6.32455532,  4.12310563,  7.28010989,\n",
              "         4.        ,  3.16227766,  2.        ,  1.        ,  4.47213595,\n",
              "         2.        ,  5.09901951,  8.06225775,  5.38516481,  4.24264069,\n",
              "         5.38516481,  1.41421356,  0.        ,  8.54400375,  2.23606798,\n",
              "         5.09901951,  0.        ,  5.38516481,  8.06225775,  6.40312424,\n",
              "         7.07106781,  3.60555128,  8.60232527,  4.24264069,  0.        ,\n",
              "         6.32455532,  2.82842712,  4.12310563,  1.        ,  6.08276253,\n",
              "         7.21110255,  6.70820393,  5.09901951,  2.23606798,  0.        ,\n",
              "         7.28010989,  1.41421356,  6.08276253,  4.        ,  3.16227766,\n",
              "         3.60555128,  6.32455532,  6.40312424,  3.60555128,  7.        ,\n",
              "         3.        ,  7.61577311,  4.12310563,  7.07106781,  3.16227766,\n",
              "         2.23606798,  6.        ,  7.07106781,  6.        ,  5.83095189,\n",
              "         4.        ,  7.28010989,  4.12310563,  5.        ,  8.06225775,\n",
              "         2.23606798,  2.82842712,  4.12310563,  4.24264069,  8.54400375,\n",
              "         2.23606798,  5.38516481,  4.24264069,  6.40312424,  4.47213595,\n",
              "         3.16227766,  1.41421356,  9.43398113,  7.81024968,  3.60555128,\n",
              "         2.23606798,  8.94427191,  4.12310563,  3.16227766,  3.16227766,\n",
              "         5.        ,  3.16227766,  8.54400375,  5.65685425,  2.23606798,\n",
              "         2.        ,  5.38516481,  2.23606798,  8.94427191,  5.        ],\n",
              "       [ 3.16227766,  6.70820393,  6.32455532,  1.41421356,  7.07106781,\n",
              "         1.41421356,  2.        ,  1.        ,  4.24264069,  0.        ,\n",
              "         3.60555128,  4.12310563,  5.38516481,  6.32455532,  5.        ,\n",
              "         8.06225775,  3.60555128,  3.16227766,  4.47213595,  6.40312424,\n",
              "         8.60232527,  6.08276253,  7.28010989,  1.41421356,  5.83095189,\n",
              "         9.21954446,  7.28010989,  4.47213595,  1.41421356,  7.61577311,\n",
              "         1.        ,  5.65685425,  7.        ,  4.12310563,  7.28010989,\n",
              "         4.12310563,  6.40312424,  8.48528137,  7.61577311,  3.16227766,\n",
              "         6.08276253,  1.41421356,  2.23606798,  5.09901951,  7.28010989,\n",
              "         0.        ,  6.08276253,  3.16227766,  9.21954446,  6.08276253,\n",
              "         4.        ,  4.12310563,  7.61577311,  4.        ,  2.        ,\n",
              "         4.47213595,  1.        ,  4.24264069,  7.28010989,  6.08276253,\n",
              "         5.83095189,  2.23606798,  7.28010989,  2.23606798,  5.38516481,\n",
              "         9.21954446,  0.        ,  8.48528137,  9.89949494,  6.        ,\n",
              "         6.        ,  5.        ,  8.48528137,  4.12310563,  5.09901951,\n",
              "         5.09901951,  8.60232527,  6.40312424,  7.61577311,  5.        ,\n",
              "         7.81024968,  6.08276253,  7.07106781,  7.07106781,  7.07106781,\n",
              "         5.09901951,  6.08276253,  8.48528137,  7.81024968,  4.12310563,\n",
              "         5.83095189,  6.08276253,  5.09901951,  6.70820393,  5.09901951,\n",
              "         5.38516481,  2.        ,  7.21110255,  6.08276253,  2.82842712],\n",
              "       [ 5.38516481,  2.        ,  1.        ,  7.        ,  9.21954446,\n",
              "         5.38516481,  6.08276253,  5.09901951,  3.60555128,  6.08276253,\n",
              "         3.16227766,  2.        ,  1.41421356,  1.        ,  4.24264069,\n",
              "         3.16227766,  4.47213595,  7.28010989,  5.        ,  4.47213595,\n",
              "         6.08276253,  0.        ,  1.41421356,  7.28010989,  2.23606798,\n",
              "         6.        ,  1.41421356,  5.        ,  7.        ,  6.70820393,\n",
              "         6.        ,  3.60555128,  8.48528137,  2.82842712,  1.41421356,\n",
              "         5.83095189,  3.16227766,  5.        ,  2.23606798,  5.38516481,\n",
              "         7.07106781,  5.38516481,  4.        ,  1.        ,  1.41421356,\n",
              "         6.08276253,  0.        ,  5.38516481,  5.09901951,  2.        ,\n",
              "         2.23606798,  5.83095189,  6.70820393,  2.23606798,  6.08276253,\n",
              "         2.23606798,  6.32455532,  3.60555128,  7.21110255,  2.        ,\n",
              "         2.23606798,  5.09901951,  7.21110255,  5.09901951,  5.65685425,\n",
              "         5.09901951,  6.08276253,  5.        ,  6.08276253,  7.81024968,\n",
              "         1.        ,  1.41421356,  5.        ,  2.82842712,  8.06225775,\n",
              "         1.        ,  6.08276253,  4.47213595,  6.70820393,  4.24264069,\n",
              "         4.        ,  0.        ,  9.21954446,  7.81024968,  4.12310563,\n",
              "         1.        ,  8.60232527,  5.        ,  4.        ,  2.        ,\n",
              "         5.        ,  2.        ,  8.06225775,  5.83095189,  1.        ,\n",
              "         1.41421356,  4.12310563,  3.        ,  8.60232527,  4.12310563],\n",
              "       [ 0.        ,  5.        ,  5.09901951,  2.82842712,  4.47213595,\n",
              "         4.        ,  1.41421356,  3.        ,  2.        ,  3.16227766,\n",
              "         2.23606798,  3.60555128,  4.12310563,  5.09901951,  2.23606798,\n",
              "         6.08276253,  1.        ,  2.        ,  1.41421356,  3.60555128,\n",
              "         5.65685425,  5.38516481,  6.08276253,  4.47213595,  4.        ,\n",
              "         6.40312424,  6.08276253,  1.41421356,  2.82842712,  4.47213595,\n",
              "         2.23606798,  3.16227766,  4.12310563,  5.        ,  6.08276253,\n",
              "         1.        ,  4.12310563,  5.83095189,  6.        ,  0.        ,\n",
              "         3.        ,  4.        ,  2.23606798,  4.47213595,  6.08276253,\n",
              "         3.16227766,  5.38516481,  0.        ,  6.70820393,  6.40312424,\n",
              "         4.24264069,  1.        ,  4.47213595,  4.24264069,  1.41421356,\n",
              "         3.16227766,  4.12310563,  2.        ,  4.12310563,  6.40312424,\n",
              "         4.        ,  1.        ,  4.12310563,  1.        ,  2.23606798,\n",
              "         6.70820393,  3.16227766,  5.83095189,  7.21110255,  3.16227766,\n",
              "         5.83095189,  5.        ,  5.83095189,  5.        ,  2.82842712,\n",
              "         4.47213595,  5.65685425,  3.60555128,  4.47213595,  2.23606798,\n",
              "         5.38516481,  5.38516481,  4.47213595,  4.        ,  4.47213595,\n",
              "         4.47213595,  3.60555128,  5.83095189,  5.38516481,  3.60555128,\n",
              "         2.82842712,  6.40312424,  2.82842712,  3.60555128,  4.47213595,\n",
              "         4.12310563,  3.16227766,  5.09901951,  3.60555128,  1.41421356],\n",
              "       [ 6.70820393,  3.16227766,  4.12310563,  9.43398113,  8.06225775,\n",
              "         9.21954446,  8.06225775,  8.48528137,  5.        ,  9.21954446,\n",
              "         5.65685425,  5.83095189,  4.47213595,  4.12310563,  4.47213595,\n",
              "         2.        ,  5.83095189,  8.54400375,  5.38516481,  3.16227766,\n",
              "         2.23606798,  5.09901951,  4.        , 10.63014581,  3.60555128,\n",
              "         1.41421356,  4.        ,  5.38516481,  9.43398113,  4.12310563,\n",
              "         8.60232527,  3.60555128,  7.07106781,  7.61577311,  4.        ,\n",
              "         6.32455532,  2.82842712,  1.        ,  3.        ,  6.70820393,\n",
              "         6.        ,  9.21954446,  7.07106781,  5.38516481,  4.        ,\n",
              "         9.21954446,  5.09901951,  6.70820393,  0.        ,  7.07106781,\n",
              "         6.70820393,  6.32455532,  4.12310563,  6.70820393,  8.06225775,\n",
              "         5.        ,  9.89949494,  5.        ,  5.09901951,  7.07106781,\n",
              "         3.60555128,  7.21110255,  5.09901951,  7.21110255,  5.09901951,\n",
              "         0.        ,  9.21954446,  1.        ,  1.        ,  7.        ,\n",
              "         6.08276253,  6.32455532,  1.        ,  7.61577311,  8.06225775,\n",
              "         5.38516481,  2.23606798,  3.16227766,  4.12310563,  4.47213595,\n",
              "         1.41421356,  5.09901951,  8.06225775,  6.08276253,  2.23606798,\n",
              "         5.38516481,  8.        ,  1.        ,  1.41421356,  5.83095189,\n",
              "         4.12310563,  7.07106781,  8.06225775,  4.        ,  5.38516481,\n",
              "         4.47213595,  7.81024968,  2.23606798,  8.        ,  6.40312424],\n",
              "       [ 6.40312424,  4.        ,  3.        ,  7.28010989, 10.63014581,\n",
              "         5.        ,  6.70820393,  5.09901951,  5.        ,  6.08276253,\n",
              "         4.24264069,  2.82842712,  3.16227766,  3.        ,  5.83095189,\n",
              "         5.09901951,  5.65685425,  8.06225775,  6.40312424,  6.32455532,\n",
              "         8.06225775,  2.        ,  3.16227766,  7.        ,  4.12310563,\n",
              "         8.        ,  3.16227766,  6.40312424,  7.28010989,  8.54400375,\n",
              "         6.32455532,  5.38516481, 10.        ,  2.        ,  3.16227766,\n",
              "         7.07106781,  5.09901951,  7.        ,  4.12310563,  6.40312424,\n",
              "         8.60232527,  5.        ,  4.47213595,  2.23606798,  3.16227766,\n",
              "         6.08276253,  2.        ,  6.40312424,  7.07106781,  0.        ,\n",
              "         2.23606798,  7.07106781,  8.54400375,  2.23606798,  6.70820393,\n",
              "         3.60555128,  6.        ,  5.        ,  8.94427191,  0.        ,\n",
              "         4.12310563,  5.83095189,  8.94427191,  5.83095189,  7.21110255,\n",
              "         7.07106781,  6.08276253,  7.        ,  8.06225775,  9.21954446,\n",
              "         1.        ,  1.41421356,  7.        ,  2.        ,  9.21954446,\n",
              "         2.23606798,  8.06225775,  6.32455532,  8.54400375,  5.83095189,\n",
              "         6.        ,  2.        , 10.63014581,  9.43398113,  6.08276253,\n",
              "         2.23606798,  9.89949494,  7.        ,  6.        ,  2.82842712,\n",
              "         6.70820393,  0.        ,  9.21954446,  7.61577311,  2.23606798,\n",
              "         3.16227766,  4.12310563,  5.        ,  9.89949494,  5.        ],\n",
              "       [ 4.24264069,  3.60555128,  2.82842712,  5.09901951,  8.60232527,\n",
              "         3.16227766,  4.47213595,  3.        ,  3.16227766,  4.        ,\n",
              "         2.23606798,  1.        ,  2.23606798,  2.82842712,  4.12310563,\n",
              "         5.        ,  3.60555128,  5.83095189,  4.47213595,  5.        ,\n",
              "         7.07106781,  2.23606798,  3.60555128,  5.09901951,  3.16227766,\n",
              "         7.28010989,  3.60555128,  4.47213595,  5.09901951,  7.07106781,\n",
              "         4.12310563,  4.        ,  8.06225775,  1.        ,  3.60555128,\n",
              "         5.        ,  4.12310563,  6.32455532,  4.24264069,  4.24264069,\n",
              "         6.70820393,  3.16227766,  2.23606798,  1.41421356,  3.60555128,\n",
              "         4.        ,  2.23606798,  4.24264069,  6.70820393,  2.23606798,\n",
              "         0.        ,  5.        ,  7.07106781,  0.        ,  4.47213595,\n",
              "         2.        ,  4.12310563,  3.16227766,  7.28010989,  2.23606798,\n",
              "         3.16227766,  3.60555128,  7.28010989,  3.60555128,  5.38516481,\n",
              "         6.70820393,  4.        ,  6.32455532,  7.61577311,  7.21110255,\n",
              "         2.        ,  1.        ,  6.32455532,  1.        ,  7.07106781,\n",
              "         1.41421356,  7.07106781,  5.        ,  7.07106781,  4.12310563,\n",
              "         5.38516481,  2.23606798,  8.60232527,  7.61577311,  5.09901951,\n",
              "         1.41421356,  7.81024968,  6.32455532,  5.38516481,  1.        ,\n",
              "         5.09901951,  2.23606798,  7.07106781,  6.08276253,  1.41421356,\n",
              "         2.23606798,  2.        ,  4.47213595,  7.81024968,  2.82842712],\n",
              "       [ 1.        ,  5.09901951,  5.38516481,  3.60555128,  3.60555128,\n",
              "         5.        ,  2.23606798,  4.        ,  2.23606798,  4.12310563,\n",
              "         2.82842712,  4.24264069,  4.47213595,  5.38516481,  2.        ,\n",
              "         6.        ,  1.41421356,  2.23606798,  1.        ,  3.16227766,\n",
              "         5.        ,  5.83095189,  6.32455532,  5.38516481,  4.12310563,\n",
              "         5.83095189,  6.32455532,  1.        ,  3.60555128,  3.60555128,\n",
              "         3.16227766,  3.        ,  3.16227766,  5.83095189,  6.32455532,\n",
              "         0.        ,  4.        ,  5.38516481,  6.08276253,  1.        ,\n",
              "         2.        ,  5.        ,  3.16227766,  5.        ,  6.32455532,\n",
              "         4.12310563,  5.83095189,  1.        ,  6.32455532,  7.07106781,\n",
              "         5.        ,  0.        ,  3.60555128,  5.        ,  2.23606798,\n",
              "         3.60555128,  5.09901951,  2.23606798,  3.16227766,  7.07106781,\n",
              "         4.12310563,  2.        ,  3.16227766,  2.        ,  1.41421356,\n",
              "         6.32455532,  4.12310563,  5.38516481,  6.70820393,  2.23606798,\n",
              "         6.40312424,  5.65685425,  5.38516481,  5.83095189,  2.23606798,\n",
              "         5.        ,  5.        ,  3.16227766,  3.60555128,  2.        ,\n",
              "         5.09901951,  5.83095189,  3.60555128,  3.        ,  4.12310563,\n",
              "         5.        ,  2.82842712,  5.38516481,  5.09901951,  4.24264069,\n",
              "         2.23606798,  7.07106781,  2.23606798,  2.82842712,  5.        ,\n",
              "         4.47213595,  4.12310563,  5.        ,  2.82842712,  2.23606798],\n",
              "       [ 4.47213595,  5.        ,  5.83095189,  7.21110255,  4.        ,\n",
              "         8.24621125,  5.83095189,  7.28010989,  4.        ,  7.61577311,\n",
              "         5.        ,  6.08276253,  5.38516481,  5.83095189,  3.        ,\n",
              "         5.        ,  4.12310563,  5.65685425,  3.16227766,  2.23606798,\n",
              "         2.        ,  6.70820393,  6.40312424,  8.94427191,  4.47213595,\n",
              "         3.        ,  6.40312424,  3.16227766,  7.21110255,  0.        ,\n",
              "         6.70820393,  3.16227766,  3.        ,  8.06225775,  6.40312424,\n",
              "         3.60555128,  3.60555128,  3.16227766,  5.65685425,  4.47213595,\n",
              "         2.23606798,  8.24621125,  6.08276253,  6.32455532,  6.40312424,\n",
              "         7.61577311,  6.70820393,  4.47213595,  4.12310563,  8.54400375,\n",
              "         7.07106781,  3.60555128,  0.        ,  7.07106781,  5.83095189,\n",
              "         5.09901951,  8.54400375,  4.        ,  1.        ,  8.54400375,\n",
              "         4.47213595,  5.38516481,  1.        ,  5.38516481,  2.23606798,\n",
              "         4.12310563,  7.61577311,  3.16227766,  4.        ,  3.16227766,\n",
              "         7.61577311,  7.28010989,  3.16227766,  8.06225775,  4.47213595,\n",
              "         6.32455532,  2.        ,  2.23606798,  0.        ,  3.        ,\n",
              "         3.60555128,  6.70820393,  4.        ,  2.        ,  2.82842712,\n",
              "         6.32455532,  4.12310563,  3.16227766,  3.60555128,  6.08276253,\n",
              "         2.        ,  8.54400375,  4.47213595,  1.        ,  6.32455532,\n",
              "         5.38516481,  7.07106781,  4.24264069,  4.12310563,  5.09901951],\n",
              "       [ 4.24264069,  3.60555128,  2.82842712,  5.09901951,  8.60232527,\n",
              "         3.16227766,  4.47213595,  3.        ,  3.16227766,  4.        ,\n",
              "         2.23606798,  1.        ,  2.23606798,  2.82842712,  4.12310563,\n",
              "         5.        ,  3.60555128,  5.83095189,  4.47213595,  5.        ,\n",
              "         7.07106781,  2.23606798,  3.60555128,  5.09901951,  3.16227766,\n",
              "         7.28010989,  3.60555128,  4.47213595,  5.09901951,  7.07106781,\n",
              "         4.12310563,  4.        ,  8.06225775,  1.        ,  3.60555128,\n",
              "         5.        ,  4.12310563,  6.32455532,  4.24264069,  4.24264069,\n",
              "         6.70820393,  3.16227766,  2.23606798,  1.41421356,  3.60555128,\n",
              "         4.        ,  2.23606798,  4.24264069,  6.70820393,  2.23606798,\n",
              "         0.        ,  5.        ,  7.07106781,  0.        ,  4.47213595,\n",
              "         2.        ,  4.12310563,  3.16227766,  7.28010989,  2.23606798,\n",
              "         3.16227766,  3.60555128,  7.28010989,  3.60555128,  5.38516481,\n",
              "         6.70820393,  4.        ,  6.32455532,  7.61577311,  7.21110255,\n",
              "         2.        ,  1.        ,  6.32455532,  1.        ,  7.07106781,\n",
              "         1.41421356,  7.07106781,  5.        ,  7.07106781,  4.12310563,\n",
              "         5.38516481,  2.23606798,  8.60232527,  7.61577311,  5.09901951,\n",
              "         1.41421356,  7.81024968,  6.32455532,  5.38516481,  1.        ,\n",
              "         5.09901951,  2.23606798,  7.07106781,  6.08276253,  1.41421356,\n",
              "         2.23606798,  2.        ,  4.47213595,  7.81024968,  2.82842712],\n",
              "       [ 1.41421356,  6.08276253,  6.        ,  1.41421356,  5.09901951,\n",
              "         3.16227766,  0.        ,  2.23606798,  3.16227766,  2.        ,\n",
              "         3.        ,  4.12310563,  5.        ,  6.        ,  3.60555128,\n",
              "         7.28010989,  2.23606798,  1.41421356,  2.82842712,  5.        ,\n",
              "         7.07106781,  6.08276253,  7.        ,  3.16227766,  5.09901951,\n",
              "         7.81024968,  7.        ,  2.82842712,  1.41421356,  5.83095189,\n",
              "         1.        ,  4.47213595,  5.        ,  5.        ,  7.        ,\n",
              "         2.23606798,  5.38516481,  7.21110255,  7.07106781,  1.41421356,\n",
              "         4.12310563,  3.16227766,  2.23606798,  5.09901951,  7.        ,\n",
              "         2.        ,  6.08276253,  1.41421356,  8.06225775,  6.70820393,\n",
              "         4.47213595,  2.23606798,  5.83095189,  4.47213595,  0.        ,\n",
              "         4.        ,  3.        ,  3.16227766,  5.38516481,  6.70820393,\n",
              "         5.09901951,  1.        ,  5.38516481,  1.        ,  3.60555128,\n",
              "         8.06225775,  2.        ,  7.21110255,  8.60232527,  4.        ,\n",
              "         6.32455532,  5.38516481,  7.21110255,  5.        ,  3.16227766,\n",
              "         5.09901951,  7.07106781,  5.        ,  5.83095189,  3.60555128,\n",
              "         6.70820393,  6.08276253,  5.09901951,  5.09901951,  5.83095189,\n",
              "         5.09901951,  4.12310563,  7.21110255,  6.70820393,  4.12310563,\n",
              "         4.24264069,  6.70820393,  3.16227766,  5.        ,  5.09901951,\n",
              "         5.        ,  2.82842712,  6.32455532,  4.12310563,  2.        ],\n",
              "       [ 3.16227766,  2.23606798,  2.        ,  5.09901951,  7.07106781,\n",
              "         4.24264069,  4.        ,  3.60555128,  1.41421356,  4.47213595,\n",
              "         1.        ,  1.        ,  1.        ,  2.        ,  2.23606798,\n",
              "         3.60555128,  2.23606798,  5.09901951,  2.82842712,  3.        ,\n",
              "         5.09901951,  2.23606798,  3.        ,  5.83095189,  1.41421356,\n",
              "         5.38516481,  3.        ,  2.82842712,  5.09901951,  5.09901951,\n",
              "         4.12310563,  2.        ,  6.40312424,  3.        ,  3.        ,\n",
              "         3.60555128,  2.23606798,  4.47213595,  3.16227766,  3.16227766,\n",
              "         5.        ,  4.24264069,  2.23606798,  1.41421356,  3.        ,\n",
              "         4.47213595,  2.23606798,  3.16227766,  5.        ,  3.60555128,\n",
              "         2.        ,  3.60555128,  5.09901951,  2.        ,  4.        ,\n",
              "         0.        ,  5.        ,  1.41421356,  5.38516481,  3.60555128,\n",
              "         1.41421356,  3.        ,  5.38516481,  3.        ,  3.60555128,\n",
              "         5.        ,  4.47213595,  4.47213595,  5.83095189,  5.65685425,\n",
              "         2.82842712,  2.23606798,  4.47213595,  3.        ,  5.83095189,\n",
              "         1.41421356,  5.09901951,  3.        ,  5.09901951,  2.23606798,\n",
              "         3.60555128,  2.23606798,  7.07106781,  5.83095189,  3.16227766,\n",
              "         1.41421356,  6.40312424,  4.47213595,  3.60555128,  1.        ,\n",
              "         3.16227766,  3.60555128,  5.83095189,  4.12310563,  1.41421356,\n",
              "         1.        ,  2.82842712,  2.82842712,  6.40312424,  2.        ],\n",
              "       [ 4.12310563,  7.21110255,  6.70820393,  2.23606798,  8.06225775,\n",
              "         1.        ,  3.        ,  1.41421356,  5.        ,  1.        ,\n",
              "         4.24264069,  4.47213595,  5.83095189,  6.70820393,  5.83095189,\n",
              "         8.60232527,  4.47213595,  4.12310563,  5.38516481,  7.21110255,\n",
              "         9.43398113,  6.32455532,  7.61577311,  1.        ,  6.40312424,\n",
              "        10.        ,  7.61577311,  5.38516481,  2.23606798,  8.54400375,\n",
              "         2.        ,  6.40312424,  8.        ,  4.        ,  7.61577311,\n",
              "         5.09901951,  7.07106781,  9.21954446,  8.06225775,  4.12310563,\n",
              "         7.07106781,  1.        ,  2.82842712,  5.38516481,  7.61577311,\n",
              "         1.        ,  6.32455532,  4.12310563,  9.89949494,  6.        ,\n",
              "         4.12310563,  5.09901951,  8.54400375,  4.12310563,  3.        ,\n",
              "         5.        ,  0.        ,  5.        ,  8.24621125,  6.        ,\n",
              "         6.40312424,  3.16227766,  8.24621125,  3.16227766,  6.32455532,\n",
              "         9.89949494,  1.        ,  9.21954446, 10.63014581,  7.        ,\n",
              "         6.08276253,  5.09901951,  9.21954446,  4.        ,  6.08276253,\n",
              "         5.38516481,  9.43398113,  7.21110255,  8.54400375,  5.83095189,\n",
              "         8.48528137,  6.32455532,  8.06225775,  8.06225775,  7.81024968,\n",
              "         5.38516481,  7.07106781,  9.21954446,  8.48528137,  4.47213595,\n",
              "         6.70820393,  6.        ,  6.08276253,  7.61577311,  5.38516481,\n",
              "         5.83095189,  2.23606798,  7.81024968,  7.07106781,  3.60555128],\n",
              "       [ 2.        ,  3.        ,  3.16227766,  4.47213595,  5.65685425,\n",
              "         4.47213595,  3.16227766,  3.60555128,  0.        ,  4.24264069,\n",
              "         1.        ,  2.23606798,  2.23606798,  3.16227766,  1.        ,\n",
              "         4.12310563,  1.        ,  4.        ,  1.41421356,  2.23606798,\n",
              "         4.47213595,  3.60555128,  4.12310563,  5.65685425,  2.        ,\n",
              "         5.        ,  4.12310563,  1.41421356,  4.47213595,  4.        ,\n",
              "         3.60555128,  1.41421356,  5.        ,  4.12310563,  4.12310563,\n",
              "         2.23606798,  2.23606798,  4.24264069,  4.        ,  2.        ,\n",
              "         3.60555128,  4.47213595,  2.23606798,  2.82842712,  4.12310563,\n",
              "         4.24264069,  3.60555128,  2.        ,  5.        ,  5.        ,\n",
              "         3.16227766,  2.23606798,  4.        ,  3.16227766,  3.16227766,\n",
              "         1.41421356,  5.        ,  0.        ,  4.12310563,  5.        ,\n",
              "         2.        ,  2.23606798,  4.12310563,  2.23606798,  2.23606798,\n",
              "         5.        ,  4.24264069,  4.24264069,  5.65685425,  4.24264069,\n",
              "         4.24264069,  3.60555128,  4.24264069,  4.12310563,  4.47213595,\n",
              "         2.82842712,  4.47213595,  2.23606798,  4.        ,  1.        ,\n",
              "         3.60555128,  3.60555128,  5.65685425,  4.47213595,  2.82842712,\n",
              "         2.82842712,  5.        ,  4.24264069,  3.60555128,  2.23606798,\n",
              "         2.        ,  5.        ,  4.47213595,  3.        ,  2.82842712,\n",
              "         2.23606798,  3.16227766,  3.16227766,  5.        ,  1.41421356],\n",
              "       [ 4.12310563,  5.65685425,  6.40312424,  6.70820393,  3.        ,\n",
              "         8.06225775,  5.38516481,  7.07106781,  4.12310563,  7.28010989,\n",
              "         5.09901951,  6.32455532,  5.83095189,  6.40312424,  3.16227766,\n",
              "         5.83095189,  4.        ,  5.        ,  3.        ,  2.82842712,\n",
              "         3.        ,  7.21110255,  7.07106781,  8.54400375,  5.        ,\n",
              "         4.        ,  7.07106781,  3.        ,  6.70820393,  1.        ,\n",
              "         6.32455532,  3.60555128,  2.        ,  8.24621125,  7.07106781,\n",
              "         3.16227766,  4.24264069,  4.12310563,  6.40312424,  4.12310563,\n",
              "         1.41421356,  8.06225775,  6.        ,  6.70820393,  7.07106781,\n",
              "         7.28010989,  7.21110255,  4.12310563,  5.09901951,  8.94427191,\n",
              "         7.28010989,  3.16227766,  1.        ,  7.28010989,  5.38516481,\n",
              "         5.38516481,  8.24621125,  4.12310563,  0.        ,  8.94427191,\n",
              "         5.        ,  5.09901951,  0.        ,  5.09901951,  2.        ,\n",
              "         5.09901951,  7.28010989,  4.12310563,  5.        ,  2.23606798,\n",
              "         8.06225775,  7.61577311,  4.12310563,  8.24621125,  3.60555128,\n",
              "         6.70820393,  3.        ,  2.82842712,  1.        ,  3.16227766,\n",
              "         4.47213595,  7.21110255,  3.        ,  1.        ,  3.60555128,\n",
              "         6.70820393,  3.16227766,  4.12310563,  4.47213595,  6.32455532,\n",
              "         2.23606798,  8.94427191,  3.60555128,  1.41421356,  6.70820393,\n",
              "         5.83095189,  7.        ,  5.        ,  3.16227766,  5.        ],\n",
              "       [ 6.40312424,  4.        ,  3.        ,  7.28010989, 10.63014581,\n",
              "         5.        ,  6.70820393,  5.09901951,  5.        ,  6.08276253,\n",
              "         4.24264069,  2.82842712,  3.16227766,  3.        ,  5.83095189,\n",
              "         5.09901951,  5.65685425,  8.06225775,  6.40312424,  6.32455532,\n",
              "         8.06225775,  2.        ,  3.16227766,  7.        ,  4.12310563,\n",
              "         8.        ,  3.16227766,  6.40312424,  7.28010989,  8.54400375,\n",
              "         6.32455532,  5.38516481, 10.        ,  2.        ,  3.16227766,\n",
              "         7.07106781,  5.09901951,  7.        ,  4.12310563,  6.40312424,\n",
              "         8.60232527,  5.        ,  4.47213595,  2.23606798,  3.16227766,\n",
              "         6.08276253,  2.        ,  6.40312424,  7.07106781,  0.        ,\n",
              "         2.23606798,  7.07106781,  8.54400375,  2.23606798,  6.70820393,\n",
              "         3.60555128,  6.        ,  5.        ,  8.94427191,  0.        ,\n",
              "         4.12310563,  5.83095189,  8.94427191,  5.83095189,  7.21110255,\n",
              "         7.07106781,  6.08276253,  7.        ,  8.06225775,  9.21954446,\n",
              "         1.        ,  1.41421356,  7.        ,  2.        ,  9.21954446,\n",
              "         2.23606798,  8.06225775,  6.32455532,  8.54400375,  5.83095189,\n",
              "         6.        ,  2.        , 10.63014581,  9.43398113,  6.08276253,\n",
              "         2.23606798,  9.89949494,  7.        ,  6.        ,  2.82842712,\n",
              "         6.70820393,  0.        ,  9.21954446,  7.61577311,  2.23606798,\n",
              "         3.16227766,  4.12310563,  5.        ,  9.89949494,  5.        ],\n",
              "       [ 4.        ,  1.        ,  1.41421356,  6.32455532,  7.21110255,\n",
              "         5.65685425,  5.09901951,  5.        ,  2.        ,  5.83095189,\n",
              "         2.23606798,  2.23606798,  1.        ,  1.41421356,  2.23606798,\n",
              "         2.23606798,  3.        ,  6.        ,  3.16227766,  2.23606798,\n",
              "         4.        ,  2.23606798,  2.23606798,  7.21110255,  0.        ,\n",
              "         4.12310563,  2.23606798,  3.16227766,  6.32455532,  4.47213595,\n",
              "         5.38516481,  1.41421356,  6.40312424,  4.12310563,  2.23606798,\n",
              "         4.12310563,  1.        ,  3.16227766,  2.        ,  4.        ,\n",
              "         5.        ,  5.65685425,  3.60555128,  2.        ,  2.23606798,\n",
              "         5.83095189,  2.23606798,  4.        ,  3.60555128,  4.12310563,\n",
              "         3.16227766,  4.12310563,  4.47213595,  3.16227766,  5.09901951,\n",
              "         1.41421356,  6.40312424,  2.        ,  5.        ,  4.12310563,\n",
              "         0.        ,  4.12310563,  5.        ,  4.12310563,  3.60555128,\n",
              "         3.60555128,  5.83095189,  3.16227766,  4.47213595,  5.83095189,\n",
              "         3.16227766,  3.        ,  3.16227766,  4.12310563,  6.32455532,\n",
              "         2.        ,  4.        ,  2.23606798,  4.47213595,  2.23606798,\n",
              "         2.23606798,  2.23606798,  7.21110255,  5.65685425,  2.        ,\n",
              "         2.        ,  6.70820393,  3.16227766,  2.23606798,  2.23606798,\n",
              "         2.82842712,  4.12310563,  6.32455532,  3.60555128,  2.        ,\n",
              "         1.        ,  4.24264069,  1.41421356,  6.70820393,  3.16227766],\n",
              "       [ 1.        ,  5.09901951,  5.        ,  2.23606798,  5.38516481,\n",
              "         3.        ,  1.        ,  2.        ,  2.23606798,  2.23606798,\n",
              "         2.        ,  3.16227766,  4.        ,  5.        ,  2.82842712,\n",
              "         6.32455532,  1.41421356,  2.23606798,  2.23606798,  4.24264069,\n",
              "         6.40312424,  5.09901951,  6.        ,  3.60555128,  4.12310563,\n",
              "         7.07106781,  6.        ,  2.23606798,  2.23606798,  5.38516481,\n",
              "         1.41421356,  3.60555128,  5.09901951,  4.24264069,  6.        ,\n",
              "         2.        ,  4.47213595,  6.40312424,  6.08276253,  1.        ,\n",
              "         4.        ,  3.        ,  1.41421356,  4.12310563,  6.        ,\n",
              "         2.23606798,  5.09901951,  1.        ,  7.21110255,  5.83095189,\n",
              "         3.60555128,  2.        ,  5.38516481,  3.60555128,  1.        ,\n",
              "         3.        ,  3.16227766,  2.23606798,  5.09901951,  5.83095189,\n",
              "         4.12310563,  0.        ,  5.09901951,  0.        ,  3.16227766,\n",
              "         7.21110255,  2.23606798,  6.40312424,  7.81024968,  4.12310563,\n",
              "         5.38516481,  4.47213595,  6.40312424,  4.24264069,  3.60555128,\n",
              "         4.12310563,  6.40312424,  4.24264069,  5.38516481,  2.82842712,\n",
              "         5.83095189,  5.09901951,  5.38516481,  5.        ,  5.        ,\n",
              "         4.12310563,  4.47213595,  6.40312424,  5.83095189,  3.16227766,\n",
              "         3.60555128,  5.83095189,  3.60555128,  4.47213595,  4.12310563,\n",
              "         4.        ,  2.23606798,  5.38516481,  4.47213595,  1.        ],\n",
              "       [ 4.12310563,  5.65685425,  6.40312424,  6.70820393,  3.        ,\n",
              "         8.06225775,  5.38516481,  7.07106781,  4.12310563,  7.28010989,\n",
              "         5.09901951,  6.32455532,  5.83095189,  6.40312424,  3.16227766,\n",
              "         5.83095189,  4.        ,  5.        ,  3.        ,  2.82842712,\n",
              "         3.        ,  7.21110255,  7.07106781,  8.54400375,  5.        ,\n",
              "         4.        ,  7.07106781,  3.        ,  6.70820393,  1.        ,\n",
              "         6.32455532,  3.60555128,  2.        ,  8.24621125,  7.07106781,\n",
              "         3.16227766,  4.24264069,  4.12310563,  6.40312424,  4.12310563,\n",
              "         1.41421356,  8.06225775,  6.        ,  6.70820393,  7.07106781,\n",
              "         7.28010989,  7.21110255,  4.12310563,  5.09901951,  8.94427191,\n",
              "         7.28010989,  3.16227766,  1.        ,  7.28010989,  5.38516481,\n",
              "         5.38516481,  8.24621125,  4.12310563,  0.        ,  8.94427191,\n",
              "         5.        ,  5.09901951,  0.        ,  5.09901951,  2.        ,\n",
              "         5.09901951,  7.28010989,  4.12310563,  5.        ,  2.23606798,\n",
              "         8.06225775,  7.61577311,  4.12310563,  8.24621125,  3.60555128,\n",
              "         6.70820393,  3.        ,  2.82842712,  1.        ,  3.16227766,\n",
              "         4.47213595,  7.21110255,  3.        ,  1.        ,  3.60555128,\n",
              "         6.70820393,  3.16227766,  4.12310563,  4.47213595,  6.32455532,\n",
              "         2.23606798,  8.94427191,  3.60555128,  1.41421356,  6.70820393,\n",
              "         5.83095189,  7.        ,  5.        ,  3.16227766,  5.        ],\n",
              "       [ 1.        ,  5.09901951,  5.        ,  2.23606798,  5.38516481,\n",
              "         3.        ,  1.        ,  2.        ,  2.23606798,  2.23606798,\n",
              "         2.        ,  3.16227766,  4.        ,  5.        ,  2.82842712,\n",
              "         6.32455532,  1.41421356,  2.23606798,  2.23606798,  4.24264069,\n",
              "         6.40312424,  5.09901951,  6.        ,  3.60555128,  4.12310563,\n",
              "         7.07106781,  6.        ,  2.23606798,  2.23606798,  5.38516481,\n",
              "         1.41421356,  3.60555128,  5.09901951,  4.24264069,  6.        ,\n",
              "         2.        ,  4.47213595,  6.40312424,  6.08276253,  1.        ,\n",
              "         4.        ,  3.        ,  1.41421356,  4.12310563,  6.        ,\n",
              "         2.23606798,  5.09901951,  1.        ,  7.21110255,  5.83095189,\n",
              "         3.60555128,  2.        ,  5.38516481,  3.60555128,  1.        ,\n",
              "         3.        ,  3.16227766,  2.23606798,  5.09901951,  5.83095189,\n",
              "         4.12310563,  0.        ,  5.09901951,  0.        ,  3.16227766,\n",
              "         7.21110255,  2.23606798,  6.40312424,  7.81024968,  4.12310563,\n",
              "         5.38516481,  4.47213595,  6.40312424,  4.24264069,  3.60555128,\n",
              "         4.12310563,  6.40312424,  4.24264069,  5.38516481,  2.82842712,\n",
              "         5.83095189,  5.09901951,  5.38516481,  5.        ,  5.        ,\n",
              "         4.12310563,  4.47213595,  6.40312424,  5.83095189,  3.16227766,\n",
              "         3.60555128,  5.83095189,  3.60555128,  4.47213595,  4.12310563,\n",
              "         4.        ,  2.23606798,  5.38516481,  4.47213595,  1.        ],\n",
              "       [ 2.23606798,  4.47213595,  5.        ,  5.        ,  3.60555128,\n",
              "         6.08276253,  3.60555128,  5.09901951,  2.23606798,  5.38516481,\n",
              "         3.16227766,  4.47213595,  4.24264069,  5.        ,  1.41421356,\n",
              "         5.09901951,  2.        ,  3.60555128,  1.        ,  2.        ,\n",
              "         3.60555128,  5.65685425,  5.83095189,  6.70820393,  3.60555128,\n",
              "         4.47213595,  5.83095189,  1.        ,  5.        ,  2.23606798,\n",
              "         4.47213595,  2.23606798,  2.82842712,  6.32455532,  5.83095189,\n",
              "         1.41421356,  3.16227766,  4.12310563,  5.38516481,  2.23606798,\n",
              "         1.41421356,  6.08276253,  4.        ,  5.        ,  5.83095189,\n",
              "         5.38516481,  5.65685425,  2.23606798,  5.09901951,  7.21110255,\n",
              "         5.38516481,  1.41421356,  2.23606798,  5.38516481,  3.60555128,\n",
              "         3.60555128,  6.32455532,  2.23606798,  2.        ,  7.21110255,\n",
              "         3.60555128,  3.16227766,  2.        ,  3.16227766,  0.        ,\n",
              "         5.09901951,  5.38516481,  4.12310563,  5.38516481,  2.23606798,\n",
              "         6.40312424,  5.83095189,  4.12310563,  6.32455532,  3.        ,\n",
              "         5.        ,  3.60555128,  2.        ,  2.23606798,  1.41421356,\n",
              "         4.        ,  5.65685425,  3.60555128,  2.23606798,  3.        ,\n",
              "         5.        ,  3.16227766,  4.12310563,  4.        ,  4.47213595,\n",
              "         1.        ,  7.21110255,  3.        ,  1.41421356,  5.        ,\n",
              "         4.24264069,  5.        ,  4.12310563,  3.16227766,  3.        ],\n",
              "       [ 6.70820393,  3.16227766,  4.12310563,  9.43398113,  8.06225775,\n",
              "         9.21954446,  8.06225775,  8.48528137,  5.        ,  9.21954446,\n",
              "         5.65685425,  5.83095189,  4.47213595,  4.12310563,  4.47213595,\n",
              "         2.        ,  5.83095189,  8.54400375,  5.38516481,  3.16227766,\n",
              "         2.23606798,  5.09901951,  4.        , 10.63014581,  3.60555128,\n",
              "         1.41421356,  4.        ,  5.38516481,  9.43398113,  4.12310563,\n",
              "         8.60232527,  3.60555128,  7.07106781,  7.61577311,  4.        ,\n",
              "         6.32455532,  2.82842712,  1.        ,  3.        ,  6.70820393,\n",
              "         6.        ,  9.21954446,  7.07106781,  5.38516481,  4.        ,\n",
              "         9.21954446,  5.09901951,  6.70820393,  0.        ,  7.07106781,\n",
              "         6.70820393,  6.32455532,  4.12310563,  6.70820393,  8.06225775,\n",
              "         5.        ,  9.89949494,  5.        ,  5.09901951,  7.07106781,\n",
              "         3.60555128,  7.21110255,  5.09901951,  7.21110255,  5.09901951,\n",
              "         0.        ,  9.21954446,  1.        ,  1.        ,  7.        ,\n",
              "         6.08276253,  6.32455532,  1.        ,  7.61577311,  8.06225775,\n",
              "         5.38516481,  2.23606798,  3.16227766,  4.12310563,  4.47213595,\n",
              "         1.41421356,  5.09901951,  8.06225775,  6.08276253,  2.23606798,\n",
              "         5.38516481,  8.        ,  1.        ,  1.41421356,  5.83095189,\n",
              "         4.12310563,  7.07106781,  8.06225775,  4.        ,  5.38516481,\n",
              "         4.47213595,  7.81024968,  2.23606798,  8.        ,  6.40312424],\n",
              "       [ 3.16227766,  6.70820393,  6.32455532,  1.41421356,  7.07106781,\n",
              "         1.41421356,  2.        ,  1.        ,  4.24264069,  0.        ,\n",
              "         3.60555128,  4.12310563,  5.38516481,  6.32455532,  5.        ,\n",
              "         8.06225775,  3.60555128,  3.16227766,  4.47213595,  6.40312424,\n",
              "         8.60232527,  6.08276253,  7.28010989,  1.41421356,  5.83095189,\n",
              "         9.21954446,  7.28010989,  4.47213595,  1.41421356,  7.61577311,\n",
              "         1.        ,  5.65685425,  7.        ,  4.12310563,  7.28010989,\n",
              "         4.12310563,  6.40312424,  8.48528137,  7.61577311,  3.16227766,\n",
              "         6.08276253,  1.41421356,  2.23606798,  5.09901951,  7.28010989,\n",
              "         0.        ,  6.08276253,  3.16227766,  9.21954446,  6.08276253,\n",
              "         4.        ,  4.12310563,  7.61577311,  4.        ,  2.        ,\n",
              "         4.47213595,  1.        ,  4.24264069,  7.28010989,  6.08276253,\n",
              "         5.83095189,  2.23606798,  7.28010989,  2.23606798,  5.38516481,\n",
              "         9.21954446,  0.        ,  8.48528137,  9.89949494,  6.        ,\n",
              "         6.        ,  5.        ,  8.48528137,  4.12310563,  5.09901951,\n",
              "         5.09901951,  8.60232527,  6.40312424,  7.61577311,  5.        ,\n",
              "         7.81024968,  6.08276253,  7.07106781,  7.07106781,  7.07106781,\n",
              "         5.09901951,  6.08276253,  8.48528137,  7.81024968,  4.12310563,\n",
              "         5.83095189,  6.08276253,  5.09901951,  6.70820393,  5.09901951,\n",
              "         5.38516481,  2.        ,  7.21110255,  6.08276253,  2.82842712],\n",
              "       [ 5.83095189,  3.        ,  4.        ,  8.60232527,  7.07106781,\n",
              "         8.60232527,  7.21110255,  7.81024968,  4.24264069,  8.48528137,\n",
              "         5.        ,  5.38516481,  4.12310563,  4.        ,  3.60555128,\n",
              "         2.23606798,  5.        ,  7.61577311,  4.47213595,  2.23606798,\n",
              "         1.41421356,  5.        ,  4.12310563,  9.89949494,  3.16227766,\n",
              "         1.        ,  4.12310563,  4.47213595,  8.60232527,  3.16227766,\n",
              "         7.81024968,  2.82842712,  6.08276253,  7.28010989,  4.12310563,\n",
              "         5.38516481,  2.23606798,  0.        ,  3.16227766,  5.83095189,\n",
              "         5.        ,  8.60232527,  6.40312424,  5.09901951,  4.12310563,\n",
              "         8.48528137,  5.        ,  5.83095189,  1.        ,  7.        ,\n",
              "         6.32455532,  5.38516481,  3.16227766,  6.32455532,  7.21110255,\n",
              "         4.47213595,  9.21954446,  4.24264069,  4.12310563,  7.        ,\n",
              "         3.16227766,  6.40312424,  4.12310563,  6.40312424,  4.12310563,\n",
              "         1.        ,  8.48528137,  0.        ,  1.41421356,  6.        ,\n",
              "         6.        ,  6.08276253,  0.        ,  7.28010989,  7.07106781,\n",
              "         5.09901951,  1.41421356,  2.23606798,  3.16227766,  3.60555128,\n",
              "         1.        ,  5.        ,  7.07106781,  5.09901951,  1.41421356,\n",
              "         5.09901951,  7.        ,  0.        ,  1.        ,  5.38516481,\n",
              "         3.16227766,  7.        ,  7.07106781,  3.        ,  5.09901951,\n",
              "         4.12310563,  7.21110255,  2.        ,  7.        ,  5.65685425],\n",
              "       [ 7.21110255,  4.12310563,  5.09901951, 10.        ,  8.        ,\n",
              "        10.        ,  8.60232527,  9.21954446,  5.65685425,  9.89949494,\n",
              "         6.40312424,  6.70820393,  5.38516481,  5.09901951,  5.        ,\n",
              "         3.        ,  6.40312424,  8.94427191,  5.83095189,  3.60555128,\n",
              "         2.        ,  6.08276253,  5.        , 11.3137085 ,  4.47213595,\n",
              "         1.        ,  5.        ,  5.83095189, 10.        ,  4.        ,\n",
              "         9.21954446,  4.24264069,  7.        ,  8.54400375,  5.        ,\n",
              "         6.70820393,  3.60555128,  1.41421356,  4.        ,  7.21110255,\n",
              "         6.08276253, 10.        ,  7.81024968,  6.32455532,  5.        ,\n",
              "         9.89949494,  6.08276253,  7.21110255,  1.        ,  8.06225775,\n",
              "         7.61577311,  6.70820393,  4.        ,  7.61577311,  8.60232527,\n",
              "         5.83095189, 10.63014581,  5.65685425,  5.        ,  8.06225775,\n",
              "         4.47213595,  7.81024968,  5.        ,  7.81024968,  5.38516481,\n",
              "         1.        ,  9.89949494,  1.41421356,  0.        ,  7.07106781,\n",
              "         7.07106781,  7.28010989,  1.41421356,  8.54400375,  8.24621125,\n",
              "         6.32455532,  2.        ,  3.60555128,  4.        ,  5.        ,\n",
              "         2.23606798,  6.08276253,  8.        ,  6.        ,  2.82842712,\n",
              "         6.32455532,  8.06225775,  1.41421356,  2.23606798,  6.70820393,\n",
              "         4.47213595,  8.06225775,  8.24621125,  4.12310563,  6.32455532,\n",
              "         5.38516481,  8.60232527,  3.16227766,  8.06225775,  7.07106781],\n",
              "       [ 3.16227766,  6.70820393,  7.21110255,  5.09901951,  1.41421356,\n",
              "         7.07106781,  4.        ,  6.08276253,  4.24264069,  6.        ,\n",
              "         5.        ,  6.40312424,  6.40312424,  7.21110255,  3.60555128,\n",
              "         7.28010989,  3.60555128,  3.16227766,  2.82842712,  4.12310563,\n",
              "         5.09901951,  7.81024968,  8.06225775,  7.07106781,  5.83095189,\n",
              "         6.08276253,  8.06225775,  2.82842712,  5.09901951,  3.16227766,\n",
              "         5.        ,  4.47213595,  1.        ,  8.06225775,  8.06225775,\n",
              "         2.23606798,  5.38516481,  6.        ,  7.61577311,  3.16227766,\n",
              "         1.        ,  7.07106781,  5.38516481,  7.07106781,  8.06225775,\n",
              "         6.        ,  7.81024968,  3.16227766,  7.        ,  9.21954446,\n",
              "         7.21110255,  2.23606798,  3.16227766,  7.21110255,  4.        ,\n",
              "         5.65685425,  7.        ,  4.24264069,  2.23606798,  9.21954446,\n",
              "         5.83095189,  4.12310563,  2.23606798,  4.12310563,  2.23606798,\n",
              "         7.        ,  6.        ,  6.        ,  7.07106781,  0.        ,\n",
              "         8.48528137,  7.81024968,  6.        ,  8.06225775,  1.41421356,\n",
              "         7.07106781,  5.09901951,  4.12310563,  3.16227766,  3.60555128,\n",
              "         6.08276253,  7.81024968,  1.41421356,  1.41421356,  5.09901951,\n",
              "         7.07106781,  1.        ,  6.        ,  6.08276253,  6.40312424,\n",
              "         3.16227766,  9.21954446,  1.41421356,  3.        ,  7.07106781,\n",
              "         6.40312424,  6.32455532,  6.32455532,  1.        ,  4.47213595],\n",
              "       [ 5.83095189,  3.        ,  2.        ,  7.07106781,  9.89949494,\n",
              "         5.09901951,  6.32455532,  5.        ,  4.24264069,  6.        ,\n",
              "         3.60555128,  2.23606798,  2.23606798,  2.        ,  5.        ,\n",
              "         4.12310563,  5.        ,  7.61577311,  5.65685425,  5.38516481,\n",
              "         7.07106781,  1.        ,  2.23606798,  7.07106781,  3.16227766,\n",
              "         7.        ,  2.23606798,  5.65685425,  7.07106781,  7.61577311,\n",
              "         6.08276253,  4.47213595,  9.21954446,  2.23606798,  2.23606798,\n",
              "         6.40312424,  4.12310563,  6.        ,  3.16227766,  5.83095189,\n",
              "         7.81024968,  5.09901951,  4.12310563,  1.41421356,  2.23606798,\n",
              "         6.        ,  1.        ,  5.83095189,  6.08276253,  1.        ,\n",
              "         2.        ,  6.40312424,  7.61577311,  2.        ,  6.32455532,\n",
              "         2.82842712,  6.08276253,  4.24264069,  8.06225775,  1.        ,\n",
              "         3.16227766,  5.38516481,  8.06225775,  5.38516481,  6.40312424,\n",
              "         6.08276253,  6.        ,  6.        ,  7.07106781,  8.48528137,\n",
              "         0.        ,  1.        ,  6.        ,  2.23606798,  8.60232527,\n",
              "         1.41421356,  7.07106781,  5.38516481,  7.61577311,  5.        ,\n",
              "         5.        ,  1.        ,  9.89949494,  8.60232527,  5.09901951,\n",
              "         1.41421356,  9.21954446,  6.        ,  5.        ,  2.23606798,\n",
              "         5.83095189,  1.        ,  8.60232527,  6.70820393,  1.41421356,\n",
              "         2.23606798,  4.        ,  4.        ,  9.21954446,  4.47213595],\n",
              "       [ 5.        ,  3.16227766,  2.23606798,  6.08276253,  9.21954446,\n",
              "         4.12310563,  5.38516481,  4.        ,  3.60555128,  5.        ,\n",
              "         2.82842712,  1.41421356,  2.        ,  2.23606798,  4.47213595,\n",
              "         4.47213595,  4.24264069,  6.70820393,  5.        ,  5.09901951,\n",
              "         7.        ,  1.41421356,  2.82842712,  6.08276253,  3.        ,\n",
              "         7.07106781,  2.82842712,  5.        ,  6.08276253,  7.28010989,\n",
              "         5.09901951,  4.12310563,  8.60232527,  1.41421356,  2.82842712,\n",
              "         5.65685425,  4.        ,  6.08276253,  3.60555128,  5.        ,\n",
              "         7.21110255,  4.12310563,  3.16227766,  1.        ,  2.82842712,\n",
              "         5.        ,  1.41421356,  5.        ,  6.32455532,  1.41421356,\n",
              "         1.        ,  5.65685425,  7.28010989,  1.        ,  5.38516481,\n",
              "         2.23606798,  5.09901951,  3.60555128,  7.61577311,  1.41421356,\n",
              "         3.        ,  4.47213595,  7.61577311,  4.47213595,  5.83095189,\n",
              "         6.32455532,  5.        ,  6.08276253,  7.28010989,  7.81024968,\n",
              "         1.        ,  0.        ,  6.08276253,  1.41421356,  7.81024968,\n",
              "         1.        ,  7.        ,  5.09901951,  7.28010989,  4.47213595,\n",
              "         5.09901951,  1.41421356,  9.21954446,  8.06225775,  5.        ,\n",
              "         1.        ,  8.48528137,  6.08276253,  5.09901951,  1.41421356,\n",
              "         5.38516481,  1.41421356,  7.81024968,  6.32455532,  1.        ,\n",
              "         2.        ,  3.        ,  4.12310563,  8.48528137,  3.60555128],\n",
              "       [ 5.83095189,  3.        ,  4.        ,  8.60232527,  7.07106781,\n",
              "         8.60232527,  7.21110255,  7.81024968,  4.24264069,  8.48528137,\n",
              "         5.        ,  5.38516481,  4.12310563,  4.        ,  3.60555128,\n",
              "         2.23606798,  5.        ,  7.61577311,  4.47213595,  2.23606798,\n",
              "         1.41421356,  5.        ,  4.12310563,  9.89949494,  3.16227766,\n",
              "         1.        ,  4.12310563,  4.47213595,  8.60232527,  3.16227766,\n",
              "         7.81024968,  2.82842712,  6.08276253,  7.28010989,  4.12310563,\n",
              "         5.38516481,  2.23606798,  0.        ,  3.16227766,  5.83095189,\n",
              "         5.        ,  8.60232527,  6.40312424,  5.09901951,  4.12310563,\n",
              "         8.48528137,  5.        ,  5.83095189,  1.        ,  7.        ,\n",
              "         6.32455532,  5.38516481,  3.16227766,  6.32455532,  7.21110255,\n",
              "         4.47213595,  9.21954446,  4.24264069,  4.12310563,  7.        ,\n",
              "         3.16227766,  6.40312424,  4.12310563,  6.40312424,  4.12310563,\n",
              "         1.        ,  8.48528137,  0.        ,  1.41421356,  6.        ,\n",
              "         6.        ,  6.08276253,  0.        ,  7.28010989,  7.07106781,\n",
              "         5.09901951,  1.41421356,  2.23606798,  3.16227766,  3.60555128,\n",
              "         1.        ,  5.        ,  7.07106781,  5.09901951,  1.41421356,\n",
              "         5.09901951,  7.        ,  0.        ,  1.        ,  5.38516481,\n",
              "         3.16227766,  7.        ,  7.07106781,  3.        ,  5.09901951,\n",
              "         4.12310563,  7.21110255,  2.        ,  7.        ,  5.65685425],\n",
              "       [ 5.        ,  4.47213595,  3.60555128,  5.38516481,  9.43398113,\n",
              "         3.        ,  5.        ,  3.16227766,  4.12310563,  4.12310563,\n",
              "         3.16227766,  2.        ,  3.16227766,  3.60555128,  5.09901951,\n",
              "         5.83095189,  4.47213595,  6.40312424,  5.38516481,  6.        ,\n",
              "         8.06225775,  2.82842712,  4.24264069,  5.        ,  4.12310563,\n",
              "         8.24621125,  4.24264069,  5.38516481,  5.38516481,  8.06225775,\n",
              "         4.47213595,  5.        ,  8.94427191,  0.        ,  4.24264069,\n",
              "         5.83095189,  5.09901951,  7.28010989,  5.        ,  5.        ,\n",
              "         7.61577311,  3.        ,  2.82842712,  2.23606798,  4.24264069,\n",
              "         4.12310563,  2.82842712,  5.        ,  7.61577311,  2.        ,\n",
              "         1.        ,  5.83095189,  8.06225775,  1.        ,  5.        ,\n",
              "         3.        ,  4.        ,  4.12310563,  8.24621125,  2.        ,\n",
              "         4.12310563,  4.24264069,  8.24621125,  4.24264069,  6.32455532,\n",
              "         7.61577311,  4.12310563,  7.28010989,  8.54400375,  8.06225775,\n",
              "         2.23606798,  1.41421356,  7.28010989,  0.        ,  7.81024968,\n",
              "         2.23606798,  8.06225775,  6.        ,  8.06225775,  5.09901951,\n",
              "         6.32455532,  2.82842712,  9.43398113,  8.54400375,  6.08276253,\n",
              "         2.23606798,  8.60232527,  7.28010989,  6.32455532,  2.        ,\n",
              "         6.08276253,  2.        ,  7.81024968,  7.07106781,  2.23606798,\n",
              "         3.16227766,  2.23606798,  5.38516481,  8.60232527,  3.60555128],\n",
              "       [ 2.82842712,  7.28010989,  7.61577311,  4.        ,  2.        ,\n",
              "         6.32455532,  3.16227766,  5.38516481,  4.47213595,  5.09901951,\n",
              "         5.        ,  6.40312424,  6.70820393,  7.61577311,  4.12310563,\n",
              "         8.06225775,  3.60555128,  2.        ,  3.16227766,  5.        ,\n",
              "         6.32455532,  8.06225775,  8.54400375,  6.        ,  6.32455532,\n",
              "         7.28010989,  8.54400375,  3.16227766,  4.        ,  4.47213595,\n",
              "         4.12310563,  5.09901951,  2.23606798,  7.81024968,  8.54400375,\n",
              "         2.23606798,  6.08276253,  7.07106781,  8.24621125,  2.82842712,\n",
              "         2.23606798,  6.32455532,  5.        ,  7.21110255,  8.54400375,\n",
              "         5.09901951,  8.06225775,  2.82842712,  8.06225775,  9.21954446,\n",
              "         7.07106781,  2.23606798,  4.47213595,  7.07106781,  3.16227766,\n",
              "         5.83095189,  6.08276253,  4.47213595,  3.60555128,  9.21954446,\n",
              "         6.32455532,  3.60555128,  3.60555128,  3.60555128,  3.        ,\n",
              "         8.06225775,  5.09901951,  7.07106781,  8.24621125,  1.41421356,\n",
              "         8.60232527,  7.81024968,  7.07106781,  7.81024968,  0.        ,\n",
              "         7.21110255,  6.32455532,  5.        ,  4.47213595,  4.12310563,\n",
              "         7.        ,  8.06225775,  2.        ,  2.82842712,  6.        ,\n",
              "         7.21110255,  1.        ,  7.07106781,  7.        ,  6.40312424,\n",
              "         4.        ,  9.21954446,  0.        ,  4.12310563,  7.21110255,\n",
              "         6.70820393,  5.83095189,  7.07106781,  1.        ,  4.24264069],\n",
              "       [ 4.47213595,  2.23606798,  1.41421356,  6.        ,  8.48528137,\n",
              "         4.47213595,  5.09901951,  4.12310563,  2.82842712,  5.09901951,\n",
              "         2.23606798,  1.        ,  1.        ,  1.41421356,  3.60555128,\n",
              "         3.60555128,  3.60555128,  6.32455532,  4.24264069,  4.12310563,\n",
              "         6.        ,  1.        ,  2.23606798,  6.32455532,  2.        ,\n",
              "         6.08276253,  2.23606798,  4.24264069,  6.        ,  6.32455532,\n",
              "         5.        ,  3.16227766,  7.81024968,  2.23606798,  2.23606798,\n",
              "         5.        ,  3.        ,  5.09901951,  2.82842712,  4.47213595,\n",
              "         6.40312424,  4.47213595,  3.        ,  0.        ,  2.23606798,\n",
              "         5.09901951,  1.        ,  4.47213595,  5.38516481,  2.23606798,\n",
              "         1.41421356,  5.        ,  6.32455532,  1.41421356,  5.09901951,\n",
              "         1.41421356,  5.38516481,  2.82842712,  6.70820393,  2.23606798,\n",
              "         2.        ,  4.12310563,  6.70820393,  4.12310563,  5.        ,\n",
              "         5.38516481,  5.09901951,  5.09901951,  6.32455532,  7.07106781,\n",
              "         1.41421356,  1.        ,  5.09901951,  2.23606798,  7.21110255,\n",
              "         0.        ,  6.        ,  4.12310563,  6.32455532,  3.60555128,\n",
              "         4.12310563,  1.        ,  8.48528137,  7.21110255,  4.        ,\n",
              "         0.        ,  7.81024968,  5.09901951,  4.12310563,  1.        ,\n",
              "         4.47213595,  2.23606798,  7.21110255,  5.38516481,  0.        ,\n",
              "         1.        ,  3.16227766,  3.16227766,  7.81024968,  3.16227766],\n",
              "       [ 5.65685425,  4.12310563,  5.09901951,  8.48528137,  6.        ,\n",
              "         8.94427191,  7.07106781,  8.06225775,  4.47213595,  8.60232527,\n",
              "         5.38516481,  6.08276253,  5.        ,  5.09901951,  3.60555128,\n",
              "         3.60555128,  5.        ,  7.21110255,  4.24264069,  2.23606798,\n",
              "         0.        ,  6.08276253,  5.38516481, 10.        ,  4.        ,\n",
              "         1.        ,  5.38516481,  4.24264069,  8.48528137,  2.        ,\n",
              "         7.81024968,  3.16227766,  5.        ,  8.06225775,  5.38516481,\n",
              "         5.        ,  3.        ,  1.41421356,  4.47213595,  5.65685425,\n",
              "         4.12310563,  8.94427191,  6.70820393,  6.        ,  5.38516481,\n",
              "         8.60232527,  6.08276253,  5.65685425,  2.23606798,  8.06225775,\n",
              "         7.07106781,  5.        ,  2.        ,  7.07106781,  7.07106781,\n",
              "         5.09901951,  9.43398113,  4.47213595,  3.        ,  8.06225775,\n",
              "         4.        ,  6.40312424,  3.        ,  6.40312424,  3.60555128,\n",
              "         2.23606798,  8.60232527,  1.41421356,  2.        ,  5.09901951,\n",
              "         7.07106781,  7.        ,  1.41421356,  8.06225775,  6.32455532,\n",
              "         6.        ,  0.        ,  2.23606798,  2.        ,  3.60555128,\n",
              "         2.23606798,  6.08276253,  6.        ,  4.        ,  2.        ,\n",
              "         6.        ,  6.08276253,  1.41421356,  2.23606798,  6.08276253,\n",
              "         2.82842712,  8.06225775,  6.32455532,  2.23606798,  6.        ,\n",
              "         5.        ,  7.61577311,  3.16227766,  6.08276253,  5.83095189],\n",
              "       [ 3.60555128,  2.82842712,  3.60555128,  6.40312424,  5.38516481,\n",
              "         6.70820393,  5.        ,  5.83095189,  2.23606798,  6.40312424,\n",
              "         3.16227766,  4.        ,  3.16227766,  3.60555128,  1.41421356,\n",
              "         3.16227766,  2.82842712,  5.38516481,  2.23606798,  0.        ,\n",
              "         2.23606798,  4.47213595,  4.24264069,  7.81024968,  2.23606798,\n",
              "         2.82842712,  4.24264069,  2.23606798,  6.40312424,  2.23606798,\n",
              "         5.65685425,  1.        ,  4.47213595,  6.        ,  4.24264069,\n",
              "         3.16227766,  1.41421356,  2.23606798,  3.60555128,  3.60555128,\n",
              "         3.16227766,  6.70820393,  4.47213595,  4.12310563,  4.24264069,\n",
              "         6.40312424,  4.47213595,  3.60555128,  3.16227766,  6.32455532,\n",
              "         5.        ,  3.16227766,  2.23606798,  5.        ,  5.        ,\n",
              "         3.        ,  7.21110255,  2.23606798,  2.82842712,  6.32455532,\n",
              "         2.23606798,  4.24264069,  2.82842712,  4.24264069,  2.        ,\n",
              "         3.16227766,  6.40312424,  2.23606798,  3.60555128,  4.12310563,\n",
              "         5.38516481,  5.09901951,  2.23606798,  6.        ,  5.        ,\n",
              "         4.12310563,  2.23606798,  0.        ,  2.23606798,  1.41421356,\n",
              "         2.        ,  4.47213595,  5.38516481,  3.60555128,  1.        ,\n",
              "         4.12310563,  5.09901951,  2.23606798,  2.        ,  4.        ,\n",
              "         1.        ,  6.32455532,  5.        ,  1.41421356,  4.12310563,\n",
              "         3.16227766,  5.38516481,  2.23606798,  5.09901951,  3.60555128],\n",
              "       [ 4.47213595,  5.        ,  5.83095189,  7.21110255,  4.        ,\n",
              "         8.24621125,  5.83095189,  7.28010989,  4.        ,  7.61577311,\n",
              "         5.        ,  6.08276253,  5.38516481,  5.83095189,  3.        ,\n",
              "         5.        ,  4.12310563,  5.65685425,  3.16227766,  2.23606798,\n",
              "         2.        ,  6.70820393,  6.40312424,  8.94427191,  4.47213595,\n",
              "         3.        ,  6.40312424,  3.16227766,  7.21110255,  0.        ,\n",
              "         6.70820393,  3.16227766,  3.        ,  8.06225775,  6.40312424,\n",
              "         3.60555128,  3.60555128,  3.16227766,  5.65685425,  4.47213595,\n",
              "         2.23606798,  8.24621125,  6.08276253,  6.32455532,  6.40312424,\n",
              "         7.61577311,  6.70820393,  4.47213595,  4.12310563,  8.54400375,\n",
              "         7.07106781,  3.60555128,  0.        ,  7.07106781,  5.83095189,\n",
              "         5.09901951,  8.54400375,  4.        ,  1.        ,  8.54400375,\n",
              "         4.47213595,  5.38516481,  1.        ,  5.38516481,  2.23606798,\n",
              "         4.12310563,  7.61577311,  3.16227766,  4.        ,  3.16227766,\n",
              "         7.61577311,  7.28010989,  3.16227766,  8.06225775,  4.47213595,\n",
              "         6.32455532,  2.        ,  2.23606798,  0.        ,  3.        ,\n",
              "         3.60555128,  6.70820393,  4.        ,  2.        ,  2.82842712,\n",
              "         6.32455532,  4.12310563,  3.16227766,  3.60555128,  6.08276253,\n",
              "         2.        ,  8.54400375,  4.47213595,  1.        ,  6.32455532,\n",
              "         5.38516481,  7.07106781,  4.24264069,  4.12310563,  5.09901951],\n",
              "       [ 2.23606798,  3.16227766,  3.60555128,  5.        ,  5.        ,\n",
              "         5.38516481,  3.60555128,  4.47213595,  1.        ,  5.        ,\n",
              "         2.        ,  3.16227766,  2.82842712,  3.60555128,  0.        ,\n",
              "         4.        ,  1.41421356,  4.12310563,  1.        ,  1.41421356,\n",
              "         3.60555128,  4.24264069,  4.47213595,  6.40312424,  2.23606798,\n",
              "         4.24264069,  4.47213595,  1.        ,  5.        ,  3.        ,\n",
              "         4.24264069,  1.        ,  4.24264069,  5.09901951,  4.47213595,\n",
              "         2.        ,  2.        ,  3.60555128,  4.12310563,  2.23606798,\n",
              "         2.82842712,  5.38516481,  3.16227766,  3.60555128,  4.47213595,\n",
              "         5.        ,  4.24264069,  2.23606798,  4.47213595,  5.83095189,\n",
              "         4.12310563,  2.        ,  3.        ,  4.12310563,  3.60555128,\n",
              "         2.23606798,  5.83095189,  1.        ,  3.16227766,  5.83095189,\n",
              "         2.23606798,  2.82842712,  3.16227766,  2.82842712,  1.41421356,\n",
              "         4.47213595,  5.        ,  3.60555128,  5.        ,  3.60555128,\n",
              "         5.        ,  4.47213595,  3.60555128,  5.09901951,  4.12310563,\n",
              "         3.60555128,  3.60555128,  1.41421356,  3.        ,  0.        ,\n",
              "         3.16227766,  4.24264069,  5.        ,  3.60555128,  2.23606798,\n",
              "         3.60555128,  4.47213595,  3.60555128,  3.16227766,  3.16227766,\n",
              "         1.        ,  5.83095189,  4.12310563,  2.        ,  3.60555128,\n",
              "         2.82842712,  4.12310563,  3.        ,  4.47213595,  2.23606798],\n",
              "       [ 5.38516481,  2.        ,  3.        ,  8.06225775,  7.28010989,\n",
              "         7.81024968,  6.70820393,  7.07106781,  3.60555128,  7.81024968,\n",
              "         4.24264069,  4.47213595,  3.16227766,  3.        ,  3.16227766,\n",
              "         1.41421356,  4.47213595,  7.28010989,  4.12310563,  2.        ,\n",
              "         2.23606798,  4.        ,  3.16227766,  9.21954446,  2.23606798,\n",
              "         2.        ,  3.16227766,  4.12310563,  8.06225775,  3.60555128,\n",
              "         7.21110255,  2.23606798,  6.32455532,  6.32455532,  3.16227766,\n",
              "         5.09901951,  1.41421356,  1.        ,  2.23606798,  5.38516481,\n",
              "         5.09901951,  7.81024968,  5.65685425,  4.12310563,  3.16227766,\n",
              "         7.81024968,  4.        ,  5.38516481,  1.41421356,  6.        ,\n",
              "         5.38516481,  5.09901951,  3.60555128,  5.38516481,  6.70820393,\n",
              "         3.60555128,  8.48528137,  3.60555128,  4.47213595,  6.        ,\n",
              "         2.23606798,  5.83095189,  4.47213595,  5.83095189,  4.        ,\n",
              "         1.41421356,  7.81024968,  1.        ,  2.23606798,  6.08276253,\n",
              "         5.        ,  5.09901951,  1.        ,  6.32455532,  7.        ,\n",
              "         4.12310563,  2.23606798,  2.        ,  3.60555128,  3.16227766,\n",
              "         0.        ,  4.        ,  7.28010989,  5.38516481,  1.        ,\n",
              "         4.12310563,  7.07106781,  1.        ,  0.        ,  4.47213595,\n",
              "         3.        ,  6.        ,  7.        ,  3.16227766,  4.12310563,\n",
              "         3.16227766,  6.40312424,  1.        ,  7.07106781,  5.        ],\n",
              "       [ 5.38516481,  2.        ,  1.        ,  7.        ,  9.21954446,\n",
              "         5.38516481,  6.08276253,  5.09901951,  3.60555128,  6.08276253,\n",
              "         3.16227766,  2.        ,  1.41421356,  1.        ,  4.24264069,\n",
              "         3.16227766,  4.47213595,  7.28010989,  5.        ,  4.47213595,\n",
              "         6.08276253,  0.        ,  1.41421356,  7.28010989,  2.23606798,\n",
              "         6.        ,  1.41421356,  5.        ,  7.        ,  6.70820393,\n",
              "         6.        ,  3.60555128,  8.48528137,  2.82842712,  1.41421356,\n",
              "         5.83095189,  3.16227766,  5.        ,  2.23606798,  5.38516481,\n",
              "         7.07106781,  5.38516481,  4.        ,  1.        ,  1.41421356,\n",
              "         6.08276253,  0.        ,  5.38516481,  5.09901951,  2.        ,\n",
              "         2.23606798,  5.83095189,  6.70820393,  2.23606798,  6.08276253,\n",
              "         2.23606798,  6.32455532,  3.60555128,  7.21110255,  2.        ,\n",
              "         2.23606798,  5.09901951,  7.21110255,  5.09901951,  5.65685425,\n",
              "         5.09901951,  6.08276253,  5.        ,  6.08276253,  7.81024968,\n",
              "         1.        ,  1.41421356,  5.        ,  2.82842712,  8.06225775,\n",
              "         1.        ,  6.08276253,  4.47213595,  6.70820393,  4.24264069,\n",
              "         4.        ,  0.        ,  9.21954446,  7.81024968,  4.12310563,\n",
              "         1.        ,  8.60232527,  5.        ,  4.        ,  2.        ,\n",
              "         5.        ,  2.        ,  8.06225775,  5.83095189,  1.        ,\n",
              "         1.41421356,  4.12310563,  3.        ,  8.60232527,  4.12310563],\n",
              "       [ 4.47213595,  8.06225775,  8.60232527,  6.        ,  0.        ,\n",
              "         8.24621125,  5.09901951,  7.28010989,  5.65685425,  7.07106781,\n",
              "         6.40312424,  7.81024968,  7.81024968,  8.60232527,  5.        ,\n",
              "         8.54400375,  5.        ,  4.        ,  4.24264069,  5.38516481,\n",
              "         6.        ,  9.21954446,  9.43398113,  8.        ,  7.21110255,\n",
              "         7.        ,  9.43398113,  4.24264069,  6.        ,  4.        ,\n",
              "         6.08276253,  5.83095189,  1.        ,  9.43398113,  9.43398113,\n",
              "         3.60555128,  6.70820393,  7.07106781,  8.94427191,  4.47213595,\n",
              "         2.23606798,  8.24621125,  6.70820393,  8.48528137,  9.43398113,\n",
              "         7.07106781,  9.21954446,  4.47213595,  8.06225775, 10.63014581,\n",
              "         8.60232527,  3.60555128,  4.        ,  8.60232527,  5.09901951,\n",
              "         7.07106781,  8.06225775,  5.65685425,  3.        , 10.63014581,\n",
              "         7.21110255,  5.38516481,  3.        ,  5.38516481,  3.60555128,\n",
              "         8.06225775,  7.07106781,  7.07106781,  8.        ,  1.41421356,\n",
              "         9.89949494,  9.21954446,  7.07106781,  9.43398113,  2.        ,\n",
              "         8.48528137,  6.        ,  5.38516481,  4.        ,  5.        ,\n",
              "         7.28010989,  9.21954446,  0.        ,  2.        ,  6.32455532,\n",
              "         8.48528137,  1.        ,  7.07106781,  7.28010989,  7.81024968,\n",
              "         4.47213595, 10.63014581,  2.        ,  4.12310563,  8.48528137,\n",
              "         7.81024968,  7.61577311,  7.61577311,  1.        ,  5.83095189],\n",
              "       [ 4.        ,  6.40312424,  7.07106781,  6.32455532,  2.        ,\n",
              "         8.        ,  5.09901951,  7.        ,  4.47213595,  7.07106781,\n",
              "         5.38516481,  6.70820393,  6.40312424,  7.07106781,  3.60555128,\n",
              "         6.70820393,  4.12310563,  4.47213595,  3.16227766,  3.60555128,\n",
              "         4.        ,  7.81024968,  7.81024968,  8.24621125,  5.65685425,\n",
              "         5.        ,  7.81024968,  3.16227766,  6.32455532,  2.        ,\n",
              "         6.08276253,  4.24264069,  1.        ,  8.54400375,  7.81024968,\n",
              "         3.        ,  5.        ,  5.09901951,  7.21110255,  4.        ,\n",
              "         1.        ,  8.        ,  6.08276253,  7.21110255,  7.81024968,\n",
              "         7.07106781,  7.81024968,  4.        ,  6.08276253,  9.43398113,\n",
              "         7.61577311,  3.        ,  2.        ,  7.61577311,  5.09901951,\n",
              "         5.83095189,  8.06225775,  4.47213595,  1.        ,  9.43398113,\n",
              "         5.65685425,  5.        ,  1.        ,  5.        ,  2.23606798,\n",
              "         6.08276253,  7.07106781,  5.09901951,  6.        ,  1.41421356,\n",
              "         8.60232527,  8.06225775,  5.09901951,  8.54400375,  2.82842712,\n",
              "         7.21110255,  4.        ,  3.60555128,  2.        ,  3.60555128,\n",
              "         5.38516481,  7.81024968,  2.        ,  0.        ,  4.47213595,\n",
              "         7.21110255,  2.23606798,  5.09901951,  5.38516481,  6.70820393,\n",
              "         2.82842712,  9.43398113,  2.82842712,  2.23606798,  7.21110255,\n",
              "         6.40312424,  7.07106781,  5.83095189,  2.23606798,  5.09901951],\n",
              "       [ 4.47213595,  2.23606798,  3.16227766,  7.21110255,  6.32455532,\n",
              "         7.21110255,  5.83095189,  6.40312424,  2.82842712,  7.07106781,\n",
              "         3.60555128,  4.12310563,  3.        ,  3.16227766,  2.23606798,\n",
              "         2.23606798,  3.60555128,  6.32455532,  3.16227766,  1.        ,\n",
              "         2.        ,  4.12310563,  3.60555128,  8.48528137,  2.        ,\n",
              "         2.23606798,  3.60555128,  3.16227766,  7.21110255,  2.82842712,\n",
              "         6.40312424,  1.41421356,  5.38516481,  6.08276253,  3.60555128,\n",
              "         4.12310563,  1.        ,  1.41421356,  2.82842712,  4.47213595,\n",
              "         4.12310563,  7.21110255,  5.        ,  4.        ,  3.60555128,\n",
              "         7.07106781,  4.12310563,  4.47213595,  2.23606798,  6.08276253,\n",
              "         5.09901951,  4.12310563,  2.82842712,  5.09901951,  5.83095189,\n",
              "         3.16227766,  7.81024968,  2.82842712,  3.60555128,  6.08276253,\n",
              "         2.        ,  5.        ,  3.60555128,  5.        ,  3.        ,\n",
              "         2.23606798,  7.07106781,  1.41421356,  2.82842712,  5.09901951,\n",
              "         5.09901951,  5.        ,  1.41421356,  6.08276253,  6.        ,\n",
              "         4.        ,  2.        ,  1.        ,  2.82842712,  2.23606798,\n",
              "         1.        ,  4.12310563,  6.32455532,  4.47213595,  0.        ,\n",
              "         4.        ,  6.08276253,  1.41421356,  1.        ,  4.12310563,\n",
              "         2.        ,  6.08276253,  6.        ,  2.23606798,  4.        ,\n",
              "         3.        ,  5.83095189,  1.41421356,  6.08276253,  4.24264069],\n",
              "       [ 4.47213595,  2.23606798,  1.41421356,  6.        ,  8.48528137,\n",
              "         4.47213595,  5.09901951,  4.12310563,  2.82842712,  5.09901951,\n",
              "         2.23606798,  1.        ,  1.        ,  1.41421356,  3.60555128,\n",
              "         3.60555128,  3.60555128,  6.32455532,  4.24264069,  4.12310563,\n",
              "         6.        ,  1.        ,  2.23606798,  6.32455532,  2.        ,\n",
              "         6.08276253,  2.23606798,  4.24264069,  6.        ,  6.32455532,\n",
              "         5.        ,  3.16227766,  7.81024968,  2.23606798,  2.23606798,\n",
              "         5.        ,  3.        ,  5.09901951,  2.82842712,  4.47213595,\n",
              "         6.40312424,  4.47213595,  3.        ,  0.        ,  2.23606798,\n",
              "         5.09901951,  1.        ,  4.47213595,  5.38516481,  2.23606798,\n",
              "         1.41421356,  5.        ,  6.32455532,  1.41421356,  5.09901951,\n",
              "         1.41421356,  5.38516481,  2.82842712,  6.70820393,  2.23606798,\n",
              "         2.        ,  4.12310563,  6.70820393,  4.12310563,  5.        ,\n",
              "         5.38516481,  5.09901951,  5.09901951,  6.32455532,  7.07106781,\n",
              "         1.41421356,  1.        ,  5.09901951,  2.23606798,  7.21110255,\n",
              "         0.        ,  6.        ,  4.12310563,  6.32455532,  3.60555128,\n",
              "         4.12310563,  1.        ,  8.48528137,  7.21110255,  4.        ,\n",
              "         0.        ,  7.81024968,  5.09901951,  4.12310563,  1.        ,\n",
              "         4.47213595,  2.23606798,  7.21110255,  5.38516481,  0.        ,\n",
              "         1.        ,  3.16227766,  3.16227766,  7.81024968,  3.16227766],\n",
              "       [ 3.60555128,  7.61577311,  8.06225775,  5.        ,  1.        ,\n",
              "         7.28010989,  4.12310563,  6.32455532,  5.        ,  6.08276253,\n",
              "         5.65685425,  7.07106781,  7.21110255,  8.06225775,  4.47213595,\n",
              "         8.24621125,  4.24264069,  3.        ,  3.60555128,  5.09901951,\n",
              "         6.08276253,  8.60232527,  8.94427191,  7.        ,  6.70820393,\n",
              "         7.07106781,  8.94427191,  3.60555128,  5.        ,  4.12310563,\n",
              "         5.09901951,  5.38516481,  1.41421356,  8.60232527,  8.94427191,\n",
              "         2.82842712,  6.32455532,  7.        ,  8.54400375,  3.60555128,\n",
              "         2.        ,  7.28010989,  5.83095189,  7.81024968,  8.94427191,\n",
              "         6.08276253,  8.60232527,  3.60555128,  8.        ,  9.89949494,\n",
              "         7.81024968,  2.82842712,  4.12310563,  7.81024968,  4.12310563,\n",
              "         6.40312424,  7.07106781,  5.        ,  3.16227766,  9.89949494,\n",
              "         6.70820393,  4.47213595,  3.16227766,  4.47213595,  3.16227766,\n",
              "         8.        ,  6.08276253,  7.        ,  8.06225775,  1.        ,\n",
              "         9.21954446,  8.48528137,  7.        ,  8.60232527,  1.        ,\n",
              "         7.81024968,  6.08276253,  5.09901951,  4.12310563,  4.47213595,\n",
              "         7.07106781,  8.60232527,  1.        ,  2.23606798,  6.08276253,\n",
              "         7.81024968,  0.        ,  7.        ,  7.07106781,  7.07106781,\n",
              "         4.12310563,  9.89949494,  1.        ,  4.        ,  7.81024968,\n",
              "         7.21110255,  6.70820393,  7.28010989,  0.        ,  5.        ],\n",
              "       [ 5.83095189,  3.        ,  4.        ,  8.60232527,  7.07106781,\n",
              "         8.60232527,  7.21110255,  7.81024968,  4.24264069,  8.48528137,\n",
              "         5.        ,  5.38516481,  4.12310563,  4.        ,  3.60555128,\n",
              "         2.23606798,  5.        ,  7.61577311,  4.47213595,  2.23606798,\n",
              "         1.41421356,  5.        ,  4.12310563,  9.89949494,  3.16227766,\n",
              "         1.        ,  4.12310563,  4.47213595,  8.60232527,  3.16227766,\n",
              "         7.81024968,  2.82842712,  6.08276253,  7.28010989,  4.12310563,\n",
              "         5.38516481,  2.23606798,  0.        ,  3.16227766,  5.83095189,\n",
              "         5.        ,  8.60232527,  6.40312424,  5.09901951,  4.12310563,\n",
              "         8.48528137,  5.        ,  5.83095189,  1.        ,  7.        ,\n",
              "         6.32455532,  5.38516481,  3.16227766,  6.32455532,  7.21110255,\n",
              "         4.47213595,  9.21954446,  4.24264069,  4.12310563,  7.        ,\n",
              "         3.16227766,  6.40312424,  4.12310563,  6.40312424,  4.12310563,\n",
              "         1.        ,  8.48528137,  0.        ,  1.41421356,  6.        ,\n",
              "         6.        ,  6.08276253,  0.        ,  7.28010989,  7.07106781,\n",
              "         5.09901951,  1.41421356,  2.23606798,  3.16227766,  3.60555128,\n",
              "         1.        ,  5.        ,  7.07106781,  5.09901951,  1.41421356,\n",
              "         5.09901951,  7.        ,  0.        ,  1.        ,  5.38516481,\n",
              "         3.16227766,  7.        ,  7.07106781,  3.        ,  5.09901951,\n",
              "         4.12310563,  7.21110255,  2.        ,  7.        ,  5.65685425],\n",
              "       [ 5.38516481,  2.        ,  3.        ,  8.06225775,  7.28010989,\n",
              "         7.81024968,  6.70820393,  7.07106781,  3.60555128,  7.81024968,\n",
              "         4.24264069,  4.47213595,  3.16227766,  3.        ,  3.16227766,\n",
              "         1.41421356,  4.47213595,  7.28010989,  4.12310563,  2.        ,\n",
              "         2.23606798,  4.        ,  3.16227766,  9.21954446,  2.23606798,\n",
              "         2.        ,  3.16227766,  4.12310563,  8.06225775,  3.60555128,\n",
              "         7.21110255,  2.23606798,  6.32455532,  6.32455532,  3.16227766,\n",
              "         5.09901951,  1.41421356,  1.        ,  2.23606798,  5.38516481,\n",
              "         5.09901951,  7.81024968,  5.65685425,  4.12310563,  3.16227766,\n",
              "         7.81024968,  4.        ,  5.38516481,  1.41421356,  6.        ,\n",
              "         5.38516481,  5.09901951,  3.60555128,  5.38516481,  6.70820393,\n",
              "         3.60555128,  8.48528137,  3.60555128,  4.47213595,  6.        ,\n",
              "         2.23606798,  5.83095189,  4.47213595,  5.83095189,  4.        ,\n",
              "         1.41421356,  7.81024968,  1.        ,  2.23606798,  6.08276253,\n",
              "         5.        ,  5.09901951,  1.        ,  6.32455532,  7.        ,\n",
              "         4.12310563,  2.23606798,  2.        ,  3.60555128,  3.16227766,\n",
              "         0.        ,  4.        ,  7.28010989,  5.38516481,  1.        ,\n",
              "         4.12310563,  7.07106781,  1.        ,  0.        ,  4.47213595,\n",
              "         3.        ,  6.        ,  7.        ,  3.16227766,  4.12310563,\n",
              "         3.16227766,  6.40312424,  1.        ,  7.07106781,  5.        ],\n",
              "       [ 3.60555128,  2.82842712,  2.23606798,  5.        ,  7.81024968,\n",
              "         3.60555128,  4.12310563,  3.16227766,  2.23606798,  4.12310563,\n",
              "         1.41421356,  0.        ,  1.41421356,  2.23606798,  3.16227766,\n",
              "         4.24264069,  2.82842712,  5.38516481,  3.60555128,  4.        ,\n",
              "         6.08276253,  2.        ,  3.16227766,  5.38516481,  2.23606798,\n",
              "         6.32455532,  3.16227766,  3.60555128,  5.        ,  6.08276253,\n",
              "         4.        ,  3.        ,  7.21110255,  2.        ,  3.16227766,\n",
              "         4.24264069,  3.16227766,  5.38516481,  3.60555128,  3.60555128,\n",
              "         5.83095189,  3.60555128,  2.        ,  1.        ,  3.16227766,\n",
              "         4.12310563,  2.        ,  3.60555128,  5.83095189,  2.82842712,\n",
              "         1.        ,  4.24264069,  6.08276253,  1.        ,  4.12310563,\n",
              "         1.        ,  4.47213595,  2.23606798,  6.32455532,  2.82842712,\n",
              "         2.23606798,  3.16227766,  6.32455532,  3.16227766,  4.47213595,\n",
              "         5.83095189,  4.12310563,  5.38516481,  6.70820393,  6.40312424,\n",
              "         2.23606798,  1.41421356,  5.38516481,  2.        ,  6.40312424,\n",
              "         1.        ,  6.08276253,  4.        ,  6.08276253,  3.16227766,\n",
              "         4.47213595,  2.        ,  7.81024968,  6.70820393,  4.12310563,\n",
              "         1.        ,  7.07106781,  5.38516481,  4.47213595,  0.        ,\n",
              "         4.12310563,  2.82842712,  6.40312424,  5.09901951,  1.        ,\n",
              "         1.41421356,  2.23606798,  3.60555128,  7.07106781,  2.23606798],\n",
              "       [ 2.82842712,  3.60555128,  4.24264069,  5.65685425,  4.47213595,\n",
              "         6.32455532,  4.24264069,  5.38516481,  2.        ,  5.83095189,\n",
              "         3.        ,  4.12310563,  3.60555128,  4.24264069,  1.        ,\n",
              "         4.12310563,  2.23606798,  4.47213595,  1.41421356,  1.        ,\n",
              "         2.82842712,  5.        ,  5.        ,  7.21110255,  2.82842712,\n",
              "         3.60555128,  5.        ,  1.41421356,  5.65685425,  2.        ,\n",
              "         5.        ,  1.41421356,  3.60555128,  6.08276253,  5.        ,\n",
              "         2.23606798,  2.23606798,  3.16227766,  4.47213595,  2.82842712,\n",
              "         2.23606798,  6.32455532,  4.12310563,  4.47213595,  5.        ,\n",
              "         5.83095189,  5.        ,  2.82842712,  4.12310563,  6.70820393,\n",
              "         5.09901951,  2.23606798,  2.        ,  5.09901951,  4.24264069,\n",
              "         3.16227766,  6.70820393,  2.        ,  2.23606798,  6.70820393,\n",
              "         2.82842712,  3.60555128,  2.23606798,  3.60555128,  1.        ,\n",
              "         4.12310563,  5.83095189,  3.16227766,  4.47213595,  3.16227766,\n",
              "         5.83095189,  5.38516481,  3.16227766,  6.08276253,  4.        ,\n",
              "         4.47213595,  2.82842712,  1.        ,  2.        ,  1.        ,\n",
              "         3.        ,  5.        ,  4.47213595,  2.82842712,  2.        ,\n",
              "         4.47213595,  4.12310563,  3.16227766,  3.        ,  4.12310563,\n",
              "         0.        ,  6.70820393,  4.        ,  1.        ,  4.47213595,\n",
              "         3.60555128,  5.09901951,  3.16227766,  4.12310563,  3.16227766],\n",
              "       [ 6.40312424,  4.        ,  3.        ,  7.28010989, 10.63014581,\n",
              "         5.        ,  6.70820393,  5.09901951,  5.        ,  6.08276253,\n",
              "         4.24264069,  2.82842712,  3.16227766,  3.        ,  5.83095189,\n",
              "         5.09901951,  5.65685425,  8.06225775,  6.40312424,  6.32455532,\n",
              "         8.06225775,  2.        ,  3.16227766,  7.        ,  4.12310563,\n",
              "         8.        ,  3.16227766,  6.40312424,  7.28010989,  8.54400375,\n",
              "         6.32455532,  5.38516481, 10.        ,  2.        ,  3.16227766,\n",
              "         7.07106781,  5.09901951,  7.        ,  4.12310563,  6.40312424,\n",
              "         8.60232527,  5.        ,  4.47213595,  2.23606798,  3.16227766,\n",
              "         6.08276253,  2.        ,  6.40312424,  7.07106781,  0.        ,\n",
              "         2.23606798,  7.07106781,  8.54400375,  2.23606798,  6.70820393,\n",
              "         3.60555128,  6.        ,  5.        ,  8.94427191,  0.        ,\n",
              "         4.12310563,  5.83095189,  8.94427191,  5.83095189,  7.21110255,\n",
              "         7.07106781,  6.08276253,  7.        ,  8.06225775,  9.21954446,\n",
              "         1.        ,  1.41421356,  7.        ,  2.        ,  9.21954446,\n",
              "         2.23606798,  8.06225775,  6.32455532,  8.54400375,  5.83095189,\n",
              "         6.        ,  2.        , 10.63014581,  9.43398113,  6.08276253,\n",
              "         2.23606798,  9.89949494,  7.        ,  6.        ,  2.82842712,\n",
              "         6.70820393,  0.        ,  9.21954446,  7.61577311,  2.23606798,\n",
              "         3.16227766,  4.12310563,  5.        ,  9.89949494,  5.        ],\n",
              "       [ 2.82842712,  7.28010989,  7.61577311,  4.        ,  2.        ,\n",
              "         6.32455532,  3.16227766,  5.38516481,  4.47213595,  5.09901951,\n",
              "         5.        ,  6.40312424,  6.70820393,  7.61577311,  4.12310563,\n",
              "         8.06225775,  3.60555128,  2.        ,  3.16227766,  5.        ,\n",
              "         6.32455532,  8.06225775,  8.54400375,  6.        ,  6.32455532,\n",
              "         7.28010989,  8.54400375,  3.16227766,  4.        ,  4.47213595,\n",
              "         4.12310563,  5.09901951,  2.23606798,  7.81024968,  8.54400375,\n",
              "         2.23606798,  6.08276253,  7.07106781,  8.24621125,  2.82842712,\n",
              "         2.23606798,  6.32455532,  5.        ,  7.21110255,  8.54400375,\n",
              "         5.09901951,  8.06225775,  2.82842712,  8.06225775,  9.21954446,\n",
              "         7.07106781,  2.23606798,  4.47213595,  7.07106781,  3.16227766,\n",
              "         5.83095189,  6.08276253,  4.47213595,  3.60555128,  9.21954446,\n",
              "         6.32455532,  3.60555128,  3.60555128,  3.60555128,  3.        ,\n",
              "         8.06225775,  5.09901951,  7.07106781,  8.24621125,  1.41421356,\n",
              "         8.60232527,  7.81024968,  7.07106781,  7.81024968,  0.        ,\n",
              "         7.21110255,  6.32455532,  5.        ,  4.47213595,  4.12310563,\n",
              "         7.        ,  8.06225775,  2.        ,  2.82842712,  6.        ,\n",
              "         7.21110255,  1.        ,  7.07106781,  7.        ,  6.40312424,\n",
              "         4.        ,  9.21954446,  0.        ,  4.12310563,  7.21110255,\n",
              "         6.70820393,  5.83095189,  7.07106781,  1.        ,  4.24264069],\n",
              "       [ 3.60555128,  4.24264069,  5.        ,  6.40312424,  4.12310563,\n",
              "         7.28010989,  5.        ,  6.32455532,  3.        ,  6.70820393,\n",
              "         4.        ,  5.09901951,  4.47213595,  5.        ,  2.        ,\n",
              "         4.47213595,  3.16227766,  5.        ,  2.23606798,  1.41421356,\n",
              "         2.23606798,  5.83095189,  5.65685425,  8.06225775,  3.60555128,\n",
              "         3.16227766,  5.65685425,  2.23606798,  6.40312424,  1.        ,\n",
              "         5.83095189,  2.23606798,  3.16227766,  7.07106781,  5.65685425,\n",
              "         2.82842712,  2.82842712,  3.        ,  5.        ,  3.60555128,\n",
              "         2.        ,  7.28010989,  5.09901951,  5.38516481,  5.65685425,\n",
              "         6.70820393,  5.83095189,  3.60555128,  4.        ,  7.61577311,\n",
              "         6.08276253,  2.82842712,  1.        ,  6.08276253,  5.        ,\n",
              "         4.12310563,  7.61577311,  3.        ,  1.41421356,  7.61577311,\n",
              "         3.60555128,  4.47213595,  1.41421356,  4.47213595,  1.41421356,\n",
              "         4.        ,  6.70820393,  3.        ,  4.12310563,  3.        ,\n",
              "         6.70820393,  6.32455532,  3.        ,  7.07106781,  4.12310563,\n",
              "         5.38516481,  2.23606798,  1.41421356,  1.        ,  2.        ,\n",
              "         3.16227766,  5.83095189,  4.12310563,  2.23606798,  2.23606798,\n",
              "         5.38516481,  4.        ,  3.        ,  3.16227766,  5.09901951,\n",
              "         1.        ,  7.61577311,  4.12310563,  0.        ,  5.38516481,\n",
              "         4.47213595,  6.08276253,  3.60555128,  4.        ,  4.12310563],\n",
              "       [ 4.47213595,  2.23606798,  1.41421356,  6.        ,  8.48528137,\n",
              "         4.47213595,  5.09901951,  4.12310563,  2.82842712,  5.09901951,\n",
              "         2.23606798,  1.        ,  1.        ,  1.41421356,  3.60555128,\n",
              "         3.60555128,  3.60555128,  6.32455532,  4.24264069,  4.12310563,\n",
              "         6.        ,  1.        ,  2.23606798,  6.32455532,  2.        ,\n",
              "         6.08276253,  2.23606798,  4.24264069,  6.        ,  6.32455532,\n",
              "         5.        ,  3.16227766,  7.81024968,  2.23606798,  2.23606798,\n",
              "         5.        ,  3.        ,  5.09901951,  2.82842712,  4.47213595,\n",
              "         6.40312424,  4.47213595,  3.        ,  0.        ,  2.23606798,\n",
              "         5.09901951,  1.        ,  4.47213595,  5.38516481,  2.23606798,\n",
              "         1.41421356,  5.        ,  6.32455532,  1.41421356,  5.09901951,\n",
              "         1.41421356,  5.38516481,  2.82842712,  6.70820393,  2.23606798,\n",
              "         2.        ,  4.12310563,  6.70820393,  4.12310563,  5.        ,\n",
              "         5.38516481,  5.09901951,  5.09901951,  6.32455532,  7.07106781,\n",
              "         1.41421356,  1.        ,  5.09901951,  2.23606798,  7.21110255,\n",
              "         0.        ,  6.        ,  4.12310563,  6.32455532,  3.60555128,\n",
              "         4.12310563,  1.        ,  8.48528137,  7.21110255,  4.        ,\n",
              "         0.        ,  7.81024968,  5.09901951,  4.12310563,  1.        ,\n",
              "         4.47213595,  2.23606798,  7.21110255,  5.38516481,  0.        ,\n",
              "         1.        ,  3.16227766,  3.16227766,  7.81024968,  3.16227766],\n",
              "       [ 4.12310563,  1.41421356,  1.        ,  6.08276253,  7.81024968,\n",
              "         5.        ,  5.        ,  4.47213595,  2.23606798,  5.38516481,\n",
              "         2.        ,  1.41421356,  0.        ,  1.        ,  2.82842712,\n",
              "         2.82842712,  3.16227766,  6.08276253,  3.60555128,  3.16227766,\n",
              "         5.        ,  1.41421356,  2.        ,  6.70820393,  1.        ,\n",
              "         5.09901951,  2.        ,  3.60555128,  6.08276253,  5.38516481,\n",
              "         5.09901951,  2.23606798,  7.07106781,  3.16227766,  2.        ,\n",
              "         4.47213595,  2.        ,  4.12310563,  2.23606798,  4.12310563,\n",
              "         5.65685425,  5.        ,  3.16227766,  1.        ,  2.        ,\n",
              "         5.38516481,  1.41421356,  4.12310563,  4.47213595,  3.16227766,\n",
              "         2.23606798,  4.47213595,  5.38516481,  2.23606798,  5.        ,\n",
              "         1.        ,  5.83095189,  2.23606798,  5.83095189,  3.16227766,\n",
              "         1.        ,  4.        ,  5.83095189,  4.        ,  4.24264069,\n",
              "         4.47213595,  5.38516481,  4.12310563,  5.38516481,  6.40312424,\n",
              "         2.23606798,  2.        ,  4.12310563,  3.16227766,  6.70820393,\n",
              "         1.        ,  5.        ,  3.16227766,  5.38516481,  2.82842712,\n",
              "         3.16227766,  1.41421356,  7.81024968,  6.40312424,  3.        ,\n",
              "         1.        ,  7.21110255,  4.12310563,  3.16227766,  1.41421356,\n",
              "         3.60555128,  3.16227766,  6.70820393,  4.47213595,  1.        ,\n",
              "         0.        ,  3.60555128,  2.23606798,  7.21110255,  3.        ],\n",
              "       [ 3.16227766,  5.        ,  4.47213595,  3.16227766,  7.61577311,\n",
              "         1.41421356,  2.82842712,  1.        ,  3.16227766,  2.        ,\n",
              "         2.23606798,  2.23606798,  3.60555128,  4.47213595,  4.12310563,\n",
              "         6.40312424,  3.        ,  4.24264069,  4.        ,  5.38516481,\n",
              "         7.61577311,  4.12310563,  5.38516481,  3.16227766,  4.24264069,\n",
              "         8.06225775,  5.38516481,  4.        ,  3.16227766,  7.07106781,\n",
              "         2.23606798,  4.47213595,  7.28010989,  2.23606798,  5.38516481,\n",
              "         4.12310563,  5.        ,  7.21110255,  5.83095189,  3.16227766,\n",
              "         6.08276253,  1.41421356,  1.        ,  3.16227766,  5.38516481,\n",
              "         2.        ,  4.12310563,  3.16227766,  7.81024968,  4.12310563,\n",
              "         2.        ,  4.12310563,  7.07106781,  2.        ,  2.82842712,\n",
              "         2.82842712,  2.23606798,  3.16227766,  7.        ,  4.12310563,\n",
              "         4.24264069,  2.23606798,  7.        ,  2.23606798,  5.        ,\n",
              "         7.81024968,  2.        ,  7.21110255,  8.60232527,  6.32455532,\n",
              "         4.        ,  3.        ,  7.21110255,  2.23606798,  5.83095189,\n",
              "         3.16227766,  7.61577311,  5.38516481,  7.07106781,  4.12310563,\n",
              "         6.40312424,  4.12310563,  7.61577311,  7.07106781,  5.83095189,\n",
              "         3.16227766,  6.70820393,  7.21110255,  6.40312424,  2.23606798,\n",
              "         5.09901951,  4.12310563,  5.83095189,  6.08276253,  3.16227766,\n",
              "         3.60555128,  0.        ,  5.65685425,  6.70820393,  2.        ],\n",
              "       [ 5.09901951,  1.        ,  2.        ,  7.61577311,  7.61577311,\n",
              "         7.07106781,  6.32455532,  6.40312424,  3.16227766,  7.21110255,\n",
              "         3.60555128,  3.60555128,  2.23606798,  2.        ,  3.        ,\n",
              "         1.        ,  4.12310563,  7.07106781,  4.        ,  2.23606798,\n",
              "         3.16227766,  3.        ,  2.23606798,  8.60232527,  1.41421356,\n",
              "         3.        ,  2.23606798,  4.        ,  7.61577311,  4.24264069,\n",
              "         6.70820393,  2.        ,  6.70820393,  5.38516481,  2.23606798,\n",
              "         5.        ,  1.        ,  2.        ,  1.41421356,  5.09901951,\n",
              "         5.38516481,  7.07106781,  5.        ,  3.16227766,  2.23606798,\n",
              "         7.21110255,  3.        ,  5.09901951,  2.23606798,  5.        ,\n",
              "         4.47213595,  5.        ,  4.24264069,  4.47213595,  6.32455532,\n",
              "         2.82842712,  7.81024968,  3.16227766,  5.        ,  5.        ,\n",
              "         1.41421356,  5.38516481,  5.        ,  5.38516481,  4.12310563,\n",
              "         2.23606798,  7.21110255,  2.        ,  3.16227766,  6.32455532,\n",
              "         4.        ,  4.12310563,  2.        ,  5.38516481,  7.07106781,\n",
              "         3.16227766,  3.16227766,  2.23606798,  4.24264069,  3.        ,\n",
              "         1.        ,  3.        ,  7.61577311,  5.83095189,  1.41421356,\n",
              "         3.16227766,  7.28010989,  2.        ,  1.        ,  3.60555128,\n",
              "         3.16227766,  5.        ,  7.07106781,  3.60555128,  3.16227766,\n",
              "         2.23606798,  5.65685425,  0.        ,  7.28010989,  4.47213595],\n",
              "       [ 3.60555128,  7.61577311,  8.06225775,  5.        ,  1.        ,\n",
              "         7.28010989,  4.12310563,  6.32455532,  5.        ,  6.08276253,\n",
              "         5.65685425,  7.07106781,  7.21110255,  8.06225775,  4.47213595,\n",
              "         8.24621125,  4.24264069,  3.        ,  3.60555128,  5.09901951,\n",
              "         6.08276253,  8.60232527,  8.94427191,  7.        ,  6.70820393,\n",
              "         7.07106781,  8.94427191,  3.60555128,  5.        ,  4.12310563,\n",
              "         5.09901951,  5.38516481,  1.41421356,  8.60232527,  8.94427191,\n",
              "         2.82842712,  6.32455532,  7.        ,  8.54400375,  3.60555128,\n",
              "         2.        ,  7.28010989,  5.83095189,  7.81024968,  8.94427191,\n",
              "         6.08276253,  8.60232527,  3.60555128,  8.        ,  9.89949494,\n",
              "         7.81024968,  2.82842712,  4.12310563,  7.81024968,  4.12310563,\n",
              "         6.40312424,  7.07106781,  5.        ,  3.16227766,  9.89949494,\n",
              "         6.70820393,  4.47213595,  3.16227766,  4.47213595,  3.16227766,\n",
              "         8.        ,  6.08276253,  7.        ,  8.06225775,  1.        ,\n",
              "         9.21954446,  8.48528137,  7.        ,  8.60232527,  1.        ,\n",
              "         7.81024968,  6.08276253,  5.09901951,  4.12310563,  4.47213595,\n",
              "         7.07106781,  8.60232527,  1.        ,  2.23606798,  6.08276253,\n",
              "         7.81024968,  0.        ,  7.        ,  7.07106781,  7.07106781,\n",
              "         4.12310563,  9.89949494,  1.        ,  4.        ,  7.81024968,\n",
              "         7.21110255,  6.70820393,  7.28010989,  0.        ,  5.        ],\n",
              "       [ 1.41421356,  4.12310563,  4.        ,  3.16227766,  5.83095189,\n",
              "         3.16227766,  2.        ,  2.23606798,  1.41421356,  2.82842712,\n",
              "         1.        ,  2.23606798,  3.        ,  4.        ,  2.23606798,\n",
              "         5.38516481,  1.        ,  3.16227766,  2.        ,  3.60555128,\n",
              "         5.83095189,  4.12310563,  5.        ,  4.24264069,  3.16227766,\n",
              "         6.40312424,  5.        ,  2.        ,  3.16227766,  5.09901951,\n",
              "         2.23606798,  2.82842712,  5.38516481,  3.60555128,  5.        ,\n",
              "         2.23606798,  3.60555128,  5.65685425,  5.09901951,  1.41421356,\n",
              "         4.12310563,  3.16227766,  1.        ,  3.16227766,  5.        ,\n",
              "         2.82842712,  4.12310563,  1.41421356,  6.40312424,  5.        ,\n",
              "         2.82842712,  2.23606798,  5.09901951,  2.82842712,  2.        ,\n",
              "         2.        ,  3.60555128,  1.41421356,  5.        ,  5.        ,\n",
              "         3.16227766,  1.        ,  5.        ,  1.        ,  3.        ,\n",
              "         6.40312424,  2.82842712,  5.65685425,  7.07106781,  4.47213595,\n",
              "         4.47213595,  3.60555128,  5.65685425,  3.60555128,  4.24264069,\n",
              "         3.16227766,  5.83095189,  3.60555128,  5.09901951,  2.23606798,\n",
              "         5.        ,  4.12310563,  5.83095189,  5.09901951,  4.24264069,\n",
              "         3.16227766,  5.        ,  5.65685425,  5.        ,  2.23606798,\n",
              "         3.16227766,  5.        ,  4.24264069,  4.12310563,  3.16227766,\n",
              "         3.        ,  2.        ,  4.47213595,  5.        ,  0.        ]])"
            ]
          },
          "execution_count": 101,
          "metadata": {},
          "output_type": "execute_result"
        }
      ],
      "source": [
        "x, y = np.random.randint(1, 10, (100, 2)).T\n",
        "x, y = map(np.atleast_2d, [x, y])\n",
        "dx, dy = (x - x.T), (y - y.T)\n",
        "distances = np.sqrt(dx**2+dy**2)\n",
        "distances\n"
      ]
    },
    {
      "cell_type": "markdown",
      "metadata": {
        "id": "O4flq8R1iaWq"
      },
      "source": [
        "#### 53. How to convert a float (32 bits) array into an integer (32 bits) in place?\n",
        "\n",
        "(**hint**: astype(copy=False))\n"
      ]
    },
    {
      "cell_type": "code",
      "execution_count": 102,
      "metadata": {
        "id": "Hfjq9a5-iaWq"
      },
      "outputs": [
        {
          "data": {
            "text/plain": [
              "numpy.int32"
            ]
          },
          "execution_count": 102,
          "metadata": {},
          "output_type": "execute_result"
        }
      ],
      "source": [
        "x = np.float32(2)\n",
        "x = x.astype(np.int32)\n",
        "type(x)\n"
      ]
    },
    {
      "cell_type": "markdown",
      "metadata": {
        "id": "9mg_cqH6iaWq"
      },
      "source": [
        "#### 54. How to read the following file? (★★☆)\n",
        "\n",
        "(**hint**: np.genfromtxt)\n"
      ]
    },
    {
      "cell_type": "markdown",
      "metadata": {
        "id": "rBlBAxcniaWq"
      },
      "source": [
        "```\n",
        "1, 2, 3, 4, 5\n",
        "6,  ,  , 7, 8\n",
        " ,  , 9,10,11\n",
        "```\n"
      ]
    },
    {
      "cell_type": "code",
      "execution_count": 103,
      "metadata": {
        "id": "D905ntUWiaWr"
      },
      "outputs": [
        {
          "data": {
            "text/plain": [
              "array([[ 1.,  2.,  3.,  4.,  5.],\n",
              "       [ 6., nan, nan,  7.,  8.],\n",
              "       [nan, nan,  9., 10., 11.]])"
            ]
          },
          "execution_count": 103,
          "metadata": {},
          "output_type": "execute_result"
        }
      ],
      "source": [
        "from io import StringIO\n",
        "file = StringIO('''1, 2, 3, 4, 5\n",
        "                6,  ,  , 7, 8\n",
        "                 ,  , 9,10,11''')\n",
        "\n",
        "np.genfromtxt(file, delimiter=\",\")\n"
      ]
    },
    {
      "cell_type": "markdown",
      "metadata": {
        "id": "6uh3dlPOiaWr"
      },
      "source": [
        "#### 55. What is the equivalent of enumerate for numpy arrays? (★★☆)\n",
        "\n",
        "(**hint**: np.ndenumerate, np.ndindex)\n"
      ]
    },
    {
      "cell_type": "code",
      "execution_count": 104,
      "metadata": {
        "id": "ub6vHzCciaWr"
      },
      "outputs": [
        {
          "name": "stdout",
          "output_type": "stream",
          "text": [
            "(0,) 1\n",
            "(1,) 2\n",
            "(2,) 3\n",
            "(0,) 1\n",
            "(1,) 2\n",
            "(2,) 3\n"
          ]
        }
      ],
      "source": [
        "\n",
        "x = np.array([1, 2, 3])\n",
        "for i, x_ in np.ndenumerate(x):\n",
        "    print(i, x_)\n",
        "for i in np.ndindex(x.shape):\n",
        "    print(i, x[i])\n",
        "# np.ndindex?\n"
      ]
    },
    {
      "cell_type": "markdown",
      "metadata": {
        "id": "ZbTBmPV6iaWr"
      },
      "source": [
        "#### 56. Generate a generic 2D Gaussian-like array (★★☆)\n",
        "\n",
        "(**hint**: np.meshgrid, np.exp)\n"
      ]
    },
    {
      "cell_type": "code",
      "execution_count": 105,
      "metadata": {
        "id": "9EFW3yY5iaWr"
      },
      "outputs": [
        {
          "data": {
            "text/plain": [
              "array([[1.        , 0.60653066],\n",
              "       [0.60653066, 0.36787944]])"
            ]
          },
          "execution_count": 105,
          "metadata": {},
          "output_type": "execute_result"
        }
      ],
      "source": [
        "X, Y = np.meshgrid(np.arange(2), np.arange(2))\n",
        "D = np.sqrt(X**2+Y**2)\n",
        "# print(D)\n",
        "sigma, mu = 1.0, 0.0\n",
        "np.exp(-((D-mu)**2 / (2.0 * sigma**2)))\n"
      ]
    },
    {
      "cell_type": "markdown",
      "metadata": {
        "id": "Ru0_a6bEiaWs"
      },
      "source": [
        "#### 57. How to randomly place p elements in a 2D array? (★★☆)\n",
        "\n",
        "(**hint**: np.put, np.random.choice)\n"
      ]
    },
    {
      "cell_type": "code",
      "execution_count": 106,
      "metadata": {
        "id": "PT_E3ZRqiaWs"
      },
      "outputs": [
        {
          "data": {
            "text/plain": [
              "array([[-1,  1, -1,  3,  4],\n",
              "       [ 5, -1,  7,  8, -1],\n",
              "       [10, -1, -1, 13, 14],\n",
              "       [-1, -1, 17, 18, 19],\n",
              "       [20, -1, -1, 23, -1]])"
            ]
          },
          "execution_count": 106,
          "metadata": {},
          "output_type": "execute_result"
        }
      ],
      "source": [
        "x = np.arange(25).reshape((5, 5))\n",
        "i = np.random.choice(25, 13)\n",
        "np.put(x, i, np.ones(13)*-1)\n",
        "x\n"
      ]
    },
    {
      "cell_type": "markdown",
      "metadata": {
        "id": "ua3RYvcviaWs"
      },
      "source": [
        "#### 58. Subtract the mean of each row of a matrix (★★☆)\n",
        "\n",
        "(**hint**: mean(axis=,keepdims=))\n"
      ]
    },
    {
      "cell_type": "code",
      "execution_count": 107,
      "metadata": {
        "id": "kAIOm_JpiaWs"
      },
      "outputs": [
        {
          "data": {
            "text/plain": [
              "array([[-2., -1.,  0.,  1.,  2.],\n",
              "       [-2., -1.,  0.,  1.,  2.],\n",
              "       [-2., -1.,  0.,  1.,  2.],\n",
              "       [-2., -1.,  0.,  1.,  2.],\n",
              "       [-2., -1.,  0.,  1.,  2.]])"
            ]
          },
          "execution_count": 107,
          "metadata": {},
          "output_type": "execute_result"
        }
      ],
      "source": [
        "x = np.arange(25).reshape((5, 5))\n",
        "x - np.mean(x, axis=1, keepdims=True)\n"
      ]
    },
    {
      "cell_type": "markdown",
      "metadata": {
        "id": "0dPIBD9qiaWt"
      },
      "source": [
        "#### 59. How to sort an array by the nth column? (★★☆)\n",
        "\n",
        "(**hint**: argsort)\n"
      ]
    },
    {
      "cell_type": "code",
      "execution_count": 108,
      "metadata": {
        "id": "F5IJAvBhiaWt"
      },
      "outputs": [
        {
          "data": {
            "text/plain": [
              "(array([[4, 4, 8, 6, 9],\n",
              "        [6, 9, 2, 8, 6],\n",
              "        [7, 8, 9, 8, 6],\n",
              "        [4, 1, 4, 7, 7],\n",
              "        [5, 7, 6, 8, 6]]),\n",
              " array([[4, 4, 8, 6, 9],\n",
              "        [4, 1, 4, 7, 7],\n",
              "        [5, 7, 6, 8, 6],\n",
              "        [6, 9, 2, 8, 6],\n",
              "        [7, 8, 9, 8, 6]]))"
            ]
          },
          "execution_count": 108,
          "metadata": {},
          "output_type": "execute_result"
        }
      ],
      "source": [
        "x = np.random.randint(1, 10, 25).reshape((5, 5))\n",
        "x, x[np.argsort(x[:, 0])]\n"
      ]
    },
    {
      "cell_type": "markdown",
      "metadata": {
        "id": "IN85F_GpiaWt"
      },
      "source": [
        "#### 60. How to tell if a given 2D array has null columns? (★★☆)\n",
        "\n",
        "(**hint**: any, ~)\n"
      ]
    },
    {
      "cell_type": "code",
      "execution_count": 109,
      "metadata": {
        "id": "mxS5VTk1iaWt"
      },
      "outputs": [
        {
          "data": {
            "text/plain": [
              "array([ True,  True,  True, False])"
            ]
          },
          "execution_count": 109,
          "metadata": {},
          "output_type": "execute_result"
        }
      ],
      "source": [
        "x = np.array([[1, 3, 2, 0], [1, 1, 1, 1]])\n",
        "np.all(x, axis=0,)\n"
      ]
    },
    {
      "cell_type": "markdown",
      "metadata": {
        "id": "zBvZNPZKiaWu"
      },
      "source": [
        "#### 61. Find the nearest value from a given value in an array (★★☆)\n",
        "\n",
        "(**hint**: np.abs, argmin, flat)\n"
      ]
    },
    {
      "cell_type": "code",
      "execution_count": 110,
      "metadata": {
        "id": "C3aP02cXiaWu"
      },
      "outputs": [
        {
          "data": {
            "text/plain": [
              "2"
            ]
          },
          "execution_count": 110,
          "metadata": {},
          "output_type": "execute_result"
        }
      ],
      "source": [
        "x = np.random.randint(-10, 10, 10)\n",
        "x[np.abs(x-3).argmin()]\n"
      ]
    },
    {
      "cell_type": "markdown",
      "metadata": {
        "id": "VILwYCpxiaWu"
      },
      "source": [
        "#### 62. Considering two arrays with shape (1,3) and (3,1), how to compute their sum using an iterator? (★★☆)\n",
        "\n",
        "(**hint**: np.nditer)\n"
      ]
    },
    {
      "cell_type": "code",
      "execution_count": 111,
      "metadata": {
        "id": "w3_8HHEPiaWu"
      },
      "outputs": [
        {
          "name": "stdout",
          "output_type": "stream",
          "text": [
            "(array([[0],\n",
            "       [1],\n",
            "       [2]]), array([[0, 1, 2]]), array([[0, 1, 2],\n",
            "       [1, 2, 3],\n",
            "       [2, 3, 4]]))\n"
          ]
        }
      ],
      "source": [
        "A = np.arange(3).reshape(3, 1)\n",
        "B = np.arange(3).reshape(1, 3)\n",
        "it = np.nditer([A, B, None])\n",
        "for x, y, z in it:\n",
        "    z[...] = x + y\n",
        "print(it.operands)\n"
      ]
    },
    {
      "cell_type": "markdown",
      "metadata": {
        "id": "iuSRq9FPiaWu"
      },
      "source": [
        "#### 63. Create an array class that has a name attribute (★★☆)\n",
        "\n",
        "(**hint**: class method)\n"
      ]
    },
    {
      "cell_type": "code",
      "execution_count": 112,
      "metadata": {
        "id": "hLHOXPOQiaWv"
      },
      "outputs": [
        {
          "data": {
            "text/plain": [
              "'spam'"
            ]
          },
          "execution_count": 112,
          "metadata": {},
          "output_type": "execute_result"
        }
      ],
      "source": [
        "class Foo:\n",
        "    def __init__(self, name):\n",
        "        self.name = name\n",
        "\n",
        "\n",
        "x = Foo('spam')\n",
        "x.name\n"
      ]
    },
    {
      "cell_type": "markdown",
      "metadata": {
        "id": "OzctjNrDiaWv"
      },
      "source": [
        "#### 64. Consider a given vector, how to add 1 to each element indexed by a second vector (be careful with repeated indices)? (★★★)\n",
        "\n",
        "(**hint**: np.bincount | np.add.at)\n"
      ]
    },
    {
      "cell_type": "code",
      "execution_count": 113,
      "metadata": {
        "id": "TfKo5MXEiaWv"
      },
      "outputs": [
        {
          "data": {
            "text/plain": [
              "array([2, 3, 2, 3, 5])"
            ]
          },
          "execution_count": 113,
          "metadata": {},
          "output_type": "execute_result"
        }
      ],
      "source": [
        "x = np.array([1, 1, 2, 3, 5])\n",
        "np.add.at(x, np.array([0, 1, 1]), 1)\n",
        "x\n"
      ]
    },
    {
      "cell_type": "markdown",
      "metadata": {
        "id": "F7e9af0IiaWv"
      },
      "source": [
        "#### 65. How to accumulate elements of a vector (X) to an array (F) based on an index list (I)? (★★★)\n",
        "\n",
        "(**hint**: np.bincount)\n"
      ]
    },
    {
      "cell_type": "code",
      "execution_count": 114,
      "metadata": {
        "id": "XqCqKp6miaWw"
      },
      "outputs": [
        {
          "data": {
            "text/plain": [
              "array([0, 7, 0, 6, 5, 0, 0, 0, 0, 3])"
            ]
          },
          "execution_count": 114,
          "metadata": {},
          "output_type": "execute_result"
        }
      ],
      "source": [
        "X = [1, 2, 3, 4, 5, 6]\n",
        "I = [1, 3, 9, 3, 4, 1]\n",
        "F = np.array(np.bincount(I, X), dtype=int)\n",
        "F\n"
      ]
    },
    {
      "cell_type": "markdown",
      "metadata": {
        "id": "q-4ZV_afiaWw"
      },
      "source": [
        "#### 66. Considering a (w,h,3) image of (dtype=ubyte), compute the number of unique colors (★★★)\n",
        "\n",
        "(**hint**: np.unique)\n"
      ]
    },
    {
      "cell_type": "code",
      "execution_count": 115,
      "metadata": {
        "id": "U0OVvGJDiaWw"
      },
      "outputs": [
        {
          "data": {
            "text/plain": [
              "64"
            ]
          },
          "execution_count": 115,
          "metadata": {},
          "output_type": "execute_result"
        }
      ],
      "source": [
        "w, h = 256, 256\n",
        "I = np.random.randint(0, 4, (h, w, 3)).astype(np.ubyte)\n",
        "colors = np.unique(I.reshape(-1, 3), axis=0)\n",
        "colors.shape[0]\n"
      ]
    },
    {
      "cell_type": "markdown",
      "metadata": {
        "id": "nCvImJHDiaWw"
      },
      "source": [
        "#### 67. Considering a four dimensions array, how to get sum over the last two axis at once? (★★★)\n",
        "\n",
        "(**hint**: sum(axis=(-2,-1)))\n"
      ]
    },
    {
      "cell_type": "code",
      "execution_count": 116,
      "metadata": {
        "id": "rI8R-T2diaWx"
      },
      "outputs": [
        {
          "data": {
            "text/plain": [
              "array([[4., 4.],\n",
              "       [4., 4.]])"
            ]
          },
          "execution_count": 116,
          "metadata": {},
          "output_type": "execute_result"
        }
      ],
      "source": [
        "np.ones((2, 2, 2, 2)).sum(axis=(-2, -1))\n"
      ]
    },
    {
      "cell_type": "markdown",
      "metadata": {
        "id": "tdn2bWPQiaWx"
      },
      "source": [
        "#### 68. Considering a one-dimensional vector D, how to compute means of subsets of D using a vector S of same size describing subset indices? (★★★)\n",
        "\n",
        "(**hint**: np.bincount)\n"
      ]
    },
    {
      "cell_type": "code",
      "execution_count": 117,
      "metadata": {
        "id": "HVCdJQ2jiaWy"
      },
      "outputs": [
        {
          "data": {
            "text/plain": [
              "array([0.52439191, 0.53573433, 0.56625185, 0.44058741, 0.41975962,\n",
              "       0.50109645, 0.4887542 , 0.56633479, 0.47823942, 0.4836965 ])"
            ]
          },
          "execution_count": 117,
          "metadata": {},
          "output_type": "execute_result"
        }
      ],
      "source": [
        "D = np.random.uniform(0, 1, 100)  # 1-D vector\n",
        "S = np.random.randint(0, 10, 100)  # Index groups\n",
        "D_sums = np.bincount(S, weights=D)  # sum of vaules grouped by index\n",
        "D_counts = np.bincount(S)  # count of each index group\n",
        "D_sums / D_counts  # mean  = sum/count\n"
      ]
    },
    {
      "cell_type": "markdown",
      "metadata": {
        "id": "UcssAEJjiaWy"
      },
      "source": [
        "#### 69. How to get the diagonal of a dot product? (★★★)\n",
        "\n",
        "(**hint**: np.diag)\n"
      ]
    },
    {
      "cell_type": "code",
      "execution_count": 118,
      "metadata": {
        "id": "13aYKf5riaWz"
      },
      "outputs": [
        {
          "data": {
            "text/plain": [
              "array([3., 3., 3.])"
            ]
          },
          "execution_count": 118,
          "metadata": {},
          "output_type": "execute_result"
        }
      ],
      "source": [
        "np.diag(np.dot(np.ones((3, 3)), np.ones((3, 3))))\n"
      ]
    },
    {
      "cell_type": "markdown",
      "metadata": {
        "id": "ICmfksC6iaWz"
      },
      "source": [
        "#### 70. Consider the vector \\[1, 2, 3, 4, 5\\], how to build a new vector with 3 consecutive zeros interleaved between each value? (★★★)\n",
        "\n",
        "(**hint**: array\\[::4\\])\n"
      ]
    },
    {
      "cell_type": "code",
      "execution_count": 119,
      "metadata": {
        "id": "Phr-2B_riaWz"
      },
      "outputs": [
        {
          "data": {
            "text/plain": [
              "array([1., 0., 0., 0., 2., 0., 0., 0., 3., 0., 0., 0., 4., 0., 0., 0., 5.])"
            ]
          },
          "execution_count": 119,
          "metadata": {},
          "output_type": "execute_result"
        }
      ],
      "source": [
        "x = np.array([1, 2, 3, 4, 5])\n",
        "z = np.zeros(x.size*(3+1)-3)\n",
        "z[::4] = x\n",
        "z\n"
      ]
    },
    {
      "cell_type": "markdown",
      "metadata": {
        "id": "bJgMQwHwiaWz"
      },
      "source": [
        "#### 71. Consider an array of dimension (5,5,3), how to mulitply it by an array with dimensions (5,5)? (★★★)\n",
        "\n",
        "(**hint**: array\\[:, :, None\\])\n"
      ]
    },
    {
      "cell_type": "code",
      "execution_count": 120,
      "metadata": {
        "collapsed": true,
        "id": "Clci9RTWiaW0"
      },
      "outputs": [],
      "source": [
        "A = np.ones((5, 5, 3))\n",
        "B = 2*np.ones((5, 5))\n",
        "A * B[:, :, None]\n",
        "x = np.array([1, 2, 3])\n"
      ]
    },
    {
      "cell_type": "markdown",
      "metadata": {
        "id": "LFDgIojJiaW1"
      },
      "source": [
        "#### 72. How to swap two rows of an array? (★★★)\n",
        "\n",
        "(**hint**: array\\[\\[\\]\\] = array\\[\\[\\]\\])\n"
      ]
    },
    {
      "cell_type": "code",
      "execution_count": 121,
      "metadata": {
        "id": "oVGY2m44iaW2"
      },
      "outputs": [],
      "source": [
        "A = np.arange(25).reshape(5, 5)\n",
        "A[[0, 1]] = A[[1, 0]]\n"
      ]
    },
    {
      "cell_type": "markdown",
      "metadata": {
        "id": "3qCyQfXhiaW2"
      },
      "source": [
        "#### 73. Consider a set of 10 triplets describing 10 triangles (with shared vertices), find the set of unique line segments composing all the triangles (★★★)\n",
        "\n",
        "(**hint**: repeat, np.roll, np.sort, view, np.unique)\n"
      ]
    },
    {
      "cell_type": "code",
      "execution_count": 122,
      "metadata": {
        "id": "PGalFj6DiaW2"
      },
      "outputs": [
        {
          "data": {
            "text/plain": [
              "24"
            ]
          },
          "execution_count": 122,
          "metadata": {},
          "output_type": "execute_result"
        }
      ],
      "source": [
        "vertices = np.random.randint(0, 10, (10, 3))\n",
        "sides = np.roll(vertices.repeat(2, axis=1), -1, axis=1)\n",
        "sides = sides.reshape(-1, 2)\n",
        "sides = np.sort(sides, axis=1)\n",
        "sides_tuple = sides.view(dtype=[('xy1', sides.dtype), ('xy2', sides.dtype)])\n",
        "np.unique(sides_tuple).size\n"
      ]
    },
    {
      "cell_type": "markdown",
      "metadata": {
        "id": "xV5aagD7iaW3"
      },
      "source": [
        "#### 74. Given an array C that is a bincount, how to produce an array A such that np.bincount(A) == C? (★★★)\n",
        "\n",
        "(**hint**: np.repeat)\n"
      ]
    },
    {
      "cell_type": "code",
      "execution_count": 123,
      "metadata": {
        "id": "JO1qnILuiaW3"
      },
      "outputs": [
        {
          "data": {
            "text/plain": [
              "array([1, 1, 2, 2, 2, 3])"
            ]
          },
          "execution_count": 123,
          "metadata": {},
          "output_type": "execute_result"
        }
      ],
      "source": [
        "bin_cnt = np.array([0, 2, 3, 1, 0])\n",
        "np.repeat(np.arange(bin_cnt.size), bin_cnt)\n"
      ]
    },
    {
      "cell_type": "markdown",
      "metadata": {
        "id": "4lajvBUwiaW3"
      },
      "source": [
        "#### 75. How to compute averages using a sliding window over an array? (★★★)\n",
        "\n",
        "(**hint**: np.cumsum)\n"
      ]
    },
    {
      "cell_type": "code",
      "execution_count": 124,
      "metadata": {
        "id": "b7m5JFybiaW3"
      },
      "outputs": [
        {
          "data": {
            "text/plain": [
              "array([2., 3., 4.])"
            ]
          },
          "execution_count": 124,
          "metadata": {},
          "output_type": "execute_result"
        }
      ],
      "source": [
        "x = np.array([1, 2, 3, 4, 5])\n",
        "sliding_window_view(x, window_shape=3).mean(axis=-1)\n"
      ]
    },
    {
      "cell_type": "markdown",
      "metadata": {
        "id": "J0Prb9FhiaW3"
      },
      "source": [
        "#### 76. Consider a one-dimensional array Z, build a two-dimensional array whose first row is (Z\\[0\\],Z\\[1\\],Z\\[2\\]) and each subsequent row is shifted by 1 (last row should be (Z\\[-3\\],Z\\[-2\\],Z\\[-1\\]) (★★★)\n",
        "\n",
        "(**hint**: from numpy.lib import stride_tricks)\n"
      ]
    },
    {
      "cell_type": "code",
      "execution_count": 125,
      "metadata": {
        "id": "wzQWM4WWiaW4"
      },
      "outputs": [
        {
          "data": {
            "text/plain": [
              "array([[0, 1, 2],\n",
              "       [1, 2, 3],\n",
              "       [2, 3, 4],\n",
              "       [3, 4, 5],\n",
              "       [4, 5, 6],\n",
              "       [5, 6, 7],\n",
              "       [6, 7, 8],\n",
              "       [7, 8, 9]])"
            ]
          },
          "execution_count": 125,
          "metadata": {},
          "output_type": "execute_result"
        }
      ],
      "source": [
        "from numpy.lib.stride_tricks import sliding_window_view\n",
        "Z = np.arange(10)\n",
        "sliding_window_view(Z, window_shape=3)\n"
      ]
    },
    {
      "cell_type": "markdown",
      "metadata": {
        "id": "kNSG5wEwiaW4"
      },
      "source": [
        "#### 77. How to negate a boolean, or to change the sign of a float inplace? (★★★)\n",
        "\n",
        "(**hint**: np.logical_not, np.negative)\n"
      ]
    },
    {
      "cell_type": "code",
      "execution_count": 126,
      "metadata": {
        "id": "1K0jFk04iaW4"
      },
      "outputs": [
        {
          "data": {
            "text/plain": [
              "array([False])"
            ]
          },
          "execution_count": 126,
          "metadata": {},
          "output_type": "execute_result"
        }
      ],
      "source": [
        "x = np.array([True])\n",
        "np.logical_not(x, out=x)\n",
        "x\n"
      ]
    },
    {
      "cell_type": "markdown",
      "metadata": {
        "id": "zG9fXkJZiaW4"
      },
      "source": [
        "#### 78. Consider 2 sets of points P0,P1 describing lines (2d) and a point p, how to compute distance from p to each line i (P0\\[i\\],P1\\[i\\])? (★★★)\n"
      ]
    },
    {
      "cell_type": "code",
      "execution_count": 127,
      "metadata": {
        "id": "O-Ea-LD4iaW5"
      },
      "outputs": [
        {
          "data": {
            "text/plain": [
              "array([ 5.10078164, 16.55453029,  9.0999602 , 12.07636666,  1.38554206,\n",
              "        3.21875085, 11.08631417, 11.03343168,  5.38214075,  1.32064589])"
            ]
          },
          "execution_count": 127,
          "metadata": {},
          "output_type": "execute_result"
        }
      ],
      "source": [
        "def distance(P0, P1, p):\n",
        "    T = P1 - P0\n",
        "    L = (T**2).sum(axis=1)\n",
        "    U = -((P0[:, 0]-p[..., 0])*T[:, 0] + (P0[:, 1]-p[..., 1])*T[:, 1]) / L\n",
        "    U = U.reshape(len(U), 1)\n",
        "    D = P0 + U*T - p\n",
        "    return np.sqrt((D**2).sum(axis=1))\n",
        "\n",
        "\n",
        "P0 = np.random.uniform(-10, 10, (10, 2))\n",
        "P1 = np.random.uniform(-10, 10, (10, 2))\n",
        "p = np.random.uniform(-10, 10, (1, 2))\n",
        "distance(P0, P1, p)\n"
      ]
    },
    {
      "cell_type": "markdown",
      "metadata": {
        "id": "srFQc8_YiaW5"
      },
      "source": [
        "#### 79. Consider 2 sets of points P0,P1 describing lines (2d) and a set of points P, how to compute distance from each point j (P\\[j\\]) to each line i (P0\\[i\\],P1\\[i\\])? (★★★)\n"
      ]
    },
    {
      "cell_type": "code",
      "execution_count": 128,
      "metadata": {
        "id": "FqVrodnWiaW5"
      },
      "outputs": [
        {
          "data": {
            "text/plain": [
              "array([[12.57014938, 10.21953836,  0.51928617,  8.55959522,  3.05082848,\n",
              "         0.7468517 ,  2.72772785,  4.90467197, 13.11689354,  1.04667201],\n",
              "       [11.78151293,  7.91055869,  1.72206339,  8.48632035,  4.65450068,\n",
              "         1.25148767,  4.24533736,  5.02505767, 12.86602095,  1.25501568],\n",
              "       [ 0.78188635,  0.74272831,  7.1705106 ,  0.58072449,  3.78982839,\n",
              "         3.64165429,  2.78681892,  3.36999352,  3.23701769,  8.12466827],\n",
              "       [ 2.27334792,  1.88294553, 10.14083734,  1.80468703,  7.24530179,\n",
              "         6.97907773,  6.23566122,  0.78413475,  5.42344328, 10.8190037 ],\n",
              "       [ 4.63460436, 16.26778731,  8.15574367,  1.58678989,  7.98358155,\n",
              "        10.4412797 ,  8.46331339,  5.66618347,  3.4232759 ,  7.39807901],\n",
              "       [ 3.5321878 , 15.61628802,  7.67863952,  2.51700829,  8.132303  ,\n",
              "        10.26980127,  8.6699317 ,  6.53447308,  2.44185224,  6.77698886],\n",
              "       [ 2.43027242,  6.9906196 ,  1.01990698,  0.88440428,  0.88135867,\n",
              "         1.98221232,  1.67004074,  4.19368055,  3.41329736,  1.88086186],\n",
              "       [ 8.22649913,  8.20478855,  0.79120815,  4.71697907,  1.95242458,\n",
              "         0.63325466,  1.41458154,  1.26130689,  9.11476373,  0.8439287 ],\n",
              "       [ 4.64998667, 12.04612286,  5.44206276,  9.82769057, 10.4101919 ,\n",
              "        10.28485471, 11.34688127, 13.48806238,  5.15209398,  3.44245045],\n",
              "       [ 9.43532002,  7.15051995,  2.09152929,  6.30529385,  3.75665126,\n",
              "         0.97879869,  3.23944737,  2.92505523, 10.62393979,  1.94542054]])"
            ]
          },
          "execution_count": 128,
          "metadata": {},
          "output_type": "execute_result"
        }
      ],
      "source": [
        "P0 = np.random.uniform(-10, 10, (10, 2))\n",
        "P1 = np.random.uniform(-10, 10, (10, 2))\n",
        "p = np.random.uniform(-10, 10, (10, 2))\n",
        "np.array([distance(P0, P1, p_i) for p_i in p])\n"
      ]
    },
    {
      "cell_type": "markdown",
      "metadata": {
        "id": "UmEVT9poiaW5"
      },
      "source": [
        "#### 80. Consider an arbitrary array, write a function that extract a subpart with a fixed shape and centered on a given element (pad with a `fill` value when necessary) (★★★)\n",
        "\n",
        "(**hint**: minimum, maximum)\n"
      ]
    },
    {
      "cell_type": "code",
      "execution_count": 129,
      "metadata": {
        "id": "8hiswKUviaW6"
      },
      "outputs": [
        {
          "name": "stdout",
          "output_type": "stream",
          "text": [
            "[[3 3 8 7 7 9 8 6 9 2]\n",
            " [3 7 5 1 1 9 1 0 1 4]\n",
            " [7 2 6 1 4 3 8 1 6 6]\n",
            " [0 7 8 4 9 3 3 8 1 6]\n",
            " [1 9 8 8 4 4 9 0 3 0]\n",
            " [9 7 0 0 6 6 9 2 9 2]\n",
            " [0 5 1 6 2 0 7 2 3 8]\n",
            " [5 1 2 7 0 4 5 9 1 6]\n",
            " [1 5 9 9 4 3 2 0 6 4]\n",
            " [2 4 3 5 5 8 7 4 6 7]]\n",
            "[[0 0 0 0 0]\n",
            " [0 3 3 8 7]\n",
            " [0 3 7 5 1]\n",
            " [0 7 2 6 1]\n",
            " [0 0 7 8 4]]\n"
          ]
        },
        {
          "name": "stderr",
          "output_type": "stream",
          "text": [
            "/tmp/ipykernel_3280/3650382191.py:23: FutureWarning: Using a non-tuple sequence for multidimensional indexing is deprecated; use `arr[tuple(seq)]` instead of `arr[seq]`. In the future this will be interpreted as an array index, `arr[np.array(seq)]`, which will result either in an error or a different result.\n",
            "  R[r] = Z[z]\n"
          ]
        }
      ],
      "source": [
        "Z = np.random.randint(0, 10, (10, 10))\n",
        "shape = (5, 5)\n",
        "fill = 0\n",
        "position = (1, 1)\n",
        "\n",
        "R = np.ones(shape, dtype=Z.dtype)*fill\n",
        "P = np.array(list(position)).astype(int)\n",
        "Rs = np.array(list(R.shape)).astype(int)\n",
        "Zs = np.array(list(Z.shape)).astype(int)\n",
        "\n",
        "R_start = np.zeros((len(shape),)).astype(int)\n",
        "R_stop = np.array(list(shape)).astype(int)\n",
        "Z_start = (P-Rs//2)\n",
        "Z_stop = (P+Rs//2)+Rs % 2\n",
        "\n",
        "R_start = (R_start - np.minimum(Z_start, 0)).tolist()\n",
        "Z_start = (np.maximum(Z_start, 0)).tolist()\n",
        "R_stop = np.maximum(R_start, (R_stop - np.maximum(Z_stop-Zs, 0))).tolist()\n",
        "Z_stop = (np.minimum(Z_stop, Zs)).tolist()\n",
        "\n",
        "r = [slice(start, stop) for start, stop in zip(R_start, R_stop)]\n",
        "z = [slice(start, stop) for start, stop in zip(Z_start, Z_stop)]\n",
        "R[r] = Z[z]\n",
        "print(Z)\n",
        "print(R)\n"
      ]
    },
    {
      "cell_type": "markdown",
      "metadata": {
        "id": "Ftz0Dlc4iaW6"
      },
      "source": [
        "#### 81. Consider an array Z = \\[1,2,3,4,5,6,7,8,9,10,11,12,13,14\\], how to generate an array R = \\[\\[1,2,3,4\\], \\[2,3,4,5\\], \\[3,4,5,6\\], ..., \\[11,12,13,14\\]\\]? (★★★)\n",
        "\n",
        "(**hint**: stride_tricks.as_strided)\n"
      ]
    },
    {
      "cell_type": "code",
      "execution_count": 130,
      "metadata": {
        "id": "N4bTpkJjiaW6"
      },
      "outputs": [
        {
          "data": {
            "text/plain": [
              "array([[ 1,  2,  3,  4],\n",
              "       [ 2,  3,  4,  5],\n",
              "       [ 3,  4,  5,  6],\n",
              "       [ 4,  5,  6,  7],\n",
              "       [ 5,  6,  7,  8],\n",
              "       [ 6,  7,  8,  9],\n",
              "       [ 7,  8,  9, 10],\n",
              "       [ 8,  9, 10, 11],\n",
              "       [ 9, 10, 11, 12],\n",
              "       [10, 11, 12, 13],\n",
              "       [11, 12, 13, 14]], dtype=uint32)"
            ]
          },
          "execution_count": 130,
          "metadata": {},
          "output_type": "execute_result"
        }
      ],
      "source": [
        "Z = np.arange(1, 15, dtype=np.uint32)\n",
        "sliding_window_view(Z, window_shape=4)\n"
      ]
    },
    {
      "cell_type": "markdown",
      "metadata": {
        "id": "m29rGjjQiaW6"
      },
      "source": [
        "#### 82. Compute a matrix rank (★★★)\n",
        "\n",
        "(**hint**: np.linalg.svd) (suggestion: np.linalg.svd)\n"
      ]
    },
    {
      "cell_type": "code",
      "execution_count": 131,
      "metadata": {
        "id": "1oYbb_WDiaW7"
      },
      "outputs": [
        {
          "data": {
            "text/plain": [
              "10"
            ]
          },
          "execution_count": 131,
          "metadata": {},
          "output_type": "execute_result"
        }
      ],
      "source": [
        "Z = np.random.uniform(0, 1, (10, 10))\n",
        "np.linalg.matrix_rank(Z)\n"
      ]
    },
    {
      "cell_type": "markdown",
      "metadata": {
        "id": "3YRnT6Z-iaW7"
      },
      "source": [
        "#### 83. How to find the most frequent value in an array?\n",
        "\n",
        "(**hint**: np.bincount, argmax)\n"
      ]
    },
    {
      "cell_type": "code",
      "execution_count": 132,
      "metadata": {
        "id": "Rc6xfK_AiaW7"
      },
      "outputs": [
        {
          "data": {
            "text/plain": [
              "4"
            ]
          },
          "execution_count": 132,
          "metadata": {},
          "output_type": "execute_result"
        }
      ],
      "source": [
        "Z = np.random.randint(0, 10, 50)\n",
        "np.bincount(Z).argmax()\n"
      ]
    },
    {
      "cell_type": "markdown",
      "metadata": {
        "id": "A6e9MTcWiaW7"
      },
      "source": [
        "#### 84. Extract all the contiguous 3x3 blocks from a random 10x10 matrix (★★★)\n",
        "\n",
        "(**hint**: stride_tricks.as_strided)\n"
      ]
    },
    {
      "cell_type": "code",
      "execution_count": 133,
      "metadata": {
        "id": "_YVI5lv_iaW7"
      },
      "outputs": [
        {
          "data": {
            "text/plain": [
              "array([[[[0, 3, 3],\n",
              "         [4, 1, 2],\n",
              "         [2, 1, 1]],\n",
              "\n",
              "        [[3, 3, 0],\n",
              "         [1, 2, 1],\n",
              "         [1, 1, 2]],\n",
              "\n",
              "        [[3, 0, 4],\n",
              "         [2, 1, 4],\n",
              "         [1, 2, 2]],\n",
              "\n",
              "        [[0, 4, 3],\n",
              "         [1, 4, 4],\n",
              "         [2, 2, 4]],\n",
              "\n",
              "        [[4, 3, 4],\n",
              "         [4, 4, 3],\n",
              "         [2, 4, 3]],\n",
              "\n",
              "        [[3, 4, 1],\n",
              "         [4, 3, 2],\n",
              "         [4, 3, 2]],\n",
              "\n",
              "        [[4, 1, 3],\n",
              "         [3, 2, 0],\n",
              "         [3, 2, 3]],\n",
              "\n",
              "        [[1, 3, 4],\n",
              "         [2, 0, 1],\n",
              "         [2, 3, 2]]],\n",
              "\n",
              "\n",
              "       [[[4, 1, 2],\n",
              "         [2, 1, 1],\n",
              "         [0, 2, 1]],\n",
              "\n",
              "        [[1, 2, 1],\n",
              "         [1, 1, 2],\n",
              "         [2, 1, 1]],\n",
              "\n",
              "        [[2, 1, 4],\n",
              "         [1, 2, 2],\n",
              "         [1, 1, 1]],\n",
              "\n",
              "        [[1, 4, 4],\n",
              "         [2, 2, 4],\n",
              "         [1, 1, 4]],\n",
              "\n",
              "        [[4, 4, 3],\n",
              "         [2, 4, 3],\n",
              "         [1, 4, 0]],\n",
              "\n",
              "        [[4, 3, 2],\n",
              "         [4, 3, 2],\n",
              "         [4, 0, 1]],\n",
              "\n",
              "        [[3, 2, 0],\n",
              "         [3, 2, 3],\n",
              "         [0, 1, 2]],\n",
              "\n",
              "        [[2, 0, 1],\n",
              "         [2, 3, 2],\n",
              "         [1, 2, 3]]],\n",
              "\n",
              "\n",
              "       [[[2, 1, 1],\n",
              "         [0, 2, 1],\n",
              "         [0, 3, 0]],\n",
              "\n",
              "        [[1, 1, 2],\n",
              "         [2, 1, 1],\n",
              "         [3, 0, 0]],\n",
              "\n",
              "        [[1, 2, 2],\n",
              "         [1, 1, 1],\n",
              "         [0, 0, 2]],\n",
              "\n",
              "        [[2, 2, 4],\n",
              "         [1, 1, 4],\n",
              "         [0, 2, 4]],\n",
              "\n",
              "        [[2, 4, 3],\n",
              "         [1, 4, 0],\n",
              "         [2, 4, 3]],\n",
              "\n",
              "        [[4, 3, 2],\n",
              "         [4, 0, 1],\n",
              "         [4, 3, 3]],\n",
              "\n",
              "        [[3, 2, 3],\n",
              "         [0, 1, 2],\n",
              "         [3, 3, 2]],\n",
              "\n",
              "        [[2, 3, 2],\n",
              "         [1, 2, 3],\n",
              "         [3, 2, 0]]],\n",
              "\n",
              "\n",
              "       [[[0, 2, 1],\n",
              "         [0, 3, 0],\n",
              "         [1, 2, 2]],\n",
              "\n",
              "        [[2, 1, 1],\n",
              "         [3, 0, 0],\n",
              "         [2, 2, 4]],\n",
              "\n",
              "        [[1, 1, 1],\n",
              "         [0, 0, 2],\n",
              "         [2, 4, 0]],\n",
              "\n",
              "        [[1, 1, 4],\n",
              "         [0, 2, 4],\n",
              "         [4, 0, 4]],\n",
              "\n",
              "        [[1, 4, 0],\n",
              "         [2, 4, 3],\n",
              "         [0, 4, 3]],\n",
              "\n",
              "        [[4, 0, 1],\n",
              "         [4, 3, 3],\n",
              "         [4, 3, 4]],\n",
              "\n",
              "        [[0, 1, 2],\n",
              "         [3, 3, 2],\n",
              "         [3, 4, 1]],\n",
              "\n",
              "        [[1, 2, 3],\n",
              "         [3, 2, 0],\n",
              "         [4, 1, 0]]],\n",
              "\n",
              "\n",
              "       [[[0, 3, 0],\n",
              "         [1, 2, 2],\n",
              "         [3, 4, 3]],\n",
              "\n",
              "        [[3, 0, 0],\n",
              "         [2, 2, 4],\n",
              "         [4, 3, 4]],\n",
              "\n",
              "        [[0, 0, 2],\n",
              "         [2, 4, 0],\n",
              "         [3, 4, 3]],\n",
              "\n",
              "        [[0, 2, 4],\n",
              "         [4, 0, 4],\n",
              "         [4, 3, 2]],\n",
              "\n",
              "        [[2, 4, 3],\n",
              "         [0, 4, 3],\n",
              "         [3, 2, 1]],\n",
              "\n",
              "        [[4, 3, 3],\n",
              "         [4, 3, 4],\n",
              "         [2, 1, 2]],\n",
              "\n",
              "        [[3, 3, 2],\n",
              "         [3, 4, 1],\n",
              "         [1, 2, 4]],\n",
              "\n",
              "        [[3, 2, 0],\n",
              "         [4, 1, 0],\n",
              "         [2, 4, 1]]],\n",
              "\n",
              "\n",
              "       [[[1, 2, 2],\n",
              "         [3, 4, 3],\n",
              "         [3, 1, 2]],\n",
              "\n",
              "        [[2, 2, 4],\n",
              "         [4, 3, 4],\n",
              "         [1, 2, 2]],\n",
              "\n",
              "        [[2, 4, 0],\n",
              "         [3, 4, 3],\n",
              "         [2, 2, 4]],\n",
              "\n",
              "        [[4, 0, 4],\n",
              "         [4, 3, 2],\n",
              "         [2, 4, 2]],\n",
              "\n",
              "        [[0, 4, 3],\n",
              "         [3, 2, 1],\n",
              "         [4, 2, 3]],\n",
              "\n",
              "        [[4, 3, 4],\n",
              "         [2, 1, 2],\n",
              "         [2, 3, 0]],\n",
              "\n",
              "        [[3, 4, 1],\n",
              "         [1, 2, 4],\n",
              "         [3, 0, 4]],\n",
              "\n",
              "        [[4, 1, 0],\n",
              "         [2, 4, 1],\n",
              "         [0, 4, 4]]],\n",
              "\n",
              "\n",
              "       [[[3, 4, 3],\n",
              "         [3, 1, 2],\n",
              "         [2, 3, 3]],\n",
              "\n",
              "        [[4, 3, 4],\n",
              "         [1, 2, 2],\n",
              "         [3, 3, 0]],\n",
              "\n",
              "        [[3, 4, 3],\n",
              "         [2, 2, 4],\n",
              "         [3, 0, 4]],\n",
              "\n",
              "        [[4, 3, 2],\n",
              "         [2, 4, 2],\n",
              "         [0, 4, 3]],\n",
              "\n",
              "        [[3, 2, 1],\n",
              "         [4, 2, 3],\n",
              "         [4, 3, 4]],\n",
              "\n",
              "        [[2, 1, 2],\n",
              "         [2, 3, 0],\n",
              "         [3, 4, 1]],\n",
              "\n",
              "        [[1, 2, 4],\n",
              "         [3, 0, 4],\n",
              "         [4, 1, 0]],\n",
              "\n",
              "        [[2, 4, 1],\n",
              "         [0, 4, 4],\n",
              "         [1, 0, 1]]],\n",
              "\n",
              "\n",
              "       [[[3, 1, 2],\n",
              "         [2, 3, 3],\n",
              "         [4, 3, 3]],\n",
              "\n",
              "        [[1, 2, 2],\n",
              "         [3, 3, 0],\n",
              "         [3, 3, 0]],\n",
              "\n",
              "        [[2, 2, 4],\n",
              "         [3, 0, 4],\n",
              "         [3, 0, 2]],\n",
              "\n",
              "        [[2, 4, 2],\n",
              "         [0, 4, 3],\n",
              "         [0, 2, 0]],\n",
              "\n",
              "        [[4, 2, 3],\n",
              "         [4, 3, 4],\n",
              "         [2, 0, 4]],\n",
              "\n",
              "        [[2, 3, 0],\n",
              "         [3, 4, 1],\n",
              "         [0, 4, 2]],\n",
              "\n",
              "        [[3, 0, 4],\n",
              "         [4, 1, 0],\n",
              "         [4, 2, 3]],\n",
              "\n",
              "        [[0, 4, 4],\n",
              "         [1, 0, 1],\n",
              "         [2, 3, 4]]]])"
            ]
          },
          "execution_count": 133,
          "metadata": {},
          "output_type": "execute_result"
        }
      ],
      "source": [
        "Z = np.random.randint(0, 5, (10, 10))\n",
        "sliding_window_view(Z, window_shape=(3, 3))\n"
      ]
    },
    {
      "cell_type": "markdown",
      "metadata": {
        "id": "cKsn5q2viaW8"
      },
      "source": [
        "#### 85. Create a 2D array subclass such that Z\\[i,j\\] == Z\\[j,i\\] (★★★)\n",
        "\n",
        "(**hint**: class method)\n"
      ]
    },
    {
      "cell_type": "code",
      "execution_count": 134,
      "metadata": {
        "id": "vyqmBv6SiaW8"
      },
      "outputs": [
        {
          "data": {
            "text/plain": [
              "Symetric([[ 6,  8,  8,  8,  8],\n",
              "          [ 8,  2,  6, 16,  9],\n",
              "          [ 8,  6,  0, 42, 16],\n",
              "          [ 8, 16, 42,  2,  8],\n",
              "          [ 8,  9, 16,  8,  2]])"
            ]
          },
          "execution_count": 134,
          "metadata": {},
          "output_type": "execute_result"
        }
      ],
      "source": [
        "class Symetric(np.ndarray):\n",
        "    def __setitem__(self, index, value):\n",
        "        i, j = index\n",
        "        super(Symetric, self).__setitem__((i, j), value)\n",
        "        super(Symetric, self).__setitem__((j, i), value)\n",
        "\n",
        "\n",
        "def symetric(Z):\n",
        "    return np.asarray(Z + Z.T - np.diag(Z.diagonal())).view(Symetric)\n",
        "\n",
        "\n",
        "S = symetric(np.random.randint(0, 10, (5, 5)))\n",
        "S[2, 3] = 42\n",
        "S\n"
      ]
    },
    {
      "cell_type": "markdown",
      "metadata": {
        "id": "ayjFd920iaW8"
      },
      "source": [
        "#### 86. Consider a set of p matrices wich shape (n,n) and a set of p vectors with shape (n,1). How to compute the sum of of the p matrix products at once? (result has shape (n,1)) (★★★)\n",
        "\n",
        "(**hint**: np.tensordot)\n"
      ]
    },
    {
      "cell_type": "code",
      "execution_count": 135,
      "metadata": {
        "id": "IU97jwh6iaW9"
      },
      "outputs": [
        {
          "name": "stdout",
          "output_type": "stream",
          "text": [
            "[[200.]\n",
            " [200.]\n",
            " [200.]\n",
            " [200.]\n",
            " [200.]\n",
            " [200.]\n",
            " [200.]\n",
            " [200.]\n",
            " [200.]\n",
            " [200.]\n",
            " [200.]\n",
            " [200.]\n",
            " [200.]\n",
            " [200.]\n",
            " [200.]\n",
            " [200.]\n",
            " [200.]\n",
            " [200.]\n",
            " [200.]\n",
            " [200.]]\n"
          ]
        }
      ],
      "source": [
        "p, n = 10, 20\n",
        "M = np.ones((p, n, n))\n",
        "V = np.ones((p, n, 1))\n",
        "S = np.tensordot(M, V, axes=[[0, 2], [0, 1]])\n",
        "print(S)\n"
      ]
    },
    {
      "cell_type": "markdown",
      "metadata": {
        "id": "JVUHYLTIiaW9"
      },
      "source": [
        "#### 87. Consider a 16x16 array, how to get the block-sum (block size is 4x4)? (★★★)\n",
        "\n",
        "(**hint**: np.add.reduceat)\n"
      ]
    },
    {
      "cell_type": "code",
      "execution_count": 136,
      "metadata": {
        "id": "IE45VsXliaXC"
      },
      "outputs": [
        {
          "data": {
            "text/plain": [
              "array([[16., 16., 16., 16.],\n",
              "       [16., 16., 16., 16.],\n",
              "       [16., 16., 16., 16.],\n",
              "       [16., 16., 16., 16.]])"
            ]
          },
          "execution_count": 136,
          "metadata": {},
          "output_type": "execute_result"
        }
      ],
      "source": [
        "Z = np.ones((16, 16))\n",
        "k = 4\n",
        "\n",
        "windows = sliding_window_view(Z, (k, k))\n",
        "S = windows[::k, ::k, ...].sum(axis=(-2, -1))\n",
        "S\n"
      ]
    },
    {
      "cell_type": "markdown",
      "metadata": {
        "id": "WM-5HRZRiaXD"
      },
      "source": [
        "#### 88. How to implement the Game of Life using numpy arrays? (★★★)\n"
      ]
    },
    {
      "cell_type": "code",
      "execution_count": 137,
      "metadata": {
        "id": "H6wodnI1iaXD"
      },
      "outputs": [
        {
          "data": {
            "text/plain": [
              "array([[0, 0, 0, 0, 0, 0, 0, 0, 0, 0, 0, 0, 0, 0, 0, 0, 0, 0, 0, 0, 0, 0,\n",
              "        0, 0, 0, 0, 0, 0, 0, 0, 0, 0, 0, 0, 0, 0, 0, 0, 0, 0, 0, 0, 0, 0,\n",
              "        0, 0, 0, 0, 0, 0],\n",
              "       [0, 0, 0, 0, 0, 0, 0, 0, 0, 0, 0, 0, 0, 0, 0, 0, 0, 0, 0, 0, 0, 0,\n",
              "        0, 0, 0, 0, 1, 1, 1, 0, 0, 0, 0, 0, 0, 0, 0, 0, 0, 0, 0, 0, 0, 0,\n",
              "        0, 0, 0, 0, 0, 0],\n",
              "       [0, 0, 0, 0, 0, 0, 0, 0, 0, 0, 0, 0, 0, 0, 0, 0, 0, 0, 0, 0, 0, 0,\n",
              "        0, 0, 0, 1, 0, 0, 1, 1, 0, 0, 0, 0, 0, 0, 0, 0, 0, 0, 0, 0, 0, 0,\n",
              "        0, 0, 0, 0, 0, 0],\n",
              "       [0, 0, 0, 0, 0, 0, 0, 0, 0, 0, 0, 0, 0, 0, 0, 0, 0, 0, 0, 0, 0, 0,\n",
              "        0, 0, 0, 1, 1, 0, 0, 1, 1, 0, 0, 0, 0, 0, 0, 0, 0, 0, 0, 0, 0, 0,\n",
              "        0, 0, 0, 0, 0, 0],\n",
              "       [0, 0, 0, 0, 0, 0, 0, 0, 0, 0, 1, 1, 0, 0, 0, 0, 0, 0, 0, 0, 0, 0,\n",
              "        0, 0, 0, 1, 1, 1, 1, 1, 1, 0, 0, 0, 0, 0, 0, 0, 0, 1, 0, 0, 0, 0,\n",
              "        0, 0, 0, 0, 0, 0],\n",
              "       [0, 0, 0, 0, 0, 0, 0, 0, 0, 1, 0, 0, 1, 0, 0, 0, 0, 0, 0, 0, 0, 0,\n",
              "        0, 0, 0, 0, 1, 1, 0, 0, 0, 0, 0, 0, 0, 0, 0, 0, 1, 1, 1, 0, 0, 0,\n",
              "        0, 0, 0, 0, 0, 0],\n",
              "       [0, 0, 1, 1, 0, 0, 0, 0, 0, 0, 1, 1, 0, 0, 0, 0, 0, 0, 0, 0, 0, 0,\n",
              "        0, 0, 0, 0, 0, 0, 1, 0, 0, 0, 0, 0, 0, 0, 0, 0, 0, 0, 0, 1, 0, 0,\n",
              "        0, 0, 0, 1, 1, 0],\n",
              "       [0, 1, 0, 1, 0, 0, 0, 0, 0, 0, 0, 0, 0, 0, 0, 0, 0, 0, 0, 0, 0, 0,\n",
              "        0, 0, 0, 0, 0, 0, 0, 0, 0, 0, 0, 0, 0, 0, 0, 1, 1, 1, 1, 0, 1, 0,\n",
              "        0, 0, 0, 1, 1, 0],\n",
              "       [0, 1, 0, 0, 0, 0, 0, 0, 0, 0, 0, 0, 0, 0, 0, 0, 0, 0, 0, 0, 0, 0,\n",
              "        0, 0, 0, 0, 0, 0, 0, 0, 0, 0, 0, 0, 0, 0, 0, 0, 1, 1, 1, 0, 1, 1,\n",
              "        0, 0, 0, 0, 0, 0],\n",
              "       [0, 1, 0, 1, 0, 0, 0, 0, 0, 0, 0, 0, 0, 0, 0, 0, 0, 0, 0, 0, 0, 0,\n",
              "        0, 0, 0, 0, 0, 0, 0, 0, 0, 0, 0, 0, 0, 0, 0, 0, 0, 0, 1, 0, 1, 0,\n",
              "        0, 0, 0, 0, 0, 0],\n",
              "       [0, 0, 1, 1, 0, 0, 0, 0, 0, 0, 0, 0, 0, 0, 0, 0, 0, 0, 0, 0, 0, 0,\n",
              "        0, 0, 0, 0, 1, 1, 0, 0, 0, 0, 0, 0, 0, 0, 0, 0, 0, 0, 1, 0, 1, 0,\n",
              "        0, 0, 0, 0, 0, 0],\n",
              "       [0, 0, 0, 0, 0, 0, 0, 0, 0, 0, 0, 0, 0, 0, 0, 0, 0, 0, 0, 0, 0, 0,\n",
              "        0, 0, 0, 0, 1, 1, 0, 0, 0, 0, 1, 0, 0, 0, 0, 0, 0, 0, 1, 1, 0, 0,\n",
              "        0, 0, 0, 0, 0, 0],\n",
              "       [0, 0, 0, 0, 0, 0, 0, 0, 0, 0, 0, 0, 0, 0, 0, 0, 0, 0, 0, 0, 0, 0,\n",
              "        0, 0, 0, 0, 0, 0, 0, 0, 0, 1, 0, 0, 0, 1, 0, 0, 0, 0, 0, 0, 0, 0,\n",
              "        0, 0, 0, 0, 0, 0],\n",
              "       [0, 0, 0, 0, 0, 0, 0, 0, 0, 0, 0, 0, 0, 0, 1, 1, 0, 0, 0, 0, 0, 0,\n",
              "        0, 0, 0, 0, 0, 0, 0, 0, 1, 0, 0, 0, 0, 0, 0, 1, 0, 0, 0, 0, 0, 0,\n",
              "        0, 0, 0, 0, 0, 0],\n",
              "       [0, 0, 0, 0, 0, 0, 0, 0, 0, 0, 0, 0, 0, 0, 1, 0, 1, 1, 0, 1, 0, 0,\n",
              "        0, 0, 0, 0, 0, 0, 0, 0, 1, 0, 0, 0, 0, 0, 0, 1, 0, 0, 0, 0, 0, 0,\n",
              "        0, 0, 0, 0, 0, 0],\n",
              "       [0, 0, 0, 0, 0, 1, 0, 0, 0, 0, 0, 0, 0, 0, 0, 1, 1, 0, 1, 1, 1, 0,\n",
              "        0, 0, 0, 0, 0, 0, 0, 0, 1, 1, 0, 1, 0, 0, 0, 0, 0, 0, 0, 0, 0, 0,\n",
              "        0, 0, 0, 0, 0, 0],\n",
              "       [0, 0, 0, 0, 1, 0, 1, 0, 0, 0, 0, 0, 0, 0, 0, 1, 1, 0, 1, 0, 0, 0,\n",
              "        0, 1, 0, 0, 0, 0, 0, 0, 0, 0, 0, 0, 0, 0, 0, 1, 0, 0, 0, 0, 0, 0,\n",
              "        0, 0, 0, 0, 0, 0],\n",
              "       [0, 0, 0, 0, 1, 0, 1, 0, 0, 0, 0, 0, 1, 1, 0, 0, 1, 0, 1, 1, 1, 0,\n",
              "        0, 0, 1, 0, 0, 0, 0, 0, 0, 0, 0, 0, 1, 0, 0, 0, 0, 0, 0, 0, 0, 0,\n",
              "        0, 0, 0, 0, 0, 0],\n",
              "       [0, 0, 0, 0, 0, 1, 0, 0, 0, 0, 0, 1, 0, 0, 1, 1, 1, 1, 0, 1, 1, 0,\n",
              "        0, 1, 0, 0, 0, 0, 0, 0, 0, 0, 0, 0, 1, 0, 0, 1, 1, 0, 0, 0, 0, 0,\n",
              "        0, 0, 0, 0, 0, 0],\n",
              "       [0, 0, 0, 0, 0, 0, 0, 0, 0, 0, 0, 1, 0, 0, 0, 1, 1, 0, 0, 0, 0, 0,\n",
              "        0, 0, 1, 0, 0, 0, 0, 0, 0, 0, 0, 1, 0, 0, 0, 0, 0, 0, 0, 0, 0, 0,\n",
              "        0, 0, 0, 0, 0, 0],\n",
              "       [0, 0, 0, 0, 0, 0, 0, 0, 0, 0, 0, 0, 1, 0, 1, 0, 0, 1, 0, 0, 0, 0,\n",
              "        1, 0, 1, 0, 0, 0, 0, 0, 0, 0, 0, 1, 0, 0, 0, 1, 1, 0, 0, 0, 0, 0,\n",
              "        0, 0, 0, 0, 0, 0],\n",
              "       [0, 0, 0, 0, 0, 0, 0, 0, 0, 0, 0, 0, 0, 1, 0, 0, 1, 1, 0, 0, 0, 0,\n",
              "        0, 0, 1, 0, 0, 0, 0, 0, 0, 0, 0, 0, 1, 0, 0, 0, 1, 0, 0, 0, 0, 0,\n",
              "        0, 0, 0, 0, 0, 0],\n",
              "       [0, 0, 0, 0, 0, 0, 0, 0, 0, 0, 0, 0, 0, 0, 0, 0, 1, 1, 0, 0, 0, 0,\n",
              "        1, 1, 0, 0, 0, 0, 0, 0, 0, 0, 0, 0, 0, 1, 0, 1, 0, 0, 0, 0, 0, 0,\n",
              "        0, 0, 0, 0, 0, 0],\n",
              "       [0, 0, 0, 0, 0, 0, 0, 0, 0, 0, 0, 1, 0, 0, 0, 0, 0, 0, 0, 0, 0, 0,\n",
              "        0, 0, 0, 0, 0, 0, 0, 0, 0, 0, 0, 0, 0, 1, 1, 1, 0, 0, 0, 0, 0, 0,\n",
              "        0, 0, 0, 0, 0, 0],\n",
              "       [0, 0, 0, 0, 0, 0, 0, 0, 0, 0, 0, 1, 0, 0, 0, 0, 1, 0, 1, 0, 0, 0,\n",
              "        0, 0, 0, 0, 0, 0, 0, 0, 0, 0, 0, 0, 0, 0, 0, 0, 0, 0, 0, 0, 0, 0,\n",
              "        0, 0, 0, 0, 0, 0],\n",
              "       [0, 0, 0, 0, 0, 0, 0, 0, 0, 0, 0, 1, 0, 0, 0, 0, 0, 1, 1, 0, 0, 0,\n",
              "        0, 0, 0, 0, 0, 0, 0, 0, 0, 0, 0, 0, 0, 0, 0, 0, 0, 0, 0, 0, 0, 0,\n",
              "        0, 0, 0, 0, 0, 0],\n",
              "       [0, 0, 0, 0, 0, 0, 0, 0, 0, 0, 0, 0, 0, 0, 0, 0, 0, 0, 0, 0, 0, 0,\n",
              "        0, 0, 0, 0, 0, 0, 0, 0, 0, 0, 0, 0, 0, 0, 0, 0, 0, 0, 0, 0, 0, 0,\n",
              "        0, 0, 0, 0, 0, 0],\n",
              "       [0, 0, 0, 0, 0, 0, 0, 0, 0, 0, 0, 0, 0, 1, 1, 1, 0, 0, 0, 0, 0, 0,\n",
              "        0, 1, 1, 0, 0, 0, 0, 0, 0, 0, 0, 0, 0, 0, 0, 0, 0, 0, 0, 0, 0, 0,\n",
              "        0, 0, 0, 0, 0, 0],\n",
              "       [0, 0, 0, 0, 0, 0, 0, 0, 0, 0, 0, 0, 0, 0, 0, 0, 0, 0, 0, 0, 0, 0,\n",
              "        0, 1, 1, 0, 0, 0, 0, 0, 0, 0, 0, 0, 0, 0, 0, 0, 0, 0, 0, 0, 0, 0,\n",
              "        0, 0, 0, 0, 0, 0],\n",
              "       [0, 0, 0, 0, 0, 0, 0, 0, 0, 0, 0, 0, 0, 0, 0, 0, 0, 0, 0, 0, 0, 0,\n",
              "        0, 0, 0, 0, 0, 0, 0, 0, 0, 0, 0, 0, 0, 0, 0, 0, 0, 0, 0, 0, 0, 0,\n",
              "        0, 0, 0, 0, 0, 0],\n",
              "       [0, 0, 0, 0, 0, 0, 0, 0, 0, 0, 0, 0, 0, 0, 0, 0, 0, 0, 0, 0, 0, 0,\n",
              "        0, 0, 0, 0, 0, 0, 0, 0, 0, 0, 0, 0, 0, 0, 0, 0, 0, 0, 0, 0, 0, 0,\n",
              "        0, 0, 0, 0, 0, 0],\n",
              "       [0, 0, 0, 0, 0, 0, 0, 0, 0, 0, 0, 0, 0, 0, 0, 0, 0, 0, 0, 0, 0, 0,\n",
              "        1, 0, 0, 0, 0, 0, 0, 0, 0, 0, 0, 0, 0, 0, 0, 0, 0, 0, 0, 0, 0, 0,\n",
              "        0, 0, 0, 0, 0, 0],\n",
              "       [0, 0, 0, 0, 0, 0, 0, 0, 0, 0, 0, 0, 0, 0, 0, 0, 0, 0, 0, 0, 0, 1,\n",
              "        1, 0, 0, 0, 0, 0, 0, 0, 0, 0, 0, 0, 0, 0, 0, 0, 0, 0, 0, 0, 0, 0,\n",
              "        0, 0, 0, 0, 0, 0],\n",
              "       [0, 0, 0, 0, 0, 0, 0, 0, 0, 0, 0, 0, 0, 0, 0, 0, 0, 0, 0, 0, 0, 1,\n",
              "        1, 0, 0, 0, 0, 0, 0, 0, 0, 0, 0, 0, 0, 0, 0, 0, 0, 0, 0, 0, 0, 0,\n",
              "        0, 0, 0, 0, 0, 0],\n",
              "       [0, 0, 0, 0, 0, 0, 0, 0, 0, 0, 0, 0, 0, 0, 0, 0, 0, 0, 0, 0, 0, 0,\n",
              "        0, 0, 0, 0, 0, 0, 0, 0, 0, 0, 0, 0, 0, 0, 0, 0, 0, 0, 0, 0, 0, 0,\n",
              "        0, 0, 0, 0, 0, 0],\n",
              "       [0, 0, 0, 0, 0, 0, 0, 0, 0, 0, 0, 0, 0, 0, 0, 0, 0, 0, 0, 0, 0, 0,\n",
              "        0, 0, 0, 0, 1, 1, 0, 0, 0, 0, 0, 0, 0, 0, 0, 0, 0, 0, 0, 0, 0, 0,\n",
              "        0, 0, 0, 0, 0, 0],\n",
              "       [0, 0, 0, 0, 0, 0, 0, 0, 0, 0, 0, 0, 0, 0, 0, 1, 1, 1, 0, 0, 0, 0,\n",
              "        0, 0, 1, 1, 0, 0, 1, 0, 0, 0, 0, 0, 0, 0, 0, 0, 0, 0, 0, 0, 0, 0,\n",
              "        0, 0, 0, 0, 0, 0],\n",
              "       [0, 0, 0, 0, 0, 0, 0, 0, 0, 0, 0, 0, 0, 0, 0, 1, 0, 0, 0, 1, 0, 0,\n",
              "        1, 1, 1, 0, 1, 1, 0, 0, 0, 0, 0, 0, 0, 0, 0, 0, 0, 0, 0, 0, 0, 0,\n",
              "        0, 0, 0, 0, 0, 0],\n",
              "       [0, 0, 1, 1, 0, 0, 0, 0, 0, 0, 0, 0, 0, 0, 0, 1, 0, 0, 0, 0, 1, 0,\n",
              "        0, 1, 1, 0, 0, 0, 0, 0, 0, 0, 0, 0, 0, 0, 0, 0, 0, 0, 0, 0, 0, 0,\n",
              "        0, 0, 0, 0, 0, 0],\n",
              "       [0, 1, 0, 0, 1, 0, 0, 0, 0, 0, 0, 0, 0, 0, 0, 0, 1, 0, 0, 0, 1, 0,\n",
              "        1, 1, 0, 0, 0, 0, 0, 0, 0, 0, 0, 0, 0, 0, 0, 0, 0, 0, 0, 0, 0, 0,\n",
              "        0, 0, 0, 0, 0, 0],\n",
              "       [0, 0, 1, 1, 0, 0, 0, 0, 0, 0, 0, 0, 0, 0, 0, 0, 0, 0, 1, 1, 1, 1,\n",
              "        1, 0, 0, 0, 0, 0, 0, 0, 0, 0, 0, 0, 0, 0, 0, 1, 0, 0, 0, 0, 0, 0,\n",
              "        0, 0, 0, 0, 0, 0],\n",
              "       [0, 0, 0, 0, 0, 0, 0, 0, 0, 0, 0, 0, 0, 0, 0, 0, 0, 0, 0, 0, 0, 1,\n",
              "        0, 0, 0, 0, 0, 0, 0, 0, 0, 0, 0, 0, 0, 0, 0, 1, 0, 0, 0, 0, 0, 0,\n",
              "        0, 0, 0, 0, 0, 0],\n",
              "       [0, 0, 0, 0, 0, 0, 0, 0, 0, 0, 0, 0, 0, 0, 0, 1, 1, 0, 0, 0, 0, 0,\n",
              "        0, 0, 0, 0, 0, 0, 0, 0, 0, 0, 0, 0, 0, 0, 0, 1, 0, 0, 0, 0, 0, 0,\n",
              "        0, 0, 0, 0, 0, 0],\n",
              "       [0, 0, 0, 0, 0, 0, 0, 0, 0, 0, 0, 0, 0, 0, 1, 0, 0, 1, 0, 0, 0, 0,\n",
              "        0, 0, 0, 0, 0, 0, 0, 0, 0, 0, 0, 0, 0, 0, 0, 0, 0, 0, 0, 0, 0, 0,\n",
              "        0, 0, 0, 1, 1, 0],\n",
              "       [0, 0, 0, 0, 0, 0, 0, 0, 0, 1, 0, 0, 0, 0, 0, 1, 1, 0, 0, 0, 0, 0,\n",
              "        0, 0, 0, 0, 0, 0, 0, 0, 0, 0, 0, 0, 0, 0, 0, 0, 0, 0, 0, 1, 1, 0,\n",
              "        0, 0, 0, 1, 1, 0],\n",
              "       [0, 0, 0, 0, 0, 0, 0, 0, 1, 0, 1, 0, 0, 0, 0, 0, 0, 0, 0, 0, 0, 0,\n",
              "        0, 0, 0, 0, 0, 0, 0, 0, 0, 0, 0, 0, 0, 0, 0, 0, 0, 0, 0, 1, 1, 0,\n",
              "        0, 0, 0, 0, 0, 0],\n",
              "       [0, 0, 0, 0, 0, 0, 0, 0, 1, 0, 1, 0, 0, 0, 0, 0, 0, 0, 0, 0, 0, 0,\n",
              "        0, 0, 0, 0, 0, 0, 0, 0, 0, 0, 0, 0, 0, 0, 0, 0, 0, 0, 0, 0, 0, 0,\n",
              "        0, 0, 0, 0, 0, 0],\n",
              "       [0, 0, 0, 0, 0, 0, 0, 0, 0, 1, 0, 0, 0, 0, 0, 0, 0, 0, 0, 0, 0, 0,\n",
              "        0, 0, 0, 0, 0, 0, 0, 0, 0, 0, 0, 0, 0, 0, 0, 0, 0, 0, 0, 0, 0, 0,\n",
              "        0, 0, 0, 0, 0, 0],\n",
              "       [0, 0, 0, 0, 0, 0, 0, 0, 0, 0, 0, 0, 0, 0, 0, 0, 0, 0, 0, 0, 0, 0,\n",
              "        0, 0, 0, 0, 0, 0, 0, 0, 0, 0, 0, 0, 0, 0, 0, 0, 0, 0, 0, 0, 0, 0,\n",
              "        0, 0, 0, 0, 0, 0],\n",
              "       [0, 0, 0, 0, 0, 0, 0, 0, 0, 0, 0, 0, 0, 0, 0, 0, 0, 0, 0, 0, 0, 0,\n",
              "        0, 0, 0, 0, 0, 0, 0, 0, 0, 0, 0, 0, 0, 0, 0, 0, 0, 0, 0, 0, 0, 0,\n",
              "        0, 0, 0, 0, 0, 0]])"
            ]
          },
          "execution_count": 137,
          "metadata": {},
          "output_type": "execute_result"
        }
      ],
      "source": [
        "def iterate(Z):\n",
        "    # Count neighbours\n",
        "    N = (Z[0:-2, 0:-2] + Z[0:-2, 1:-1] + Z[0:-2, 2:] +\n",
        "         Z[1:-1, 0:-2] + Z[1:-1, 2:] +\n",
        "         Z[2:, 0:-2] + Z[2:, 1:-1] + Z[2:, 2:])\n",
        "\n",
        "    # Apply rules\n",
        "    birth = (N == 3) & (Z[1:-1, 1:-1] == 0)\n",
        "    survive = ((N == 2) | (N == 3)) & (Z[1:-1, 1:-1] == 1)\n",
        "    Z[...] = 0\n",
        "    Z[1:-1, 1:-1][birth | survive] = 1\n",
        "    return Z\n",
        "\n",
        "\n",
        "Z = np.random.randint(0, 2, (50, 50))\n",
        "for i in range(100):\n",
        "    Z = iterate(Z)\n",
        "Z\n"
      ]
    },
    {
      "cell_type": "markdown",
      "metadata": {
        "id": "YY60vfC0iaXD"
      },
      "source": [
        "#### 89. How to get the n largest values of an array (★★★)\n",
        "\n",
        "(**hint**: np.argsort | np.argpartition)\n"
      ]
    },
    {
      "cell_type": "code",
      "execution_count": 138,
      "metadata": {
        "id": "nJ5H3UNeiaXE"
      },
      "outputs": [
        {
          "data": {
            "text/plain": [
              "array([9995, 9996, 9997, 9998, 9999])"
            ]
          },
          "execution_count": 138,
          "metadata": {},
          "output_type": "execute_result"
        }
      ],
      "source": [
        "Z = np.arange(10000)\n",
        "np.random.shuffle(Z)\n",
        "n = 5\n",
        "\n",
        "Z[np.argsort(Z)[-n:]]\n"
      ]
    },
    {
      "cell_type": "markdown",
      "metadata": {
        "id": "pAo0LjwFiaXE"
      },
      "source": [
        "#### 90. Given an arbitrary number of vectors, build the cartesian product (every combinations of every item) (★★★)\n",
        "\n",
        "(**hint**: np.indices)\n"
      ]
    },
    {
      "cell_type": "code",
      "execution_count": 139,
      "metadata": {
        "id": "MXFsoJZwiaXE",
        "scrolled": true
      },
      "outputs": [
        {
          "data": {
            "text/plain": [
              "array([[1, 4, 6],\n",
              "       [1, 4, 7],\n",
              "       [1, 5, 6],\n",
              "       [1, 5, 7],\n",
              "       [2, 4, 6],\n",
              "       [2, 4, 7],\n",
              "       [2, 5, 6],\n",
              "       [2, 5, 7],\n",
              "       [3, 4, 6],\n",
              "       [3, 4, 7],\n",
              "       [3, 5, 6],\n",
              "       [3, 5, 7]])"
            ]
          },
          "execution_count": 139,
          "metadata": {},
          "output_type": "execute_result"
        }
      ],
      "source": [
        "def cartesian(arrays):\n",
        "    arrays = [np.asarray(a) for a in arrays]\n",
        "    shape = (len(x) for x in arrays)\n",
        "\n",
        "    ix = np.indices(shape, dtype=int)\n",
        "    ix = ix.reshape(len(arrays), -1).T\n",
        "\n",
        "    for n, arr in enumerate(arrays):\n",
        "        ix[:, n] = arrays[n][ix[:, n]]\n",
        "\n",
        "    return ix\n",
        "\n",
        "\n",
        "cartesian(([1, 2, 3], [4, 5], [6, 7]))\n"
      ]
    },
    {
      "cell_type": "markdown",
      "metadata": {
        "id": "zDdXjlw8iaXE"
      },
      "source": [
        "#### 91. How to create a record array from a regular array? (★★★)\n",
        "\n",
        "(**hint**: np.core.records.fromarrays)\n"
      ]
    },
    {
      "cell_type": "code",
      "execution_count": 140,
      "metadata": {
        "id": "NLN44pNqiaXE"
      },
      "outputs": [
        {
          "data": {
            "text/plain": [
              "rec.array([(b'Hello', 2.5, 3), (b'World', 3.6, 2)],\n",
              "          dtype=[('col1', 'S8'), ('col2', '<f8'), ('col3', '<i8')])"
            ]
          },
          "execution_count": 140,
          "metadata": {},
          "output_type": "execute_result"
        }
      ],
      "source": [
        "Z = np.array([(\"Hello\", 2.5, 3),\n",
        "              (\"World\", 3.6, 2)])\n",
        "R = np.core.records.fromarrays(Z.T,\n",
        "                               names='col1, col2, col3',\n",
        "                               formats='S8, f8, i8')\n",
        "R\n"
      ]
    },
    {
      "cell_type": "markdown",
      "metadata": {
        "id": "ilo-XPumiaXF"
      },
      "source": [
        "#### 92. Consider a large vector Z, compute Z to the power of 3 using 3 different methods (★★★)\n",
        "\n",
        "(**hint**: np.power, \\*, np.einsum)\n"
      ]
    },
    {
      "cell_type": "code",
      "execution_count": 141,
      "metadata": {
        "id": "BlPh-cIgiaXF"
      },
      "outputs": [],
      "source": [
        "x = np.random.rand(int(5e7))\n",
        "\n",
        "np.power(x, 3)\n",
        "x*x*x\n",
        "np.einsum('i,i,i->i', x, x, x)\n"
      ]
    },
    {
      "cell_type": "markdown",
      "metadata": {
        "id": "nX_ynm5iiaXF"
      },
      "source": [
        "#### 93. Consider two arrays A and B of shape (8,3) and (2,2). How to find rows of A that contain elements of each row of B regardless of the order of the elements in B? (★★★)\n",
        "\n",
        "(**hint**: np.where)\n"
      ]
    },
    {
      "cell_type": "code",
      "execution_count": null,
      "metadata": {
        "id": "EvDW3QzwiaXF"
      },
      "outputs": [
        {
          "data": {
            "text/plain": [
              "array([1, 5, 6])"
            ]
          },
          "execution_count": 41,
          "metadata": {},
          "output_type": "execute_result"
        }
      ],
      "source": [
        "A = np.random.randint(0, 5, (8, 3))\n",
        "B = np.random.randint(0, 5, (2, 2))\n",
        "\n",
        "C = (A[..., np.newaxis, np.newaxis] == B)\n",
        "rows = np.where(C.any((3, 1)).all(1))[0]\n",
        "rows\n"
      ]
    },
    {
      "cell_type": "markdown",
      "metadata": {
        "id": "b39WiKEziaXF"
      },
      "source": [
        "#### 94. Considering a 10x3 matrix, extract rows with unequal values (e.g. \\[2,2,3\\]) (★★★)\n"
      ]
    },
    {
      "cell_type": "code",
      "execution_count": null,
      "metadata": {
        "id": "CErbzspYiaXG"
      },
      "outputs": [
        {
          "name": "stdout",
          "output_type": "stream",
          "text": [
            "[[3 2 1]\n",
            " [4 1 3]\n",
            " [3 3 3]\n",
            " [2 2 2]\n",
            " [2 2 0]\n",
            " [0 2 4]\n",
            " [0 1 2]\n",
            " [3 3 4]\n",
            " [2 4 0]\n",
            " [0 4 2]]\n",
            "[[3 2 1]\n",
            " [4 1 3]\n",
            " [2 2 0]\n",
            " [0 2 4]\n",
            " [0 1 2]\n",
            " [3 3 4]\n",
            " [2 4 0]\n",
            " [0 4 2]]\n"
          ]
        },
        {
          "data": {
            "text/plain": [
              "array([[3, 2, 1],\n",
              "       [4, 1, 3],\n",
              "       [2, 2, 0],\n",
              "       [0, 2, 4],\n",
              "       [0, 1, 2],\n",
              "       [3, 3, 4],\n",
              "       [2, 4, 0],\n",
              "       [0, 4, 2]])"
            ]
          },
          "execution_count": 42,
          "metadata": {},
          "output_type": "execute_result"
        }
      ],
      "source": [
        "Z = np.random.randint(0, 5, (10, 3))\n",
        "print(Z)\n",
        "E = np.all(Z[:, 1:] == Z[:, :-1], axis=1)\n",
        "U = Z[~E]\n",
        "print(U)\n",
        "U = Z[Z.max(axis=1) != Z.min(axis=1), :]\n",
        "U\n"
      ]
    },
    {
      "cell_type": "markdown",
      "metadata": {
        "id": "iY7vt2gyiaXG"
      },
      "source": [
        "#### 95. Convert a vector of ints into a matrix binary representation (★★★)\n",
        "\n",
        "(**hint**: np.unpackbits)\n"
      ]
    },
    {
      "cell_type": "code",
      "execution_count": null,
      "metadata": {
        "id": "IBhraJk2iaXG"
      },
      "outputs": [
        {
          "data": {
            "text/plain": [
              "array([[0, 0, 0, 0, 0, 0, 0, 0],\n",
              "       [0, 0, 0, 0, 0, 0, 0, 1],\n",
              "       [0, 0, 0, 0, 0, 0, 1, 0],\n",
              "       [0, 0, 0, 0, 0, 0, 1, 1],\n",
              "       [0, 0, 0, 0, 1, 1, 1, 1],\n",
              "       [0, 0, 0, 1, 0, 0, 0, 0],\n",
              "       [0, 0, 1, 0, 0, 0, 0, 0],\n",
              "       [0, 1, 0, 0, 0, 0, 0, 0],\n",
              "       [1, 0, 0, 0, 0, 0, 0, 0]])"
            ]
          },
          "execution_count": 43,
          "metadata": {},
          "output_type": "execute_result"
        }
      ],
      "source": [
        "I = np.array([0, 1, 2, 3, 15, 16, 32, 64, 128])\n",
        "B = ((I.reshape(-1, 1) & (2**np.arange(8))) != 0).astype(int)\n",
        "B[:, ::-1]\n"
      ]
    },
    {
      "cell_type": "markdown",
      "metadata": {
        "id": "bIqrj1CQiaXG"
      },
      "source": [
        "#### 96. Given a two dimensional array, how to extract unique rows? (★★★)\n",
        "\n",
        "(**hint**: np.ascontiguousarray)\n"
      ]
    },
    {
      "cell_type": "code",
      "execution_count": null,
      "metadata": {
        "id": "asE0HHApiaXG"
      },
      "outputs": [
        {
          "data": {
            "text/plain": [
              "array([[0, 1, 0],\n",
              "       [0, 1, 1],\n",
              "       [1, 0, 0],\n",
              "       [1, 0, 1],\n",
              "       [1, 1, 1]])"
            ]
          },
          "execution_count": 44,
          "metadata": {},
          "output_type": "execute_result"
        }
      ],
      "source": [
        "Z = np.random.randint(0, 2, (6, 3))\n",
        "T = np.ascontiguousarray(Z).view(\n",
        "    np.dtype((np.void, Z.dtype.itemsize * Z.shape[1])))\n",
        "_, idx = np.unique(T, return_index=True)\n",
        "uZ = Z[idx]\n",
        "uZ\n"
      ]
    },
    {
      "cell_type": "markdown",
      "metadata": {
        "id": "deA99hITiaXH"
      },
      "source": [
        "#### 97. Considering 2 vectors A & B, write the einsum equivalent of inner, outer, sum, and mul function (★★★)\n",
        "\n",
        "(**hint**: np.einsum)\n"
      ]
    },
    {
      "cell_type": "code",
      "execution_count": null,
      "metadata": {
        "id": "t5YpyUakiaXI"
      },
      "outputs": [
        {
          "data": {
            "text/plain": [
              "array([[2.58655829e-01, 8.29660194e-03, 3.15147828e-01, 1.98396532e-01,\n",
              "        9.91403534e-02, 1.56199760e-01, 1.10765975e-01, 7.91421838e-02,\n",
              "        2.93850653e-01, 3.67918921e-01],\n",
              "       [1.13817236e-02, 3.65078298e-04, 1.38675609e-02, 8.73011250e-03,\n",
              "        4.36250790e-03, 6.87331310e-03, 4.87407422e-03, 3.48252140e-03,\n",
              "        1.29304138e-02, 1.61896659e-02],\n",
              "       [3.57124918e-01, 1.14550803e-02, 4.35123162e-01, 2.73925183e-01,\n",
              "        1.36882632e-01, 2.15664294e-01, 1.52934074e-01, 1.09271251e-01,\n",
              "        4.05718250e-01, 5.07983969e-01],\n",
              "       [1.76313497e-01, 5.65540282e-03, 2.14821433e-01, 1.35237572e-01,\n",
              "        6.75793100e-02, 1.06474021e-01, 7.55039487e-02, 5.39474996e-02,\n",
              "        2.00304151e-01, 2.50793002e-01],\n",
              "       [3.38249410e-01, 1.08496326e-02, 4.12125129e-01, 2.59447120e-01,\n",
              "        1.29647827e-01, 2.04265557e-01, 1.44850885e-01, 1.03495820e-01,\n",
              "        3.84274387e-01, 4.81134945e-01],\n",
              "       [5.80381972e-02, 1.86162370e-03, 7.07140909e-02, 4.45169827e-02,\n",
              "        2.22454967e-02, 3.50487076e-02, 2.48540987e-02, 1.77582299e-02,\n",
              "        6.59353483e-02, 8.25550733e-02],\n",
              "       [5.51226167e-01, 1.76810401e-02, 6.71617299e-01, 4.22806477e-01,\n",
              "        2.11279820e-01, 3.32880166e-01, 2.36055395e-01, 1.68661355e-01,\n",
              "        6.26230500e-01, 7.84078741e-01],\n",
              "       [3.50999083e-01, 1.12585890e-02, 4.27659408e-01, 2.69226490e-01,\n",
              "        1.34534657e-01, 2.11964961e-01, 1.50310766e-01, 1.07396899e-01,\n",
              "        3.98758885e-01, 4.99270419e-01],\n",
              "       [4.96634270e-01, 1.59299594e-02, 6.05102202e-01, 3.80932907e-01,\n",
              "        1.90355258e-01, 2.99912646e-01, 2.12677129e-01, 1.51957607e-01,\n",
              "        5.64210385e-01, 7.06425777e-01],\n",
              "       [2.72864464e-01, 8.75235579e-03, 3.32459715e-01, 2.09294968e-01,\n",
              "        1.04586390e-01, 1.64780218e-01, 1.16850637e-01, 8.34896692e-02,\n",
              "        3.09992631e-01, 3.88129661e-01]])"
            ]
          },
          "execution_count": 45,
          "metadata": {},
          "output_type": "execute_result"
        }
      ],
      "source": [
        "A = np.random.uniform(0, 1, 10)\n",
        "B = np.random.uniform(0, 1, 10)\n",
        "\n",
        "np.einsum('i->', A)       # np.sum(A)\n",
        "np.einsum('i,i->i', A, B)  # A * B\n",
        "np.einsum('i,i', A, B)    # np.inner(A, B)\n",
        "np.einsum('i,j->ij', A, B)    # np.outer(A, B)\n"
      ]
    },
    {
      "cell_type": "markdown",
      "metadata": {
        "id": "333mmfj2iaXI"
      },
      "source": [
        "#### 98. Considering a path described by two vectors (X,Y), how to sample it using equidistant samples (★★★)?\n",
        "\n",
        "(**hint**: np.cumsum, np.interp)\n"
      ]
    },
    {
      "cell_type": "code",
      "execution_count": null,
      "metadata": {
        "collapsed": true,
        "id": "Dbl2f93piaXI"
      },
      "outputs": [],
      "source": [
        "phi = np.arange(0, 10*np.pi, 0.1)\n",
        "a = 1\n",
        "x = a*phi*np.cos(phi)\n",
        "y = a*phi*np.sin(phi)\n",
        "\n",
        "dr = (np.diff(x)**2 + np.diff(y)**2)**.5  # segment lengths\n",
        "r = np.zeros_like(x)\n",
        "r[1:] = np.cumsum(dr)                # integrate path\n",
        "r_int = np.linspace(0, r.max(), 200)  # regular spaced path\n",
        "x_int = np.interp(r_int, r, x)       # integrate path\n",
        "y_int = np.interp(r_int, r, y)\n"
      ]
    },
    {
      "cell_type": "markdown",
      "metadata": {
        "id": "1Me8OUrAiaXI"
      },
      "source": [
        "#### 99. Given an integer n and a 2D array X, select from X the rows which can be interpreted as draws from a multinomial distribution with n degrees, i.e., the rows which only contain integers and which sum to n. (★★★)\n",
        "\n",
        "(**hint**: np.logical_and.reduce, np.mod)\n"
      ]
    },
    {
      "cell_type": "code",
      "execution_count": null,
      "metadata": {
        "id": "suubfqEAiaXI"
      },
      "outputs": [
        {
          "data": {
            "text/plain": [
              "array([[2., 0., 1., 1.]])"
            ]
          },
          "execution_count": 49,
          "metadata": {},
          "output_type": "execute_result"
        }
      ],
      "source": [
        "X = np.asarray([[1.0, 0.0, 3.0, 8.0],\n",
        "                [2.0, 0.0, 1.0, 1.0],\n",
        "                [1.5, 2.5, 1.0, 0.0]])\n",
        "n = 4\n",
        "M = np.logical_and.reduce(np.mod(X, 1) == 0, axis=-1)\n",
        "M &= (X.sum(axis=-1) == n)\n",
        "X[M]\n"
      ]
    },
    {
      "cell_type": "markdown",
      "metadata": {
        "id": "RoMZrnuYiaXI"
      },
      "source": [
        "#### 100. Compute bootstrapped 95% confidence intervals for the mean of a 1D array X (i.e., resample the elements of an array with replacement N times, compute the mean of each sample, and then compute percentiles over the means). (★★★)\n",
        "\n",
        "(**hint**: np.percentile)\n"
      ]
    },
    {
      "cell_type": "code",
      "execution_count": null,
      "metadata": {
        "id": "yY7iDkv-iaXJ"
      },
      "outputs": [
        {
          "data": {
            "text/plain": [
              "array([-0.29605434,  0.12171489])"
            ]
          },
          "execution_count": 48,
          "metadata": {},
          "output_type": "execute_result"
        }
      ],
      "source": [
        "X = np.random.randn(100)  # random 1D array\n",
        "N = 1000  # number of bootstrap samples\n",
        "idx = np.random.randint(0, X.size, (N, X.size))\n",
        "means = X[idx].mean(axis=1)\n",
        "confint = np.percentile(means, [2.5, 97.5])\n",
        "confint\n"
      ]
    }
  ],
  "metadata": {
    "colab": {
      "name": "Numpy_tasks.ipynb",
      "provenance": []
    },
    "kernelspec": {
      "display_name": "Python 3",
      "language": "python",
      "name": "python3"
    },
    "language_info": {
      "codemirror_mode": {
        "name": "ipython",
        "version": 3
      },
      "file_extension": ".py",
      "mimetype": "text/x-python",
      "name": "python",
      "nbconvert_exporter": "python",
      "pygments_lexer": "ipython3",
      "version": "3.8.10"
    }
  },
  "nbformat": 4,
  "nbformat_minor": 0
}
